{
  "metadata": {
    "kernelspec": {
      "display_name": "Python 3",
      "name": "python3"
    },
    "language_info": {
      "name": "python",
      "version": "3.10.13",
      "mimetype": "text/x-python",
      "codemirror_mode": {
        "name": "ipython",
        "version": 3
      },
      "pygments_lexer": "ipython3",
      "nbconvert_exporter": "python",
      "file_extension": ".py"
    },
    "kaggle": {
      "accelerator": "nvidiaTeslaT4",
      "dataSources": [
        {
          "sourceId": 8114493,
          "sourceType": "datasetVersion",
          "datasetId": 4793883
        }
      ],
      "dockerImageVersionId": 30683,
      "isInternetEnabled": true,
      "language": "python",
      "sourceType": "notebook",
      "isGpuEnabled": true
    },
    "colab": {
      "provenance": [],
      "gpuType": "T4"
    },
    "accelerator": "GPU",
    "widgets": {
      "application/vnd.jupyter.widget-state+json": {
        "5ed63cc868084a24b98e59376fd5dfed": {
          "model_module": "@jupyter-widgets/controls",
          "model_name": "HBoxModel",
          "model_module_version": "1.5.0",
          "state": {
            "_dom_classes": [],
            "_model_module": "@jupyter-widgets/controls",
            "_model_module_version": "1.5.0",
            "_model_name": "HBoxModel",
            "_view_count": null,
            "_view_module": "@jupyter-widgets/controls",
            "_view_module_version": "1.5.0",
            "_view_name": "HBoxView",
            "box_style": "",
            "children": [
              "IPY_MODEL_628f949f076e49c6be7d5939c53cea6c",
              "IPY_MODEL_80a5b0220e914a568e0ca74e72bde742",
              "IPY_MODEL_09f904847eda4a97ab2e4a5fcb2f4bfc"
            ],
            "layout": "IPY_MODEL_e9910fd6c8894ba28c994c7ddf998f59"
          }
        },
        "628f949f076e49c6be7d5939c53cea6c": {
          "model_module": "@jupyter-widgets/controls",
          "model_name": "HTMLModel",
          "model_module_version": "1.5.0",
          "state": {
            "_dom_classes": [],
            "_model_module": "@jupyter-widgets/controls",
            "_model_module_version": "1.5.0",
            "_model_name": "HTMLModel",
            "_view_count": null,
            "_view_module": "@jupyter-widgets/controls",
            "_view_module_version": "1.5.0",
            "_view_name": "HTMLView",
            "description": "",
            "description_tooltip": null,
            "layout": "IPY_MODEL_46df318e589941d2b1a3aa18cd3b68cc",
            "placeholder": "​",
            "style": "IPY_MODEL_2e8d18ba9f094354abecb9dd3c1bccab",
            "value": "tokenizer_config.json: 100%"
          }
        },
        "80a5b0220e914a568e0ca74e72bde742": {
          "model_module": "@jupyter-widgets/controls",
          "model_name": "FloatProgressModel",
          "model_module_version": "1.5.0",
          "state": {
            "_dom_classes": [],
            "_model_module": "@jupyter-widgets/controls",
            "_model_module_version": "1.5.0",
            "_model_name": "FloatProgressModel",
            "_view_count": null,
            "_view_module": "@jupyter-widgets/controls",
            "_view_module_version": "1.5.0",
            "_view_name": "ProgressView",
            "bar_style": "success",
            "description": "",
            "description_tooltip": null,
            "layout": "IPY_MODEL_95e21e99dd604deba7e467de729a08b1",
            "max": 51,
            "min": 0,
            "orientation": "horizontal",
            "style": "IPY_MODEL_eb7e5e366c7b4b0bb6162950025ae76f",
            "value": 51
          }
        },
        "09f904847eda4a97ab2e4a5fcb2f4bfc": {
          "model_module": "@jupyter-widgets/controls",
          "model_name": "HTMLModel",
          "model_module_version": "1.5.0",
          "state": {
            "_dom_classes": [],
            "_model_module": "@jupyter-widgets/controls",
            "_model_module_version": "1.5.0",
            "_model_name": "HTMLModel",
            "_view_count": null,
            "_view_module": "@jupyter-widgets/controls",
            "_view_module_version": "1.5.0",
            "_view_name": "HTMLView",
            "description": "",
            "description_tooltip": null,
            "layout": "IPY_MODEL_8b4bb2246be6462ba22bc96829d6325b",
            "placeholder": "​",
            "style": "IPY_MODEL_022f5d74e0da465baf45da3bd0c01db4",
            "value": " 51.0/51.0 [00:00&lt;00:00, 3.46kB/s]"
          }
        },
        "e9910fd6c8894ba28c994c7ddf998f59": {
          "model_module": "@jupyter-widgets/base",
          "model_name": "LayoutModel",
          "model_module_version": "1.2.0",
          "state": {
            "_model_module": "@jupyter-widgets/base",
            "_model_module_version": "1.2.0",
            "_model_name": "LayoutModel",
            "_view_count": null,
            "_view_module": "@jupyter-widgets/base",
            "_view_module_version": "1.2.0",
            "_view_name": "LayoutView",
            "align_content": null,
            "align_items": null,
            "align_self": null,
            "border": null,
            "bottom": null,
            "display": null,
            "flex": null,
            "flex_flow": null,
            "grid_area": null,
            "grid_auto_columns": null,
            "grid_auto_flow": null,
            "grid_auto_rows": null,
            "grid_column": null,
            "grid_gap": null,
            "grid_row": null,
            "grid_template_areas": null,
            "grid_template_columns": null,
            "grid_template_rows": null,
            "height": null,
            "justify_content": null,
            "justify_items": null,
            "left": null,
            "margin": null,
            "max_height": null,
            "max_width": null,
            "min_height": null,
            "min_width": null,
            "object_fit": null,
            "object_position": null,
            "order": null,
            "overflow": null,
            "overflow_x": null,
            "overflow_y": null,
            "padding": null,
            "right": null,
            "top": null,
            "visibility": null,
            "width": null
          }
        },
        "46df318e589941d2b1a3aa18cd3b68cc": {
          "model_module": "@jupyter-widgets/base",
          "model_name": "LayoutModel",
          "model_module_version": "1.2.0",
          "state": {
            "_model_module": "@jupyter-widgets/base",
            "_model_module_version": "1.2.0",
            "_model_name": "LayoutModel",
            "_view_count": null,
            "_view_module": "@jupyter-widgets/base",
            "_view_module_version": "1.2.0",
            "_view_name": "LayoutView",
            "align_content": null,
            "align_items": null,
            "align_self": null,
            "border": null,
            "bottom": null,
            "display": null,
            "flex": null,
            "flex_flow": null,
            "grid_area": null,
            "grid_auto_columns": null,
            "grid_auto_flow": null,
            "grid_auto_rows": null,
            "grid_column": null,
            "grid_gap": null,
            "grid_row": null,
            "grid_template_areas": null,
            "grid_template_columns": null,
            "grid_template_rows": null,
            "height": null,
            "justify_content": null,
            "justify_items": null,
            "left": null,
            "margin": null,
            "max_height": null,
            "max_width": null,
            "min_height": null,
            "min_width": null,
            "object_fit": null,
            "object_position": null,
            "order": null,
            "overflow": null,
            "overflow_x": null,
            "overflow_y": null,
            "padding": null,
            "right": null,
            "top": null,
            "visibility": null,
            "width": null
          }
        },
        "2e8d18ba9f094354abecb9dd3c1bccab": {
          "model_module": "@jupyter-widgets/controls",
          "model_name": "DescriptionStyleModel",
          "model_module_version": "1.5.0",
          "state": {
            "_model_module": "@jupyter-widgets/controls",
            "_model_module_version": "1.5.0",
            "_model_name": "DescriptionStyleModel",
            "_view_count": null,
            "_view_module": "@jupyter-widgets/base",
            "_view_module_version": "1.2.0",
            "_view_name": "StyleView",
            "description_width": ""
          }
        },
        "95e21e99dd604deba7e467de729a08b1": {
          "model_module": "@jupyter-widgets/base",
          "model_name": "LayoutModel",
          "model_module_version": "1.2.0",
          "state": {
            "_model_module": "@jupyter-widgets/base",
            "_model_module_version": "1.2.0",
            "_model_name": "LayoutModel",
            "_view_count": null,
            "_view_module": "@jupyter-widgets/base",
            "_view_module_version": "1.2.0",
            "_view_name": "LayoutView",
            "align_content": null,
            "align_items": null,
            "align_self": null,
            "border": null,
            "bottom": null,
            "display": null,
            "flex": null,
            "flex_flow": null,
            "grid_area": null,
            "grid_auto_columns": null,
            "grid_auto_flow": null,
            "grid_auto_rows": null,
            "grid_column": null,
            "grid_gap": null,
            "grid_row": null,
            "grid_template_areas": null,
            "grid_template_columns": null,
            "grid_template_rows": null,
            "height": null,
            "justify_content": null,
            "justify_items": null,
            "left": null,
            "margin": null,
            "max_height": null,
            "max_width": null,
            "min_height": null,
            "min_width": null,
            "object_fit": null,
            "object_position": null,
            "order": null,
            "overflow": null,
            "overflow_x": null,
            "overflow_y": null,
            "padding": null,
            "right": null,
            "top": null,
            "visibility": null,
            "width": null
          }
        },
        "eb7e5e366c7b4b0bb6162950025ae76f": {
          "model_module": "@jupyter-widgets/controls",
          "model_name": "ProgressStyleModel",
          "model_module_version": "1.5.0",
          "state": {
            "_model_module": "@jupyter-widgets/controls",
            "_model_module_version": "1.5.0",
            "_model_name": "ProgressStyleModel",
            "_view_count": null,
            "_view_module": "@jupyter-widgets/base",
            "_view_module_version": "1.2.0",
            "_view_name": "StyleView",
            "bar_color": null,
            "description_width": ""
          }
        },
        "8b4bb2246be6462ba22bc96829d6325b": {
          "model_module": "@jupyter-widgets/base",
          "model_name": "LayoutModel",
          "model_module_version": "1.2.0",
          "state": {
            "_model_module": "@jupyter-widgets/base",
            "_model_module_version": "1.2.0",
            "_model_name": "LayoutModel",
            "_view_count": null,
            "_view_module": "@jupyter-widgets/base",
            "_view_module_version": "1.2.0",
            "_view_name": "LayoutView",
            "align_content": null,
            "align_items": null,
            "align_self": null,
            "border": null,
            "bottom": null,
            "display": null,
            "flex": null,
            "flex_flow": null,
            "grid_area": null,
            "grid_auto_columns": null,
            "grid_auto_flow": null,
            "grid_auto_rows": null,
            "grid_column": null,
            "grid_gap": null,
            "grid_row": null,
            "grid_template_areas": null,
            "grid_template_columns": null,
            "grid_template_rows": null,
            "height": null,
            "justify_content": null,
            "justify_items": null,
            "left": null,
            "margin": null,
            "max_height": null,
            "max_width": null,
            "min_height": null,
            "min_width": null,
            "object_fit": null,
            "object_position": null,
            "order": null,
            "overflow": null,
            "overflow_x": null,
            "overflow_y": null,
            "padding": null,
            "right": null,
            "top": null,
            "visibility": null,
            "width": null
          }
        },
        "022f5d74e0da465baf45da3bd0c01db4": {
          "model_module": "@jupyter-widgets/controls",
          "model_name": "DescriptionStyleModel",
          "model_module_version": "1.5.0",
          "state": {
            "_model_module": "@jupyter-widgets/controls",
            "_model_module_version": "1.5.0",
            "_model_name": "DescriptionStyleModel",
            "_view_count": null,
            "_view_module": "@jupyter-widgets/base",
            "_view_module_version": "1.2.0",
            "_view_name": "StyleView",
            "description_width": ""
          }
        },
        "77996b36b5c041799e76d45399c1f149": {
          "model_module": "@jupyter-widgets/controls",
          "model_name": "HBoxModel",
          "model_module_version": "1.5.0",
          "state": {
            "_dom_classes": [],
            "_model_module": "@jupyter-widgets/controls",
            "_model_module_version": "1.5.0",
            "_model_name": "HBoxModel",
            "_view_count": null,
            "_view_module": "@jupyter-widgets/controls",
            "_view_module_version": "1.5.0",
            "_view_name": "HBoxView",
            "box_style": "",
            "children": [
              "IPY_MODEL_2233664fbfc0402abc9ace5353580fd3",
              "IPY_MODEL_6a858fd3193b4bb3bb78b652596f21df",
              "IPY_MODEL_42a69aef98784256a2d74c94257e8362"
            ],
            "layout": "IPY_MODEL_1e816dfa452c411e8e6c80d0b66a03e3"
          }
        },
        "2233664fbfc0402abc9ace5353580fd3": {
          "model_module": "@jupyter-widgets/controls",
          "model_name": "HTMLModel",
          "model_module_version": "1.5.0",
          "state": {
            "_dom_classes": [],
            "_model_module": "@jupyter-widgets/controls",
            "_model_module_version": "1.5.0",
            "_model_name": "HTMLModel",
            "_view_count": null,
            "_view_module": "@jupyter-widgets/controls",
            "_view_module_version": "1.5.0",
            "_view_name": "HTMLView",
            "description": "",
            "description_tooltip": null,
            "layout": "IPY_MODEL_9b820f0600e6476dbab4d73efa986cf4",
            "placeholder": "​",
            "style": "IPY_MODEL_e415d97961464380b409659e07ae7f40",
            "value": "vocab.txt: 100%"
          }
        },
        "6a858fd3193b4bb3bb78b652596f21df": {
          "model_module": "@jupyter-widgets/controls",
          "model_name": "FloatProgressModel",
          "model_module_version": "1.5.0",
          "state": {
            "_dom_classes": [],
            "_model_module": "@jupyter-widgets/controls",
            "_model_module_version": "1.5.0",
            "_model_name": "FloatProgressModel",
            "_view_count": null,
            "_view_module": "@jupyter-widgets/controls",
            "_view_module_version": "1.5.0",
            "_view_name": "ProgressView",
            "bar_style": "success",
            "description": "",
            "description_tooltip": null,
            "layout": "IPY_MODEL_f5caa626758d41a394896ba2e3282c60",
            "max": 213450,
            "min": 0,
            "orientation": "horizontal",
            "style": "IPY_MODEL_8ffc23ef54b847b98077fd303c527ac5",
            "value": 213450
          }
        },
        "42a69aef98784256a2d74c94257e8362": {
          "model_module": "@jupyter-widgets/controls",
          "model_name": "HTMLModel",
          "model_module_version": "1.5.0",
          "state": {
            "_dom_classes": [],
            "_model_module": "@jupyter-widgets/controls",
            "_model_module_version": "1.5.0",
            "_model_name": "HTMLModel",
            "_view_count": null,
            "_view_module": "@jupyter-widgets/controls",
            "_view_module_version": "1.5.0",
            "_view_name": "HTMLView",
            "description": "",
            "description_tooltip": null,
            "layout": "IPY_MODEL_e7ae0c52dd5c4f26ba0ab4dca94880e6",
            "placeholder": "​",
            "style": "IPY_MODEL_1a62892c7c074f30bbc64ae0ab3806d7",
            "value": " 213k/213k [00:00&lt;00:00, 1.61MB/s]"
          }
        },
        "1e816dfa452c411e8e6c80d0b66a03e3": {
          "model_module": "@jupyter-widgets/base",
          "model_name": "LayoutModel",
          "model_module_version": "1.2.0",
          "state": {
            "_model_module": "@jupyter-widgets/base",
            "_model_module_version": "1.2.0",
            "_model_name": "LayoutModel",
            "_view_count": null,
            "_view_module": "@jupyter-widgets/base",
            "_view_module_version": "1.2.0",
            "_view_name": "LayoutView",
            "align_content": null,
            "align_items": null,
            "align_self": null,
            "border": null,
            "bottom": null,
            "display": null,
            "flex": null,
            "flex_flow": null,
            "grid_area": null,
            "grid_auto_columns": null,
            "grid_auto_flow": null,
            "grid_auto_rows": null,
            "grid_column": null,
            "grid_gap": null,
            "grid_row": null,
            "grid_template_areas": null,
            "grid_template_columns": null,
            "grid_template_rows": null,
            "height": null,
            "justify_content": null,
            "justify_items": null,
            "left": null,
            "margin": null,
            "max_height": null,
            "max_width": null,
            "min_height": null,
            "min_width": null,
            "object_fit": null,
            "object_position": null,
            "order": null,
            "overflow": null,
            "overflow_x": null,
            "overflow_y": null,
            "padding": null,
            "right": null,
            "top": null,
            "visibility": null,
            "width": null
          }
        },
        "9b820f0600e6476dbab4d73efa986cf4": {
          "model_module": "@jupyter-widgets/base",
          "model_name": "LayoutModel",
          "model_module_version": "1.2.0",
          "state": {
            "_model_module": "@jupyter-widgets/base",
            "_model_module_version": "1.2.0",
            "_model_name": "LayoutModel",
            "_view_count": null,
            "_view_module": "@jupyter-widgets/base",
            "_view_module_version": "1.2.0",
            "_view_name": "LayoutView",
            "align_content": null,
            "align_items": null,
            "align_self": null,
            "border": null,
            "bottom": null,
            "display": null,
            "flex": null,
            "flex_flow": null,
            "grid_area": null,
            "grid_auto_columns": null,
            "grid_auto_flow": null,
            "grid_auto_rows": null,
            "grid_column": null,
            "grid_gap": null,
            "grid_row": null,
            "grid_template_areas": null,
            "grid_template_columns": null,
            "grid_template_rows": null,
            "height": null,
            "justify_content": null,
            "justify_items": null,
            "left": null,
            "margin": null,
            "max_height": null,
            "max_width": null,
            "min_height": null,
            "min_width": null,
            "object_fit": null,
            "object_position": null,
            "order": null,
            "overflow": null,
            "overflow_x": null,
            "overflow_y": null,
            "padding": null,
            "right": null,
            "top": null,
            "visibility": null,
            "width": null
          }
        },
        "e415d97961464380b409659e07ae7f40": {
          "model_module": "@jupyter-widgets/controls",
          "model_name": "DescriptionStyleModel",
          "model_module_version": "1.5.0",
          "state": {
            "_model_module": "@jupyter-widgets/controls",
            "_model_module_version": "1.5.0",
            "_model_name": "DescriptionStyleModel",
            "_view_count": null,
            "_view_module": "@jupyter-widgets/base",
            "_view_module_version": "1.2.0",
            "_view_name": "StyleView",
            "description_width": ""
          }
        },
        "f5caa626758d41a394896ba2e3282c60": {
          "model_module": "@jupyter-widgets/base",
          "model_name": "LayoutModel",
          "model_module_version": "1.2.0",
          "state": {
            "_model_module": "@jupyter-widgets/base",
            "_model_module_version": "1.2.0",
            "_model_name": "LayoutModel",
            "_view_count": null,
            "_view_module": "@jupyter-widgets/base",
            "_view_module_version": "1.2.0",
            "_view_name": "LayoutView",
            "align_content": null,
            "align_items": null,
            "align_self": null,
            "border": null,
            "bottom": null,
            "display": null,
            "flex": null,
            "flex_flow": null,
            "grid_area": null,
            "grid_auto_columns": null,
            "grid_auto_flow": null,
            "grid_auto_rows": null,
            "grid_column": null,
            "grid_gap": null,
            "grid_row": null,
            "grid_template_areas": null,
            "grid_template_columns": null,
            "grid_template_rows": null,
            "height": null,
            "justify_content": null,
            "justify_items": null,
            "left": null,
            "margin": null,
            "max_height": null,
            "max_width": null,
            "min_height": null,
            "min_width": null,
            "object_fit": null,
            "object_position": null,
            "order": null,
            "overflow": null,
            "overflow_x": null,
            "overflow_y": null,
            "padding": null,
            "right": null,
            "top": null,
            "visibility": null,
            "width": null
          }
        },
        "8ffc23ef54b847b98077fd303c527ac5": {
          "model_module": "@jupyter-widgets/controls",
          "model_name": "ProgressStyleModel",
          "model_module_version": "1.5.0",
          "state": {
            "_model_module": "@jupyter-widgets/controls",
            "_model_module_version": "1.5.0",
            "_model_name": "ProgressStyleModel",
            "_view_count": null,
            "_view_module": "@jupyter-widgets/base",
            "_view_module_version": "1.2.0",
            "_view_name": "StyleView",
            "bar_color": null,
            "description_width": ""
          }
        },
        "e7ae0c52dd5c4f26ba0ab4dca94880e6": {
          "model_module": "@jupyter-widgets/base",
          "model_name": "LayoutModel",
          "model_module_version": "1.2.0",
          "state": {
            "_model_module": "@jupyter-widgets/base",
            "_model_module_version": "1.2.0",
            "_model_name": "LayoutModel",
            "_view_count": null,
            "_view_module": "@jupyter-widgets/base",
            "_view_module_version": "1.2.0",
            "_view_name": "LayoutView",
            "align_content": null,
            "align_items": null,
            "align_self": null,
            "border": null,
            "bottom": null,
            "display": null,
            "flex": null,
            "flex_flow": null,
            "grid_area": null,
            "grid_auto_columns": null,
            "grid_auto_flow": null,
            "grid_auto_rows": null,
            "grid_column": null,
            "grid_gap": null,
            "grid_row": null,
            "grid_template_areas": null,
            "grid_template_columns": null,
            "grid_template_rows": null,
            "height": null,
            "justify_content": null,
            "justify_items": null,
            "left": null,
            "margin": null,
            "max_height": null,
            "max_width": null,
            "min_height": null,
            "min_width": null,
            "object_fit": null,
            "object_position": null,
            "order": null,
            "overflow": null,
            "overflow_x": null,
            "overflow_y": null,
            "padding": null,
            "right": null,
            "top": null,
            "visibility": null,
            "width": null
          }
        },
        "1a62892c7c074f30bbc64ae0ab3806d7": {
          "model_module": "@jupyter-widgets/controls",
          "model_name": "DescriptionStyleModel",
          "model_module_version": "1.5.0",
          "state": {
            "_model_module": "@jupyter-widgets/controls",
            "_model_module_version": "1.5.0",
            "_model_name": "DescriptionStyleModel",
            "_view_count": null,
            "_view_module": "@jupyter-widgets/base",
            "_view_module_version": "1.2.0",
            "_view_name": "StyleView",
            "description_width": ""
          }
        },
        "c7fbff6cb3764b0291ded11f43826f96": {
          "model_module": "@jupyter-widgets/controls",
          "model_name": "HBoxModel",
          "model_module_version": "1.5.0",
          "state": {
            "_dom_classes": [],
            "_model_module": "@jupyter-widgets/controls",
            "_model_module_version": "1.5.0",
            "_model_name": "HBoxModel",
            "_view_count": null,
            "_view_module": "@jupyter-widgets/controls",
            "_view_module_version": "1.5.0",
            "_view_name": "HBoxView",
            "box_style": "",
            "children": [
              "IPY_MODEL_9b234a4f289544b4a941534f1925147b",
              "IPY_MODEL_f193774377b944e8ad6851a77e71ada6",
              "IPY_MODEL_85910d231b3a42c1bdcbd831d2b1b4b4"
            ],
            "layout": "IPY_MODEL_9bddb84cdc7147529d22485cabab1c80"
          }
        },
        "9b234a4f289544b4a941534f1925147b": {
          "model_module": "@jupyter-widgets/controls",
          "model_name": "HTMLModel",
          "model_module_version": "1.5.0",
          "state": {
            "_dom_classes": [],
            "_model_module": "@jupyter-widgets/controls",
            "_model_module_version": "1.5.0",
            "_model_name": "HTMLModel",
            "_view_count": null,
            "_view_module": "@jupyter-widgets/controls",
            "_view_module_version": "1.5.0",
            "_view_name": "HTMLView",
            "description": "",
            "description_tooltip": null,
            "layout": "IPY_MODEL_17c66ca2192f450388e49882c7605ee0",
            "placeholder": "​",
            "style": "IPY_MODEL_7d5546958b074609ab4bbe28c2c6c7df",
            "value": "special_tokens_map.json: 100%"
          }
        },
        "f193774377b944e8ad6851a77e71ada6": {
          "model_module": "@jupyter-widgets/controls",
          "model_name": "FloatProgressModel",
          "model_module_version": "1.5.0",
          "state": {
            "_dom_classes": [],
            "_model_module": "@jupyter-widgets/controls",
            "_model_module_version": "1.5.0",
            "_model_name": "FloatProgressModel",
            "_view_count": null,
            "_view_module": "@jupyter-widgets/controls",
            "_view_module_version": "1.5.0",
            "_view_name": "ProgressView",
            "bar_style": "success",
            "description": "",
            "description_tooltip": null,
            "layout": "IPY_MODEL_651842c49d714459a90017ba54096a91",
            "max": 112,
            "min": 0,
            "orientation": "horizontal",
            "style": "IPY_MODEL_b84686a009f14d9b9a07f6804ad1d804",
            "value": 112
          }
        },
        "85910d231b3a42c1bdcbd831d2b1b4b4": {
          "model_module": "@jupyter-widgets/controls",
          "model_name": "HTMLModel",
          "model_module_version": "1.5.0",
          "state": {
            "_dom_classes": [],
            "_model_module": "@jupyter-widgets/controls",
            "_model_module_version": "1.5.0",
            "_model_name": "HTMLModel",
            "_view_count": null,
            "_view_module": "@jupyter-widgets/controls",
            "_view_module_version": "1.5.0",
            "_view_name": "HTMLView",
            "description": "",
            "description_tooltip": null,
            "layout": "IPY_MODEL_a22e85d8b5eb4cd2b8c8eab04a0171f1",
            "placeholder": "​",
            "style": "IPY_MODEL_ac72df2e9fbd488ebf63fab42c7f8fca",
            "value": " 112/112 [00:00&lt;00:00, 5.33kB/s]"
          }
        },
        "9bddb84cdc7147529d22485cabab1c80": {
          "model_module": "@jupyter-widgets/base",
          "model_name": "LayoutModel",
          "model_module_version": "1.2.0",
          "state": {
            "_model_module": "@jupyter-widgets/base",
            "_model_module_version": "1.2.0",
            "_model_name": "LayoutModel",
            "_view_count": null,
            "_view_module": "@jupyter-widgets/base",
            "_view_module_version": "1.2.0",
            "_view_name": "LayoutView",
            "align_content": null,
            "align_items": null,
            "align_self": null,
            "border": null,
            "bottom": null,
            "display": null,
            "flex": null,
            "flex_flow": null,
            "grid_area": null,
            "grid_auto_columns": null,
            "grid_auto_flow": null,
            "grid_auto_rows": null,
            "grid_column": null,
            "grid_gap": null,
            "grid_row": null,
            "grid_template_areas": null,
            "grid_template_columns": null,
            "grid_template_rows": null,
            "height": null,
            "justify_content": null,
            "justify_items": null,
            "left": null,
            "margin": null,
            "max_height": null,
            "max_width": null,
            "min_height": null,
            "min_width": null,
            "object_fit": null,
            "object_position": null,
            "order": null,
            "overflow": null,
            "overflow_x": null,
            "overflow_y": null,
            "padding": null,
            "right": null,
            "top": null,
            "visibility": null,
            "width": null
          }
        },
        "17c66ca2192f450388e49882c7605ee0": {
          "model_module": "@jupyter-widgets/base",
          "model_name": "LayoutModel",
          "model_module_version": "1.2.0",
          "state": {
            "_model_module": "@jupyter-widgets/base",
            "_model_module_version": "1.2.0",
            "_model_name": "LayoutModel",
            "_view_count": null,
            "_view_module": "@jupyter-widgets/base",
            "_view_module_version": "1.2.0",
            "_view_name": "LayoutView",
            "align_content": null,
            "align_items": null,
            "align_self": null,
            "border": null,
            "bottom": null,
            "display": null,
            "flex": null,
            "flex_flow": null,
            "grid_area": null,
            "grid_auto_columns": null,
            "grid_auto_flow": null,
            "grid_auto_rows": null,
            "grid_column": null,
            "grid_gap": null,
            "grid_row": null,
            "grid_template_areas": null,
            "grid_template_columns": null,
            "grid_template_rows": null,
            "height": null,
            "justify_content": null,
            "justify_items": null,
            "left": null,
            "margin": null,
            "max_height": null,
            "max_width": null,
            "min_height": null,
            "min_width": null,
            "object_fit": null,
            "object_position": null,
            "order": null,
            "overflow": null,
            "overflow_x": null,
            "overflow_y": null,
            "padding": null,
            "right": null,
            "top": null,
            "visibility": null,
            "width": null
          }
        },
        "7d5546958b074609ab4bbe28c2c6c7df": {
          "model_module": "@jupyter-widgets/controls",
          "model_name": "DescriptionStyleModel",
          "model_module_version": "1.5.0",
          "state": {
            "_model_module": "@jupyter-widgets/controls",
            "_model_module_version": "1.5.0",
            "_model_name": "DescriptionStyleModel",
            "_view_count": null,
            "_view_module": "@jupyter-widgets/base",
            "_view_module_version": "1.2.0",
            "_view_name": "StyleView",
            "description_width": ""
          }
        },
        "651842c49d714459a90017ba54096a91": {
          "model_module": "@jupyter-widgets/base",
          "model_name": "LayoutModel",
          "model_module_version": "1.2.0",
          "state": {
            "_model_module": "@jupyter-widgets/base",
            "_model_module_version": "1.2.0",
            "_model_name": "LayoutModel",
            "_view_count": null,
            "_view_module": "@jupyter-widgets/base",
            "_view_module_version": "1.2.0",
            "_view_name": "LayoutView",
            "align_content": null,
            "align_items": null,
            "align_self": null,
            "border": null,
            "bottom": null,
            "display": null,
            "flex": null,
            "flex_flow": null,
            "grid_area": null,
            "grid_auto_columns": null,
            "grid_auto_flow": null,
            "grid_auto_rows": null,
            "grid_column": null,
            "grid_gap": null,
            "grid_row": null,
            "grid_template_areas": null,
            "grid_template_columns": null,
            "grid_template_rows": null,
            "height": null,
            "justify_content": null,
            "justify_items": null,
            "left": null,
            "margin": null,
            "max_height": null,
            "max_width": null,
            "min_height": null,
            "min_width": null,
            "object_fit": null,
            "object_position": null,
            "order": null,
            "overflow": null,
            "overflow_x": null,
            "overflow_y": null,
            "padding": null,
            "right": null,
            "top": null,
            "visibility": null,
            "width": null
          }
        },
        "b84686a009f14d9b9a07f6804ad1d804": {
          "model_module": "@jupyter-widgets/controls",
          "model_name": "ProgressStyleModel",
          "model_module_version": "1.5.0",
          "state": {
            "_model_module": "@jupyter-widgets/controls",
            "_model_module_version": "1.5.0",
            "_model_name": "ProgressStyleModel",
            "_view_count": null,
            "_view_module": "@jupyter-widgets/base",
            "_view_module_version": "1.2.0",
            "_view_name": "StyleView",
            "bar_color": null,
            "description_width": ""
          }
        },
        "a22e85d8b5eb4cd2b8c8eab04a0171f1": {
          "model_module": "@jupyter-widgets/base",
          "model_name": "LayoutModel",
          "model_module_version": "1.2.0",
          "state": {
            "_model_module": "@jupyter-widgets/base",
            "_model_module_version": "1.2.0",
            "_model_name": "LayoutModel",
            "_view_count": null,
            "_view_module": "@jupyter-widgets/base",
            "_view_module_version": "1.2.0",
            "_view_name": "LayoutView",
            "align_content": null,
            "align_items": null,
            "align_self": null,
            "border": null,
            "bottom": null,
            "display": null,
            "flex": null,
            "flex_flow": null,
            "grid_area": null,
            "grid_auto_columns": null,
            "grid_auto_flow": null,
            "grid_auto_rows": null,
            "grid_column": null,
            "grid_gap": null,
            "grid_row": null,
            "grid_template_areas": null,
            "grid_template_columns": null,
            "grid_template_rows": null,
            "height": null,
            "justify_content": null,
            "justify_items": null,
            "left": null,
            "margin": null,
            "max_height": null,
            "max_width": null,
            "min_height": null,
            "min_width": null,
            "object_fit": null,
            "object_position": null,
            "order": null,
            "overflow": null,
            "overflow_x": null,
            "overflow_y": null,
            "padding": null,
            "right": null,
            "top": null,
            "visibility": null,
            "width": null
          }
        },
        "ac72df2e9fbd488ebf63fab42c7f8fca": {
          "model_module": "@jupyter-widgets/controls",
          "model_name": "DescriptionStyleModel",
          "model_module_version": "1.5.0",
          "state": {
            "_model_module": "@jupyter-widgets/controls",
            "_model_module_version": "1.5.0",
            "_model_name": "DescriptionStyleModel",
            "_view_count": null,
            "_view_module": "@jupyter-widgets/base",
            "_view_module_version": "1.2.0",
            "_view_name": "StyleView",
            "description_width": ""
          }
        },
        "87ee69243d8b409997c092b4a377f552": {
          "model_module": "@jupyter-widgets/controls",
          "model_name": "HBoxModel",
          "model_module_version": "1.5.0",
          "state": {
            "_dom_classes": [],
            "_model_module": "@jupyter-widgets/controls",
            "_model_module_version": "1.5.0",
            "_model_name": "HBoxModel",
            "_view_count": null,
            "_view_module": "@jupyter-widgets/controls",
            "_view_module_version": "1.5.0",
            "_view_name": "HBoxView",
            "box_style": "",
            "children": [
              "IPY_MODEL_d3467ddc2daa4eedbcd60a6c59c67c42",
              "IPY_MODEL_007ad3c48eff496d805040d1a0a10704",
              "IPY_MODEL_d7fda786b7e34293b4980b936ed3430f"
            ],
            "layout": "IPY_MODEL_bca5ed0e945e45f7aa387da48f32fb75"
          }
        },
        "d3467ddc2daa4eedbcd60a6c59c67c42": {
          "model_module": "@jupyter-widgets/controls",
          "model_name": "HTMLModel",
          "model_module_version": "1.5.0",
          "state": {
            "_dom_classes": [],
            "_model_module": "@jupyter-widgets/controls",
            "_model_module_version": "1.5.0",
            "_model_name": "HTMLModel",
            "_view_count": null,
            "_view_module": "@jupyter-widgets/controls",
            "_view_module_version": "1.5.0",
            "_view_name": "HTMLView",
            "description": "",
            "description_tooltip": null,
            "layout": "IPY_MODEL_cb434a6f2b794272ac4f3aef76fc6aa4",
            "placeholder": "​",
            "style": "IPY_MODEL_4d18251aea7a4b7eb580ad3dbd62d242",
            "value": "config.json: 100%"
          }
        },
        "007ad3c48eff496d805040d1a0a10704": {
          "model_module": "@jupyter-widgets/controls",
          "model_name": "FloatProgressModel",
          "model_module_version": "1.5.0",
          "state": {
            "_dom_classes": [],
            "_model_module": "@jupyter-widgets/controls",
            "_model_module_version": "1.5.0",
            "_model_name": "FloatProgressModel",
            "_view_count": null,
            "_view_module": "@jupyter-widgets/controls",
            "_view_module_version": "1.5.0",
            "_view_name": "ProgressView",
            "bar_style": "success",
            "description": "",
            "description_tooltip": null,
            "layout": "IPY_MODEL_1302613fbfcb4803b1862bb07a183af4",
            "max": 433,
            "min": 0,
            "orientation": "horizontal",
            "style": "IPY_MODEL_1b5795668ec04cc9a64f7efaad9c6f42",
            "value": 433
          }
        },
        "d7fda786b7e34293b4980b936ed3430f": {
          "model_module": "@jupyter-widgets/controls",
          "model_name": "HTMLModel",
          "model_module_version": "1.5.0",
          "state": {
            "_dom_classes": [],
            "_model_module": "@jupyter-widgets/controls",
            "_model_module_version": "1.5.0",
            "_model_name": "HTMLModel",
            "_view_count": null,
            "_view_module": "@jupyter-widgets/controls",
            "_view_module_version": "1.5.0",
            "_view_name": "HTMLView",
            "description": "",
            "description_tooltip": null,
            "layout": "IPY_MODEL_8a8008dc4ff74115af98057f80610739",
            "placeholder": "​",
            "style": "IPY_MODEL_bb9855afffc141b4b9d3c5eeb916d92c",
            "value": " 433/433 [00:00&lt;00:00, 30.5kB/s]"
          }
        },
        "bca5ed0e945e45f7aa387da48f32fb75": {
          "model_module": "@jupyter-widgets/base",
          "model_name": "LayoutModel",
          "model_module_version": "1.2.0",
          "state": {
            "_model_module": "@jupyter-widgets/base",
            "_model_module_version": "1.2.0",
            "_model_name": "LayoutModel",
            "_view_count": null,
            "_view_module": "@jupyter-widgets/base",
            "_view_module_version": "1.2.0",
            "_view_name": "LayoutView",
            "align_content": null,
            "align_items": null,
            "align_self": null,
            "border": null,
            "bottom": null,
            "display": null,
            "flex": null,
            "flex_flow": null,
            "grid_area": null,
            "grid_auto_columns": null,
            "grid_auto_flow": null,
            "grid_auto_rows": null,
            "grid_column": null,
            "grid_gap": null,
            "grid_row": null,
            "grid_template_areas": null,
            "grid_template_columns": null,
            "grid_template_rows": null,
            "height": null,
            "justify_content": null,
            "justify_items": null,
            "left": null,
            "margin": null,
            "max_height": null,
            "max_width": null,
            "min_height": null,
            "min_width": null,
            "object_fit": null,
            "object_position": null,
            "order": null,
            "overflow": null,
            "overflow_x": null,
            "overflow_y": null,
            "padding": null,
            "right": null,
            "top": null,
            "visibility": null,
            "width": null
          }
        },
        "cb434a6f2b794272ac4f3aef76fc6aa4": {
          "model_module": "@jupyter-widgets/base",
          "model_name": "LayoutModel",
          "model_module_version": "1.2.0",
          "state": {
            "_model_module": "@jupyter-widgets/base",
            "_model_module_version": "1.2.0",
            "_model_name": "LayoutModel",
            "_view_count": null,
            "_view_module": "@jupyter-widgets/base",
            "_view_module_version": "1.2.0",
            "_view_name": "LayoutView",
            "align_content": null,
            "align_items": null,
            "align_self": null,
            "border": null,
            "bottom": null,
            "display": null,
            "flex": null,
            "flex_flow": null,
            "grid_area": null,
            "grid_auto_columns": null,
            "grid_auto_flow": null,
            "grid_auto_rows": null,
            "grid_column": null,
            "grid_gap": null,
            "grid_row": null,
            "grid_template_areas": null,
            "grid_template_columns": null,
            "grid_template_rows": null,
            "height": null,
            "justify_content": null,
            "justify_items": null,
            "left": null,
            "margin": null,
            "max_height": null,
            "max_width": null,
            "min_height": null,
            "min_width": null,
            "object_fit": null,
            "object_position": null,
            "order": null,
            "overflow": null,
            "overflow_x": null,
            "overflow_y": null,
            "padding": null,
            "right": null,
            "top": null,
            "visibility": null,
            "width": null
          }
        },
        "4d18251aea7a4b7eb580ad3dbd62d242": {
          "model_module": "@jupyter-widgets/controls",
          "model_name": "DescriptionStyleModel",
          "model_module_version": "1.5.0",
          "state": {
            "_model_module": "@jupyter-widgets/controls",
            "_model_module_version": "1.5.0",
            "_model_name": "DescriptionStyleModel",
            "_view_count": null,
            "_view_module": "@jupyter-widgets/base",
            "_view_module_version": "1.2.0",
            "_view_name": "StyleView",
            "description_width": ""
          }
        },
        "1302613fbfcb4803b1862bb07a183af4": {
          "model_module": "@jupyter-widgets/base",
          "model_name": "LayoutModel",
          "model_module_version": "1.2.0",
          "state": {
            "_model_module": "@jupyter-widgets/base",
            "_model_module_version": "1.2.0",
            "_model_name": "LayoutModel",
            "_view_count": null,
            "_view_module": "@jupyter-widgets/base",
            "_view_module_version": "1.2.0",
            "_view_name": "LayoutView",
            "align_content": null,
            "align_items": null,
            "align_self": null,
            "border": null,
            "bottom": null,
            "display": null,
            "flex": null,
            "flex_flow": null,
            "grid_area": null,
            "grid_auto_columns": null,
            "grid_auto_flow": null,
            "grid_auto_rows": null,
            "grid_column": null,
            "grid_gap": null,
            "grid_row": null,
            "grid_template_areas": null,
            "grid_template_columns": null,
            "grid_template_rows": null,
            "height": null,
            "justify_content": null,
            "justify_items": null,
            "left": null,
            "margin": null,
            "max_height": null,
            "max_width": null,
            "min_height": null,
            "min_width": null,
            "object_fit": null,
            "object_position": null,
            "order": null,
            "overflow": null,
            "overflow_x": null,
            "overflow_y": null,
            "padding": null,
            "right": null,
            "top": null,
            "visibility": null,
            "width": null
          }
        },
        "1b5795668ec04cc9a64f7efaad9c6f42": {
          "model_module": "@jupyter-widgets/controls",
          "model_name": "ProgressStyleModel",
          "model_module_version": "1.5.0",
          "state": {
            "_model_module": "@jupyter-widgets/controls",
            "_model_module_version": "1.5.0",
            "_model_name": "ProgressStyleModel",
            "_view_count": null,
            "_view_module": "@jupyter-widgets/base",
            "_view_module_version": "1.2.0",
            "_view_name": "StyleView",
            "bar_color": null,
            "description_width": ""
          }
        },
        "8a8008dc4ff74115af98057f80610739": {
          "model_module": "@jupyter-widgets/base",
          "model_name": "LayoutModel",
          "model_module_version": "1.2.0",
          "state": {
            "_model_module": "@jupyter-widgets/base",
            "_model_module_version": "1.2.0",
            "_model_name": "LayoutModel",
            "_view_count": null,
            "_view_module": "@jupyter-widgets/base",
            "_view_module_version": "1.2.0",
            "_view_name": "LayoutView",
            "align_content": null,
            "align_items": null,
            "align_self": null,
            "border": null,
            "bottom": null,
            "display": null,
            "flex": null,
            "flex_flow": null,
            "grid_area": null,
            "grid_auto_columns": null,
            "grid_auto_flow": null,
            "grid_auto_rows": null,
            "grid_column": null,
            "grid_gap": null,
            "grid_row": null,
            "grid_template_areas": null,
            "grid_template_columns": null,
            "grid_template_rows": null,
            "height": null,
            "justify_content": null,
            "justify_items": null,
            "left": null,
            "margin": null,
            "max_height": null,
            "max_width": null,
            "min_height": null,
            "min_width": null,
            "object_fit": null,
            "object_position": null,
            "order": null,
            "overflow": null,
            "overflow_x": null,
            "overflow_y": null,
            "padding": null,
            "right": null,
            "top": null,
            "visibility": null,
            "width": null
          }
        },
        "bb9855afffc141b4b9d3c5eeb916d92c": {
          "model_module": "@jupyter-widgets/controls",
          "model_name": "DescriptionStyleModel",
          "model_module_version": "1.5.0",
          "state": {
            "_model_module": "@jupyter-widgets/controls",
            "_model_module_version": "1.5.0",
            "_model_name": "DescriptionStyleModel",
            "_view_count": null,
            "_view_module": "@jupyter-widgets/base",
            "_view_module_version": "1.2.0",
            "_view_name": "StyleView",
            "description_width": ""
          }
        },
        "24925188b5d04c63bfce790683b2bc4e": {
          "model_module": "@jupyter-widgets/controls",
          "model_name": "HBoxModel",
          "model_module_version": "1.5.0",
          "state": {
            "_dom_classes": [],
            "_model_module": "@jupyter-widgets/controls",
            "_model_module_version": "1.5.0",
            "_model_name": "HBoxModel",
            "_view_count": null,
            "_view_module": "@jupyter-widgets/controls",
            "_view_module_version": "1.5.0",
            "_view_name": "HBoxView",
            "box_style": "",
            "children": [
              "IPY_MODEL_1de47a51ae7146efb3c624d27955511e",
              "IPY_MODEL_e73031cb9ec244c68cfa7ba222f724ab",
              "IPY_MODEL_218d21712f5e48b98895f8f3121f90bc"
            ],
            "layout": "IPY_MODEL_928cc07e8d7640aba29053c71fea5167"
          }
        },
        "1de47a51ae7146efb3c624d27955511e": {
          "model_module": "@jupyter-widgets/controls",
          "model_name": "HTMLModel",
          "model_module_version": "1.5.0",
          "state": {
            "_dom_classes": [],
            "_model_module": "@jupyter-widgets/controls",
            "_model_module_version": "1.5.0",
            "_model_name": "HTMLModel",
            "_view_count": null,
            "_view_module": "@jupyter-widgets/controls",
            "_view_module_version": "1.5.0",
            "_view_name": "HTMLView",
            "description": "",
            "description_tooltip": null,
            "layout": "IPY_MODEL_90d15ac225b2433fa60f8f8fe667bbc2",
            "placeholder": "​",
            "style": "IPY_MODEL_b647ea587f024ca59539bba63c8df28f",
            "value": "tokenizer_config.json: 100%"
          }
        },
        "e73031cb9ec244c68cfa7ba222f724ab": {
          "model_module": "@jupyter-widgets/controls",
          "model_name": "FloatProgressModel",
          "model_module_version": "1.5.0",
          "state": {
            "_dom_classes": [],
            "_model_module": "@jupyter-widgets/controls",
            "_model_module_version": "1.5.0",
            "_model_name": "FloatProgressModel",
            "_view_count": null,
            "_view_module": "@jupyter-widgets/controls",
            "_view_module_version": "1.5.0",
            "_view_name": "ProgressView",
            "bar_style": "success",
            "description": "",
            "description_tooltip": null,
            "layout": "IPY_MODEL_b2a193e9277f4bfb965896c20b9a8833",
            "max": 48,
            "min": 0,
            "orientation": "horizontal",
            "style": "IPY_MODEL_924c264f86344bc6b3a479eda83479bb",
            "value": 48
          }
        },
        "218d21712f5e48b98895f8f3121f90bc": {
          "model_module": "@jupyter-widgets/controls",
          "model_name": "HTMLModel",
          "model_module_version": "1.5.0",
          "state": {
            "_dom_classes": [],
            "_model_module": "@jupyter-widgets/controls",
            "_model_module_version": "1.5.0",
            "_model_name": "HTMLModel",
            "_view_count": null,
            "_view_module": "@jupyter-widgets/controls",
            "_view_module_version": "1.5.0",
            "_view_name": "HTMLView",
            "description": "",
            "description_tooltip": null,
            "layout": "IPY_MODEL_f08fb27067644a4bb9b806bf6373f1bc",
            "placeholder": "​",
            "style": "IPY_MODEL_915940c6cb05457a88e8df66b0c53c3e",
            "value": " 48.0/48.0 [00:00&lt;00:00, 3.53kB/s]"
          }
        },
        "928cc07e8d7640aba29053c71fea5167": {
          "model_module": "@jupyter-widgets/base",
          "model_name": "LayoutModel",
          "model_module_version": "1.2.0",
          "state": {
            "_model_module": "@jupyter-widgets/base",
            "_model_module_version": "1.2.0",
            "_model_name": "LayoutModel",
            "_view_count": null,
            "_view_module": "@jupyter-widgets/base",
            "_view_module_version": "1.2.0",
            "_view_name": "LayoutView",
            "align_content": null,
            "align_items": null,
            "align_self": null,
            "border": null,
            "bottom": null,
            "display": null,
            "flex": null,
            "flex_flow": null,
            "grid_area": null,
            "grid_auto_columns": null,
            "grid_auto_flow": null,
            "grid_auto_rows": null,
            "grid_column": null,
            "grid_gap": null,
            "grid_row": null,
            "grid_template_areas": null,
            "grid_template_columns": null,
            "grid_template_rows": null,
            "height": null,
            "justify_content": null,
            "justify_items": null,
            "left": null,
            "margin": null,
            "max_height": null,
            "max_width": null,
            "min_height": null,
            "min_width": null,
            "object_fit": null,
            "object_position": null,
            "order": null,
            "overflow": null,
            "overflow_x": null,
            "overflow_y": null,
            "padding": null,
            "right": null,
            "top": null,
            "visibility": null,
            "width": null
          }
        },
        "90d15ac225b2433fa60f8f8fe667bbc2": {
          "model_module": "@jupyter-widgets/base",
          "model_name": "LayoutModel",
          "model_module_version": "1.2.0",
          "state": {
            "_model_module": "@jupyter-widgets/base",
            "_model_module_version": "1.2.0",
            "_model_name": "LayoutModel",
            "_view_count": null,
            "_view_module": "@jupyter-widgets/base",
            "_view_module_version": "1.2.0",
            "_view_name": "LayoutView",
            "align_content": null,
            "align_items": null,
            "align_self": null,
            "border": null,
            "bottom": null,
            "display": null,
            "flex": null,
            "flex_flow": null,
            "grid_area": null,
            "grid_auto_columns": null,
            "grid_auto_flow": null,
            "grid_auto_rows": null,
            "grid_column": null,
            "grid_gap": null,
            "grid_row": null,
            "grid_template_areas": null,
            "grid_template_columns": null,
            "grid_template_rows": null,
            "height": null,
            "justify_content": null,
            "justify_items": null,
            "left": null,
            "margin": null,
            "max_height": null,
            "max_width": null,
            "min_height": null,
            "min_width": null,
            "object_fit": null,
            "object_position": null,
            "order": null,
            "overflow": null,
            "overflow_x": null,
            "overflow_y": null,
            "padding": null,
            "right": null,
            "top": null,
            "visibility": null,
            "width": null
          }
        },
        "b647ea587f024ca59539bba63c8df28f": {
          "model_module": "@jupyter-widgets/controls",
          "model_name": "DescriptionStyleModel",
          "model_module_version": "1.5.0",
          "state": {
            "_model_module": "@jupyter-widgets/controls",
            "_model_module_version": "1.5.0",
            "_model_name": "DescriptionStyleModel",
            "_view_count": null,
            "_view_module": "@jupyter-widgets/base",
            "_view_module_version": "1.2.0",
            "_view_name": "StyleView",
            "description_width": ""
          }
        },
        "b2a193e9277f4bfb965896c20b9a8833": {
          "model_module": "@jupyter-widgets/base",
          "model_name": "LayoutModel",
          "model_module_version": "1.2.0",
          "state": {
            "_model_module": "@jupyter-widgets/base",
            "_model_module_version": "1.2.0",
            "_model_name": "LayoutModel",
            "_view_count": null,
            "_view_module": "@jupyter-widgets/base",
            "_view_module_version": "1.2.0",
            "_view_name": "LayoutView",
            "align_content": null,
            "align_items": null,
            "align_self": null,
            "border": null,
            "bottom": null,
            "display": null,
            "flex": null,
            "flex_flow": null,
            "grid_area": null,
            "grid_auto_columns": null,
            "grid_auto_flow": null,
            "grid_auto_rows": null,
            "grid_column": null,
            "grid_gap": null,
            "grid_row": null,
            "grid_template_areas": null,
            "grid_template_columns": null,
            "grid_template_rows": null,
            "height": null,
            "justify_content": null,
            "justify_items": null,
            "left": null,
            "margin": null,
            "max_height": null,
            "max_width": null,
            "min_height": null,
            "min_width": null,
            "object_fit": null,
            "object_position": null,
            "order": null,
            "overflow": null,
            "overflow_x": null,
            "overflow_y": null,
            "padding": null,
            "right": null,
            "top": null,
            "visibility": null,
            "width": null
          }
        },
        "924c264f86344bc6b3a479eda83479bb": {
          "model_module": "@jupyter-widgets/controls",
          "model_name": "ProgressStyleModel",
          "model_module_version": "1.5.0",
          "state": {
            "_model_module": "@jupyter-widgets/controls",
            "_model_module_version": "1.5.0",
            "_model_name": "ProgressStyleModel",
            "_view_count": null,
            "_view_module": "@jupyter-widgets/base",
            "_view_module_version": "1.2.0",
            "_view_name": "StyleView",
            "bar_color": null,
            "description_width": ""
          }
        },
        "f08fb27067644a4bb9b806bf6373f1bc": {
          "model_module": "@jupyter-widgets/base",
          "model_name": "LayoutModel",
          "model_module_version": "1.2.0",
          "state": {
            "_model_module": "@jupyter-widgets/base",
            "_model_module_version": "1.2.0",
            "_model_name": "LayoutModel",
            "_view_count": null,
            "_view_module": "@jupyter-widgets/base",
            "_view_module_version": "1.2.0",
            "_view_name": "LayoutView",
            "align_content": null,
            "align_items": null,
            "align_self": null,
            "border": null,
            "bottom": null,
            "display": null,
            "flex": null,
            "flex_flow": null,
            "grid_area": null,
            "grid_auto_columns": null,
            "grid_auto_flow": null,
            "grid_auto_rows": null,
            "grid_column": null,
            "grid_gap": null,
            "grid_row": null,
            "grid_template_areas": null,
            "grid_template_columns": null,
            "grid_template_rows": null,
            "height": null,
            "justify_content": null,
            "justify_items": null,
            "left": null,
            "margin": null,
            "max_height": null,
            "max_width": null,
            "min_height": null,
            "min_width": null,
            "object_fit": null,
            "object_position": null,
            "order": null,
            "overflow": null,
            "overflow_x": null,
            "overflow_y": null,
            "padding": null,
            "right": null,
            "top": null,
            "visibility": null,
            "width": null
          }
        },
        "915940c6cb05457a88e8df66b0c53c3e": {
          "model_module": "@jupyter-widgets/controls",
          "model_name": "DescriptionStyleModel",
          "model_module_version": "1.5.0",
          "state": {
            "_model_module": "@jupyter-widgets/controls",
            "_model_module_version": "1.5.0",
            "_model_name": "DescriptionStyleModel",
            "_view_count": null,
            "_view_module": "@jupyter-widgets/base",
            "_view_module_version": "1.2.0",
            "_view_name": "StyleView",
            "description_width": ""
          }
        },
        "4eb8e51bc2664e8c944bd64df5a42081": {
          "model_module": "@jupyter-widgets/controls",
          "model_name": "HBoxModel",
          "model_module_version": "1.5.0",
          "state": {
            "_dom_classes": [],
            "_model_module": "@jupyter-widgets/controls",
            "_model_module_version": "1.5.0",
            "_model_name": "HBoxModel",
            "_view_count": null,
            "_view_module": "@jupyter-widgets/controls",
            "_view_module_version": "1.5.0",
            "_view_name": "HBoxView",
            "box_style": "",
            "children": [
              "IPY_MODEL_a8c02ac3ff2b4f6582bb2d9581472e88",
              "IPY_MODEL_ab4e41d262d14e2389fdee8b9e60a66d",
              "IPY_MODEL_64414ac5597a4e4b8a1430afcc9ddd3b"
            ],
            "layout": "IPY_MODEL_4aaddfa3f6634d95a378d9e931cd7754"
          }
        },
        "a8c02ac3ff2b4f6582bb2d9581472e88": {
          "model_module": "@jupyter-widgets/controls",
          "model_name": "HTMLModel",
          "model_module_version": "1.5.0",
          "state": {
            "_dom_classes": [],
            "_model_module": "@jupyter-widgets/controls",
            "_model_module_version": "1.5.0",
            "_model_name": "HTMLModel",
            "_view_count": null,
            "_view_module": "@jupyter-widgets/controls",
            "_view_module_version": "1.5.0",
            "_view_name": "HTMLView",
            "description": "",
            "description_tooltip": null,
            "layout": "IPY_MODEL_8d4880ac19384b839910ade4a033e3b5",
            "placeholder": "​",
            "style": "IPY_MODEL_422ed6ee6a5c4dcdbc79aa742d2bb203",
            "value": "vocab.txt: 100%"
          }
        },
        "ab4e41d262d14e2389fdee8b9e60a66d": {
          "model_module": "@jupyter-widgets/controls",
          "model_name": "FloatProgressModel",
          "model_module_version": "1.5.0",
          "state": {
            "_dom_classes": [],
            "_model_module": "@jupyter-widgets/controls",
            "_model_module_version": "1.5.0",
            "_model_name": "FloatProgressModel",
            "_view_count": null,
            "_view_module": "@jupyter-widgets/controls",
            "_view_module_version": "1.5.0",
            "_view_name": "ProgressView",
            "bar_style": "success",
            "description": "",
            "description_tooltip": null,
            "layout": "IPY_MODEL_b5e10fa869824c179850e7302e5edcd5",
            "max": 231508,
            "min": 0,
            "orientation": "horizontal",
            "style": "IPY_MODEL_ef1702012fe5432eb5dd2e387809e329",
            "value": 231508
          }
        },
        "64414ac5597a4e4b8a1430afcc9ddd3b": {
          "model_module": "@jupyter-widgets/controls",
          "model_name": "HTMLModel",
          "model_module_version": "1.5.0",
          "state": {
            "_dom_classes": [],
            "_model_module": "@jupyter-widgets/controls",
            "_model_module_version": "1.5.0",
            "_model_name": "HTMLModel",
            "_view_count": null,
            "_view_module": "@jupyter-widgets/controls",
            "_view_module_version": "1.5.0",
            "_view_name": "HTMLView",
            "description": "",
            "description_tooltip": null,
            "layout": "IPY_MODEL_09012f9b2c3e4d9990c78ee6585581b1",
            "placeholder": "​",
            "style": "IPY_MODEL_4450c90cc77e45ec8029fa783c29b500",
            "value": " 232k/232k [00:00&lt;00:00, 947kB/s]"
          }
        },
        "4aaddfa3f6634d95a378d9e931cd7754": {
          "model_module": "@jupyter-widgets/base",
          "model_name": "LayoutModel",
          "model_module_version": "1.2.0",
          "state": {
            "_model_module": "@jupyter-widgets/base",
            "_model_module_version": "1.2.0",
            "_model_name": "LayoutModel",
            "_view_count": null,
            "_view_module": "@jupyter-widgets/base",
            "_view_module_version": "1.2.0",
            "_view_name": "LayoutView",
            "align_content": null,
            "align_items": null,
            "align_self": null,
            "border": null,
            "bottom": null,
            "display": null,
            "flex": null,
            "flex_flow": null,
            "grid_area": null,
            "grid_auto_columns": null,
            "grid_auto_flow": null,
            "grid_auto_rows": null,
            "grid_column": null,
            "grid_gap": null,
            "grid_row": null,
            "grid_template_areas": null,
            "grid_template_columns": null,
            "grid_template_rows": null,
            "height": null,
            "justify_content": null,
            "justify_items": null,
            "left": null,
            "margin": null,
            "max_height": null,
            "max_width": null,
            "min_height": null,
            "min_width": null,
            "object_fit": null,
            "object_position": null,
            "order": null,
            "overflow": null,
            "overflow_x": null,
            "overflow_y": null,
            "padding": null,
            "right": null,
            "top": null,
            "visibility": null,
            "width": null
          }
        },
        "8d4880ac19384b839910ade4a033e3b5": {
          "model_module": "@jupyter-widgets/base",
          "model_name": "LayoutModel",
          "model_module_version": "1.2.0",
          "state": {
            "_model_module": "@jupyter-widgets/base",
            "_model_module_version": "1.2.0",
            "_model_name": "LayoutModel",
            "_view_count": null,
            "_view_module": "@jupyter-widgets/base",
            "_view_module_version": "1.2.0",
            "_view_name": "LayoutView",
            "align_content": null,
            "align_items": null,
            "align_self": null,
            "border": null,
            "bottom": null,
            "display": null,
            "flex": null,
            "flex_flow": null,
            "grid_area": null,
            "grid_auto_columns": null,
            "grid_auto_flow": null,
            "grid_auto_rows": null,
            "grid_column": null,
            "grid_gap": null,
            "grid_row": null,
            "grid_template_areas": null,
            "grid_template_columns": null,
            "grid_template_rows": null,
            "height": null,
            "justify_content": null,
            "justify_items": null,
            "left": null,
            "margin": null,
            "max_height": null,
            "max_width": null,
            "min_height": null,
            "min_width": null,
            "object_fit": null,
            "object_position": null,
            "order": null,
            "overflow": null,
            "overflow_x": null,
            "overflow_y": null,
            "padding": null,
            "right": null,
            "top": null,
            "visibility": null,
            "width": null
          }
        },
        "422ed6ee6a5c4dcdbc79aa742d2bb203": {
          "model_module": "@jupyter-widgets/controls",
          "model_name": "DescriptionStyleModel",
          "model_module_version": "1.5.0",
          "state": {
            "_model_module": "@jupyter-widgets/controls",
            "_model_module_version": "1.5.0",
            "_model_name": "DescriptionStyleModel",
            "_view_count": null,
            "_view_module": "@jupyter-widgets/base",
            "_view_module_version": "1.2.0",
            "_view_name": "StyleView",
            "description_width": ""
          }
        },
        "b5e10fa869824c179850e7302e5edcd5": {
          "model_module": "@jupyter-widgets/base",
          "model_name": "LayoutModel",
          "model_module_version": "1.2.0",
          "state": {
            "_model_module": "@jupyter-widgets/base",
            "_model_module_version": "1.2.0",
            "_model_name": "LayoutModel",
            "_view_count": null,
            "_view_module": "@jupyter-widgets/base",
            "_view_module_version": "1.2.0",
            "_view_name": "LayoutView",
            "align_content": null,
            "align_items": null,
            "align_self": null,
            "border": null,
            "bottom": null,
            "display": null,
            "flex": null,
            "flex_flow": null,
            "grid_area": null,
            "grid_auto_columns": null,
            "grid_auto_flow": null,
            "grid_auto_rows": null,
            "grid_column": null,
            "grid_gap": null,
            "grid_row": null,
            "grid_template_areas": null,
            "grid_template_columns": null,
            "grid_template_rows": null,
            "height": null,
            "justify_content": null,
            "justify_items": null,
            "left": null,
            "margin": null,
            "max_height": null,
            "max_width": null,
            "min_height": null,
            "min_width": null,
            "object_fit": null,
            "object_position": null,
            "order": null,
            "overflow": null,
            "overflow_x": null,
            "overflow_y": null,
            "padding": null,
            "right": null,
            "top": null,
            "visibility": null,
            "width": null
          }
        },
        "ef1702012fe5432eb5dd2e387809e329": {
          "model_module": "@jupyter-widgets/controls",
          "model_name": "ProgressStyleModel",
          "model_module_version": "1.5.0",
          "state": {
            "_model_module": "@jupyter-widgets/controls",
            "_model_module_version": "1.5.0",
            "_model_name": "ProgressStyleModel",
            "_view_count": null,
            "_view_module": "@jupyter-widgets/base",
            "_view_module_version": "1.2.0",
            "_view_name": "StyleView",
            "bar_color": null,
            "description_width": ""
          }
        },
        "09012f9b2c3e4d9990c78ee6585581b1": {
          "model_module": "@jupyter-widgets/base",
          "model_name": "LayoutModel",
          "model_module_version": "1.2.0",
          "state": {
            "_model_module": "@jupyter-widgets/base",
            "_model_module_version": "1.2.0",
            "_model_name": "LayoutModel",
            "_view_count": null,
            "_view_module": "@jupyter-widgets/base",
            "_view_module_version": "1.2.0",
            "_view_name": "LayoutView",
            "align_content": null,
            "align_items": null,
            "align_self": null,
            "border": null,
            "bottom": null,
            "display": null,
            "flex": null,
            "flex_flow": null,
            "grid_area": null,
            "grid_auto_columns": null,
            "grid_auto_flow": null,
            "grid_auto_rows": null,
            "grid_column": null,
            "grid_gap": null,
            "grid_row": null,
            "grid_template_areas": null,
            "grid_template_columns": null,
            "grid_template_rows": null,
            "height": null,
            "justify_content": null,
            "justify_items": null,
            "left": null,
            "margin": null,
            "max_height": null,
            "max_width": null,
            "min_height": null,
            "min_width": null,
            "object_fit": null,
            "object_position": null,
            "order": null,
            "overflow": null,
            "overflow_x": null,
            "overflow_y": null,
            "padding": null,
            "right": null,
            "top": null,
            "visibility": null,
            "width": null
          }
        },
        "4450c90cc77e45ec8029fa783c29b500": {
          "model_module": "@jupyter-widgets/controls",
          "model_name": "DescriptionStyleModel",
          "model_module_version": "1.5.0",
          "state": {
            "_model_module": "@jupyter-widgets/controls",
            "_model_module_version": "1.5.0",
            "_model_name": "DescriptionStyleModel",
            "_view_count": null,
            "_view_module": "@jupyter-widgets/base",
            "_view_module_version": "1.2.0",
            "_view_name": "StyleView",
            "description_width": ""
          }
        },
        "df12925d747d4adbb67244ed569a6d8e": {
          "model_module": "@jupyter-widgets/controls",
          "model_name": "HBoxModel",
          "model_module_version": "1.5.0",
          "state": {
            "_dom_classes": [],
            "_model_module": "@jupyter-widgets/controls",
            "_model_module_version": "1.5.0",
            "_model_name": "HBoxModel",
            "_view_count": null,
            "_view_module": "@jupyter-widgets/controls",
            "_view_module_version": "1.5.0",
            "_view_name": "HBoxView",
            "box_style": "",
            "children": [
              "IPY_MODEL_b9e794e30d0947b88368042bf480bc0f",
              "IPY_MODEL_8f81faaa26cc43ab8e9883444676bde7",
              "IPY_MODEL_ec6d277456a141c0a5c7271000ded349"
            ],
            "layout": "IPY_MODEL_a7eb9609bc9a4c05a890ee8843d6e6b3"
          }
        },
        "b9e794e30d0947b88368042bf480bc0f": {
          "model_module": "@jupyter-widgets/controls",
          "model_name": "HTMLModel",
          "model_module_version": "1.5.0",
          "state": {
            "_dom_classes": [],
            "_model_module": "@jupyter-widgets/controls",
            "_model_module_version": "1.5.0",
            "_model_name": "HTMLModel",
            "_view_count": null,
            "_view_module": "@jupyter-widgets/controls",
            "_view_module_version": "1.5.0",
            "_view_name": "HTMLView",
            "description": "",
            "description_tooltip": null,
            "layout": "IPY_MODEL_fbe9aca87c0f4c79a672645d12a01fde",
            "placeholder": "​",
            "style": "IPY_MODEL_aa8734db9f664e9b97b95abe01296db4",
            "value": "tokenizer.json: 100%"
          }
        },
        "8f81faaa26cc43ab8e9883444676bde7": {
          "model_module": "@jupyter-widgets/controls",
          "model_name": "FloatProgressModel",
          "model_module_version": "1.5.0",
          "state": {
            "_dom_classes": [],
            "_model_module": "@jupyter-widgets/controls",
            "_model_module_version": "1.5.0",
            "_model_name": "FloatProgressModel",
            "_view_count": null,
            "_view_module": "@jupyter-widgets/controls",
            "_view_module_version": "1.5.0",
            "_view_name": "ProgressView",
            "bar_style": "success",
            "description": "",
            "description_tooltip": null,
            "layout": "IPY_MODEL_a1820777f8574c96a48cea6ca57ecdce",
            "max": 466062,
            "min": 0,
            "orientation": "horizontal",
            "style": "IPY_MODEL_9d01eafde5d84068a89e17ae6b406f70",
            "value": 466062
          }
        },
        "ec6d277456a141c0a5c7271000ded349": {
          "model_module": "@jupyter-widgets/controls",
          "model_name": "HTMLModel",
          "model_module_version": "1.5.0",
          "state": {
            "_dom_classes": [],
            "_model_module": "@jupyter-widgets/controls",
            "_model_module_version": "1.5.0",
            "_model_name": "HTMLModel",
            "_view_count": null,
            "_view_module": "@jupyter-widgets/controls",
            "_view_module_version": "1.5.0",
            "_view_name": "HTMLView",
            "description": "",
            "description_tooltip": null,
            "layout": "IPY_MODEL_bdaad1fc82f748a79d89c2d1b9a65c09",
            "placeholder": "​",
            "style": "IPY_MODEL_82127bd42b154066948376df2bd75bcd",
            "value": " 466k/466k [00:00&lt;00:00, 1.47MB/s]"
          }
        },
        "a7eb9609bc9a4c05a890ee8843d6e6b3": {
          "model_module": "@jupyter-widgets/base",
          "model_name": "LayoutModel",
          "model_module_version": "1.2.0",
          "state": {
            "_model_module": "@jupyter-widgets/base",
            "_model_module_version": "1.2.0",
            "_model_name": "LayoutModel",
            "_view_count": null,
            "_view_module": "@jupyter-widgets/base",
            "_view_module_version": "1.2.0",
            "_view_name": "LayoutView",
            "align_content": null,
            "align_items": null,
            "align_self": null,
            "border": null,
            "bottom": null,
            "display": null,
            "flex": null,
            "flex_flow": null,
            "grid_area": null,
            "grid_auto_columns": null,
            "grid_auto_flow": null,
            "grid_auto_rows": null,
            "grid_column": null,
            "grid_gap": null,
            "grid_row": null,
            "grid_template_areas": null,
            "grid_template_columns": null,
            "grid_template_rows": null,
            "height": null,
            "justify_content": null,
            "justify_items": null,
            "left": null,
            "margin": null,
            "max_height": null,
            "max_width": null,
            "min_height": null,
            "min_width": null,
            "object_fit": null,
            "object_position": null,
            "order": null,
            "overflow": null,
            "overflow_x": null,
            "overflow_y": null,
            "padding": null,
            "right": null,
            "top": null,
            "visibility": null,
            "width": null
          }
        },
        "fbe9aca87c0f4c79a672645d12a01fde": {
          "model_module": "@jupyter-widgets/base",
          "model_name": "LayoutModel",
          "model_module_version": "1.2.0",
          "state": {
            "_model_module": "@jupyter-widgets/base",
            "_model_module_version": "1.2.0",
            "_model_name": "LayoutModel",
            "_view_count": null,
            "_view_module": "@jupyter-widgets/base",
            "_view_module_version": "1.2.0",
            "_view_name": "LayoutView",
            "align_content": null,
            "align_items": null,
            "align_self": null,
            "border": null,
            "bottom": null,
            "display": null,
            "flex": null,
            "flex_flow": null,
            "grid_area": null,
            "grid_auto_columns": null,
            "grid_auto_flow": null,
            "grid_auto_rows": null,
            "grid_column": null,
            "grid_gap": null,
            "grid_row": null,
            "grid_template_areas": null,
            "grid_template_columns": null,
            "grid_template_rows": null,
            "height": null,
            "justify_content": null,
            "justify_items": null,
            "left": null,
            "margin": null,
            "max_height": null,
            "max_width": null,
            "min_height": null,
            "min_width": null,
            "object_fit": null,
            "object_position": null,
            "order": null,
            "overflow": null,
            "overflow_x": null,
            "overflow_y": null,
            "padding": null,
            "right": null,
            "top": null,
            "visibility": null,
            "width": null
          }
        },
        "aa8734db9f664e9b97b95abe01296db4": {
          "model_module": "@jupyter-widgets/controls",
          "model_name": "DescriptionStyleModel",
          "model_module_version": "1.5.0",
          "state": {
            "_model_module": "@jupyter-widgets/controls",
            "_model_module_version": "1.5.0",
            "_model_name": "DescriptionStyleModel",
            "_view_count": null,
            "_view_module": "@jupyter-widgets/base",
            "_view_module_version": "1.2.0",
            "_view_name": "StyleView",
            "description_width": ""
          }
        },
        "a1820777f8574c96a48cea6ca57ecdce": {
          "model_module": "@jupyter-widgets/base",
          "model_name": "LayoutModel",
          "model_module_version": "1.2.0",
          "state": {
            "_model_module": "@jupyter-widgets/base",
            "_model_module_version": "1.2.0",
            "_model_name": "LayoutModel",
            "_view_count": null,
            "_view_module": "@jupyter-widgets/base",
            "_view_module_version": "1.2.0",
            "_view_name": "LayoutView",
            "align_content": null,
            "align_items": null,
            "align_self": null,
            "border": null,
            "bottom": null,
            "display": null,
            "flex": null,
            "flex_flow": null,
            "grid_area": null,
            "grid_auto_columns": null,
            "grid_auto_flow": null,
            "grid_auto_rows": null,
            "grid_column": null,
            "grid_gap": null,
            "grid_row": null,
            "grid_template_areas": null,
            "grid_template_columns": null,
            "grid_template_rows": null,
            "height": null,
            "justify_content": null,
            "justify_items": null,
            "left": null,
            "margin": null,
            "max_height": null,
            "max_width": null,
            "min_height": null,
            "min_width": null,
            "object_fit": null,
            "object_position": null,
            "order": null,
            "overflow": null,
            "overflow_x": null,
            "overflow_y": null,
            "padding": null,
            "right": null,
            "top": null,
            "visibility": null,
            "width": null
          }
        },
        "9d01eafde5d84068a89e17ae6b406f70": {
          "model_module": "@jupyter-widgets/controls",
          "model_name": "ProgressStyleModel",
          "model_module_version": "1.5.0",
          "state": {
            "_model_module": "@jupyter-widgets/controls",
            "_model_module_version": "1.5.0",
            "_model_name": "ProgressStyleModel",
            "_view_count": null,
            "_view_module": "@jupyter-widgets/base",
            "_view_module_version": "1.2.0",
            "_view_name": "StyleView",
            "bar_color": null,
            "description_width": ""
          }
        },
        "bdaad1fc82f748a79d89c2d1b9a65c09": {
          "model_module": "@jupyter-widgets/base",
          "model_name": "LayoutModel",
          "model_module_version": "1.2.0",
          "state": {
            "_model_module": "@jupyter-widgets/base",
            "_model_module_version": "1.2.0",
            "_model_name": "LayoutModel",
            "_view_count": null,
            "_view_module": "@jupyter-widgets/base",
            "_view_module_version": "1.2.0",
            "_view_name": "LayoutView",
            "align_content": null,
            "align_items": null,
            "align_self": null,
            "border": null,
            "bottom": null,
            "display": null,
            "flex": null,
            "flex_flow": null,
            "grid_area": null,
            "grid_auto_columns": null,
            "grid_auto_flow": null,
            "grid_auto_rows": null,
            "grid_column": null,
            "grid_gap": null,
            "grid_row": null,
            "grid_template_areas": null,
            "grid_template_columns": null,
            "grid_template_rows": null,
            "height": null,
            "justify_content": null,
            "justify_items": null,
            "left": null,
            "margin": null,
            "max_height": null,
            "max_width": null,
            "min_height": null,
            "min_width": null,
            "object_fit": null,
            "object_position": null,
            "order": null,
            "overflow": null,
            "overflow_x": null,
            "overflow_y": null,
            "padding": null,
            "right": null,
            "top": null,
            "visibility": null,
            "width": null
          }
        },
        "82127bd42b154066948376df2bd75bcd": {
          "model_module": "@jupyter-widgets/controls",
          "model_name": "DescriptionStyleModel",
          "model_module_version": "1.5.0",
          "state": {
            "_model_module": "@jupyter-widgets/controls",
            "_model_module_version": "1.5.0",
            "_model_name": "DescriptionStyleModel",
            "_view_count": null,
            "_view_module": "@jupyter-widgets/base",
            "_view_module_version": "1.2.0",
            "_view_name": "StyleView",
            "description_width": ""
          }
        },
        "c3aa64a269da4157aaf9aacad34cb77d": {
          "model_module": "@jupyter-widgets/controls",
          "model_name": "HBoxModel",
          "model_module_version": "1.5.0",
          "state": {
            "_dom_classes": [],
            "_model_module": "@jupyter-widgets/controls",
            "_model_module_version": "1.5.0",
            "_model_name": "HBoxModel",
            "_view_count": null,
            "_view_module": "@jupyter-widgets/controls",
            "_view_module_version": "1.5.0",
            "_view_name": "HBoxView",
            "box_style": "",
            "children": [
              "IPY_MODEL_dd31d5ec4c8749f3862a60697c5505dd",
              "IPY_MODEL_7e09f9b4fdec4c9aa8fe46cc4a37de79",
              "IPY_MODEL_dc90cbfcbd614fe8a04979c74ec46521"
            ],
            "layout": "IPY_MODEL_f95a3e4b2ffe4b478d3e2d1865f08b1c"
          }
        },
        "dd31d5ec4c8749f3862a60697c5505dd": {
          "model_module": "@jupyter-widgets/controls",
          "model_name": "HTMLModel",
          "model_module_version": "1.5.0",
          "state": {
            "_dom_classes": [],
            "_model_module": "@jupyter-widgets/controls",
            "_model_module_version": "1.5.0",
            "_model_name": "HTMLModel",
            "_view_count": null,
            "_view_module": "@jupyter-widgets/controls",
            "_view_module_version": "1.5.0",
            "_view_name": "HTMLView",
            "description": "",
            "description_tooltip": null,
            "layout": "IPY_MODEL_fe42b585ce574ac3841d7e2ceccb1e85",
            "placeholder": "​",
            "style": "IPY_MODEL_67f1d37e65ff4da281e6e548209270f6",
            "value": "config.json: 100%"
          }
        },
        "7e09f9b4fdec4c9aa8fe46cc4a37de79": {
          "model_module": "@jupyter-widgets/controls",
          "model_name": "FloatProgressModel",
          "model_module_version": "1.5.0",
          "state": {
            "_dom_classes": [],
            "_model_module": "@jupyter-widgets/controls",
            "_model_module_version": "1.5.0",
            "_model_name": "FloatProgressModel",
            "_view_count": null,
            "_view_module": "@jupyter-widgets/controls",
            "_view_module_version": "1.5.0",
            "_view_name": "ProgressView",
            "bar_style": "success",
            "description": "",
            "description_tooltip": null,
            "layout": "IPY_MODEL_52cbb2ff72454acea1eabd0a67927c48",
            "max": 570,
            "min": 0,
            "orientation": "horizontal",
            "style": "IPY_MODEL_9ba3bf2d3c0e462aa470796d0021304d",
            "value": 570
          }
        },
        "dc90cbfcbd614fe8a04979c74ec46521": {
          "model_module": "@jupyter-widgets/controls",
          "model_name": "HTMLModel",
          "model_module_version": "1.5.0",
          "state": {
            "_dom_classes": [],
            "_model_module": "@jupyter-widgets/controls",
            "_model_module_version": "1.5.0",
            "_model_name": "HTMLModel",
            "_view_count": null,
            "_view_module": "@jupyter-widgets/controls",
            "_view_module_version": "1.5.0",
            "_view_name": "HTMLView",
            "description": "",
            "description_tooltip": null,
            "layout": "IPY_MODEL_3098417647c6471e951e1683696b2e5d",
            "placeholder": "​",
            "style": "IPY_MODEL_7f169b3a00df4ddd9e8cfc783bc41065",
            "value": " 570/570 [00:00&lt;00:00, 39.9kB/s]"
          }
        },
        "f95a3e4b2ffe4b478d3e2d1865f08b1c": {
          "model_module": "@jupyter-widgets/base",
          "model_name": "LayoutModel",
          "model_module_version": "1.2.0",
          "state": {
            "_model_module": "@jupyter-widgets/base",
            "_model_module_version": "1.2.0",
            "_model_name": "LayoutModel",
            "_view_count": null,
            "_view_module": "@jupyter-widgets/base",
            "_view_module_version": "1.2.0",
            "_view_name": "LayoutView",
            "align_content": null,
            "align_items": null,
            "align_self": null,
            "border": null,
            "bottom": null,
            "display": null,
            "flex": null,
            "flex_flow": null,
            "grid_area": null,
            "grid_auto_columns": null,
            "grid_auto_flow": null,
            "grid_auto_rows": null,
            "grid_column": null,
            "grid_gap": null,
            "grid_row": null,
            "grid_template_areas": null,
            "grid_template_columns": null,
            "grid_template_rows": null,
            "height": null,
            "justify_content": null,
            "justify_items": null,
            "left": null,
            "margin": null,
            "max_height": null,
            "max_width": null,
            "min_height": null,
            "min_width": null,
            "object_fit": null,
            "object_position": null,
            "order": null,
            "overflow": null,
            "overflow_x": null,
            "overflow_y": null,
            "padding": null,
            "right": null,
            "top": null,
            "visibility": null,
            "width": null
          }
        },
        "fe42b585ce574ac3841d7e2ceccb1e85": {
          "model_module": "@jupyter-widgets/base",
          "model_name": "LayoutModel",
          "model_module_version": "1.2.0",
          "state": {
            "_model_module": "@jupyter-widgets/base",
            "_model_module_version": "1.2.0",
            "_model_name": "LayoutModel",
            "_view_count": null,
            "_view_module": "@jupyter-widgets/base",
            "_view_module_version": "1.2.0",
            "_view_name": "LayoutView",
            "align_content": null,
            "align_items": null,
            "align_self": null,
            "border": null,
            "bottom": null,
            "display": null,
            "flex": null,
            "flex_flow": null,
            "grid_area": null,
            "grid_auto_columns": null,
            "grid_auto_flow": null,
            "grid_auto_rows": null,
            "grid_column": null,
            "grid_gap": null,
            "grid_row": null,
            "grid_template_areas": null,
            "grid_template_columns": null,
            "grid_template_rows": null,
            "height": null,
            "justify_content": null,
            "justify_items": null,
            "left": null,
            "margin": null,
            "max_height": null,
            "max_width": null,
            "min_height": null,
            "min_width": null,
            "object_fit": null,
            "object_position": null,
            "order": null,
            "overflow": null,
            "overflow_x": null,
            "overflow_y": null,
            "padding": null,
            "right": null,
            "top": null,
            "visibility": null,
            "width": null
          }
        },
        "67f1d37e65ff4da281e6e548209270f6": {
          "model_module": "@jupyter-widgets/controls",
          "model_name": "DescriptionStyleModel",
          "model_module_version": "1.5.0",
          "state": {
            "_model_module": "@jupyter-widgets/controls",
            "_model_module_version": "1.5.0",
            "_model_name": "DescriptionStyleModel",
            "_view_count": null,
            "_view_module": "@jupyter-widgets/base",
            "_view_module_version": "1.2.0",
            "_view_name": "StyleView",
            "description_width": ""
          }
        },
        "52cbb2ff72454acea1eabd0a67927c48": {
          "model_module": "@jupyter-widgets/base",
          "model_name": "LayoutModel",
          "model_module_version": "1.2.0",
          "state": {
            "_model_module": "@jupyter-widgets/base",
            "_model_module_version": "1.2.0",
            "_model_name": "LayoutModel",
            "_view_count": null,
            "_view_module": "@jupyter-widgets/base",
            "_view_module_version": "1.2.0",
            "_view_name": "LayoutView",
            "align_content": null,
            "align_items": null,
            "align_self": null,
            "border": null,
            "bottom": null,
            "display": null,
            "flex": null,
            "flex_flow": null,
            "grid_area": null,
            "grid_auto_columns": null,
            "grid_auto_flow": null,
            "grid_auto_rows": null,
            "grid_column": null,
            "grid_gap": null,
            "grid_row": null,
            "grid_template_areas": null,
            "grid_template_columns": null,
            "grid_template_rows": null,
            "height": null,
            "justify_content": null,
            "justify_items": null,
            "left": null,
            "margin": null,
            "max_height": null,
            "max_width": null,
            "min_height": null,
            "min_width": null,
            "object_fit": null,
            "object_position": null,
            "order": null,
            "overflow": null,
            "overflow_x": null,
            "overflow_y": null,
            "padding": null,
            "right": null,
            "top": null,
            "visibility": null,
            "width": null
          }
        },
        "9ba3bf2d3c0e462aa470796d0021304d": {
          "model_module": "@jupyter-widgets/controls",
          "model_name": "ProgressStyleModel",
          "model_module_version": "1.5.0",
          "state": {
            "_model_module": "@jupyter-widgets/controls",
            "_model_module_version": "1.5.0",
            "_model_name": "ProgressStyleModel",
            "_view_count": null,
            "_view_module": "@jupyter-widgets/base",
            "_view_module_version": "1.2.0",
            "_view_name": "StyleView",
            "bar_color": null,
            "description_width": ""
          }
        },
        "3098417647c6471e951e1683696b2e5d": {
          "model_module": "@jupyter-widgets/base",
          "model_name": "LayoutModel",
          "model_module_version": "1.2.0",
          "state": {
            "_model_module": "@jupyter-widgets/base",
            "_model_module_version": "1.2.0",
            "_model_name": "LayoutModel",
            "_view_count": null,
            "_view_module": "@jupyter-widgets/base",
            "_view_module_version": "1.2.0",
            "_view_name": "LayoutView",
            "align_content": null,
            "align_items": null,
            "align_self": null,
            "border": null,
            "bottom": null,
            "display": null,
            "flex": null,
            "flex_flow": null,
            "grid_area": null,
            "grid_auto_columns": null,
            "grid_auto_flow": null,
            "grid_auto_rows": null,
            "grid_column": null,
            "grid_gap": null,
            "grid_row": null,
            "grid_template_areas": null,
            "grid_template_columns": null,
            "grid_template_rows": null,
            "height": null,
            "justify_content": null,
            "justify_items": null,
            "left": null,
            "margin": null,
            "max_height": null,
            "max_width": null,
            "min_height": null,
            "min_width": null,
            "object_fit": null,
            "object_position": null,
            "order": null,
            "overflow": null,
            "overflow_x": null,
            "overflow_y": null,
            "padding": null,
            "right": null,
            "top": null,
            "visibility": null,
            "width": null
          }
        },
        "7f169b3a00df4ddd9e8cfc783bc41065": {
          "model_module": "@jupyter-widgets/controls",
          "model_name": "DescriptionStyleModel",
          "model_module_version": "1.5.0",
          "state": {
            "_model_module": "@jupyter-widgets/controls",
            "_model_module_version": "1.5.0",
            "_model_name": "DescriptionStyleModel",
            "_view_count": null,
            "_view_module": "@jupyter-widgets/base",
            "_view_module_version": "1.2.0",
            "_view_name": "StyleView",
            "description_width": ""
          }
        },
        "55196a055f7e46a0b693c01d8c442475": {
          "model_module": "@jupyter-widgets/controls",
          "model_name": "HBoxModel",
          "model_module_version": "1.5.0",
          "state": {
            "_dom_classes": [],
            "_model_module": "@jupyter-widgets/controls",
            "_model_module_version": "1.5.0",
            "_model_name": "HBoxModel",
            "_view_count": null,
            "_view_module": "@jupyter-widgets/controls",
            "_view_module_version": "1.5.0",
            "_view_name": "HBoxView",
            "box_style": "",
            "children": [
              "IPY_MODEL_04f1d690e8034ce09ecfb867bec8526e",
              "IPY_MODEL_9e42a506209642dc97df8a056319e830",
              "IPY_MODEL_a8af83bf5f68483c9ea0100ecad80d62"
            ],
            "layout": "IPY_MODEL_edddd90810264913a942c189a6f7c863"
          }
        },
        "04f1d690e8034ce09ecfb867bec8526e": {
          "model_module": "@jupyter-widgets/controls",
          "model_name": "HTMLModel",
          "model_module_version": "1.5.0",
          "state": {
            "_dom_classes": [],
            "_model_module": "@jupyter-widgets/controls",
            "_model_module_version": "1.5.0",
            "_model_name": "HTMLModel",
            "_view_count": null,
            "_view_module": "@jupyter-widgets/controls",
            "_view_module_version": "1.5.0",
            "_view_name": "HTMLView",
            "description": "",
            "description_tooltip": null,
            "layout": "IPY_MODEL_6d88e571259045eb88efa91120828ae3",
            "placeholder": "​",
            "style": "IPY_MODEL_c6f6a7ddc1bf4b4c86022d90ad4a82ca",
            "value": "model.safetensors: 100%"
          }
        },
        "9e42a506209642dc97df8a056319e830": {
          "model_module": "@jupyter-widgets/controls",
          "model_name": "FloatProgressModel",
          "model_module_version": "1.5.0",
          "state": {
            "_dom_classes": [],
            "_model_module": "@jupyter-widgets/controls",
            "_model_module_version": "1.5.0",
            "_model_name": "FloatProgressModel",
            "_view_count": null,
            "_view_module": "@jupyter-widgets/controls",
            "_view_module_version": "1.5.0",
            "_view_name": "ProgressView",
            "bar_style": "success",
            "description": "",
            "description_tooltip": null,
            "layout": "IPY_MODEL_40983135eb7049d4be53d3c331f3ef67",
            "max": 440449768,
            "min": 0,
            "orientation": "horizontal",
            "style": "IPY_MODEL_e2e4c001ca3947089f600bfe4f31c406",
            "value": 440449768
          }
        },
        "a8af83bf5f68483c9ea0100ecad80d62": {
          "model_module": "@jupyter-widgets/controls",
          "model_name": "HTMLModel",
          "model_module_version": "1.5.0",
          "state": {
            "_dom_classes": [],
            "_model_module": "@jupyter-widgets/controls",
            "_model_module_version": "1.5.0",
            "_model_name": "HTMLModel",
            "_view_count": null,
            "_view_module": "@jupyter-widgets/controls",
            "_view_module_version": "1.5.0",
            "_view_name": "HTMLView",
            "description": "",
            "description_tooltip": null,
            "layout": "IPY_MODEL_d34e06f7265149a1b7368b695f554fba",
            "placeholder": "​",
            "style": "IPY_MODEL_aa16ea2d9f1c4cdcafee30eedc13c7d5",
            "value": " 440M/440M [00:06&lt;00:00, 73.2MB/s]"
          }
        },
        "edddd90810264913a942c189a6f7c863": {
          "model_module": "@jupyter-widgets/base",
          "model_name": "LayoutModel",
          "model_module_version": "1.2.0",
          "state": {
            "_model_module": "@jupyter-widgets/base",
            "_model_module_version": "1.2.0",
            "_model_name": "LayoutModel",
            "_view_count": null,
            "_view_module": "@jupyter-widgets/base",
            "_view_module_version": "1.2.0",
            "_view_name": "LayoutView",
            "align_content": null,
            "align_items": null,
            "align_self": null,
            "border": null,
            "bottom": null,
            "display": null,
            "flex": null,
            "flex_flow": null,
            "grid_area": null,
            "grid_auto_columns": null,
            "grid_auto_flow": null,
            "grid_auto_rows": null,
            "grid_column": null,
            "grid_gap": null,
            "grid_row": null,
            "grid_template_areas": null,
            "grid_template_columns": null,
            "grid_template_rows": null,
            "height": null,
            "justify_content": null,
            "justify_items": null,
            "left": null,
            "margin": null,
            "max_height": null,
            "max_width": null,
            "min_height": null,
            "min_width": null,
            "object_fit": null,
            "object_position": null,
            "order": null,
            "overflow": null,
            "overflow_x": null,
            "overflow_y": null,
            "padding": null,
            "right": null,
            "top": null,
            "visibility": null,
            "width": null
          }
        },
        "6d88e571259045eb88efa91120828ae3": {
          "model_module": "@jupyter-widgets/base",
          "model_name": "LayoutModel",
          "model_module_version": "1.2.0",
          "state": {
            "_model_module": "@jupyter-widgets/base",
            "_model_module_version": "1.2.0",
            "_model_name": "LayoutModel",
            "_view_count": null,
            "_view_module": "@jupyter-widgets/base",
            "_view_module_version": "1.2.0",
            "_view_name": "LayoutView",
            "align_content": null,
            "align_items": null,
            "align_self": null,
            "border": null,
            "bottom": null,
            "display": null,
            "flex": null,
            "flex_flow": null,
            "grid_area": null,
            "grid_auto_columns": null,
            "grid_auto_flow": null,
            "grid_auto_rows": null,
            "grid_column": null,
            "grid_gap": null,
            "grid_row": null,
            "grid_template_areas": null,
            "grid_template_columns": null,
            "grid_template_rows": null,
            "height": null,
            "justify_content": null,
            "justify_items": null,
            "left": null,
            "margin": null,
            "max_height": null,
            "max_width": null,
            "min_height": null,
            "min_width": null,
            "object_fit": null,
            "object_position": null,
            "order": null,
            "overflow": null,
            "overflow_x": null,
            "overflow_y": null,
            "padding": null,
            "right": null,
            "top": null,
            "visibility": null,
            "width": null
          }
        },
        "c6f6a7ddc1bf4b4c86022d90ad4a82ca": {
          "model_module": "@jupyter-widgets/controls",
          "model_name": "DescriptionStyleModel",
          "model_module_version": "1.5.0",
          "state": {
            "_model_module": "@jupyter-widgets/controls",
            "_model_module_version": "1.5.0",
            "_model_name": "DescriptionStyleModel",
            "_view_count": null,
            "_view_module": "@jupyter-widgets/base",
            "_view_module_version": "1.2.0",
            "_view_name": "StyleView",
            "description_width": ""
          }
        },
        "40983135eb7049d4be53d3c331f3ef67": {
          "model_module": "@jupyter-widgets/base",
          "model_name": "LayoutModel",
          "model_module_version": "1.2.0",
          "state": {
            "_model_module": "@jupyter-widgets/base",
            "_model_module_version": "1.2.0",
            "_model_name": "LayoutModel",
            "_view_count": null,
            "_view_module": "@jupyter-widgets/base",
            "_view_module_version": "1.2.0",
            "_view_name": "LayoutView",
            "align_content": null,
            "align_items": null,
            "align_self": null,
            "border": null,
            "bottom": null,
            "display": null,
            "flex": null,
            "flex_flow": null,
            "grid_area": null,
            "grid_auto_columns": null,
            "grid_auto_flow": null,
            "grid_auto_rows": null,
            "grid_column": null,
            "grid_gap": null,
            "grid_row": null,
            "grid_template_areas": null,
            "grid_template_columns": null,
            "grid_template_rows": null,
            "height": null,
            "justify_content": null,
            "justify_items": null,
            "left": null,
            "margin": null,
            "max_height": null,
            "max_width": null,
            "min_height": null,
            "min_width": null,
            "object_fit": null,
            "object_position": null,
            "order": null,
            "overflow": null,
            "overflow_x": null,
            "overflow_y": null,
            "padding": null,
            "right": null,
            "top": null,
            "visibility": null,
            "width": null
          }
        },
        "e2e4c001ca3947089f600bfe4f31c406": {
          "model_module": "@jupyter-widgets/controls",
          "model_name": "ProgressStyleModel",
          "model_module_version": "1.5.0",
          "state": {
            "_model_module": "@jupyter-widgets/controls",
            "_model_module_version": "1.5.0",
            "_model_name": "ProgressStyleModel",
            "_view_count": null,
            "_view_module": "@jupyter-widgets/base",
            "_view_module_version": "1.2.0",
            "_view_name": "StyleView",
            "bar_color": null,
            "description_width": ""
          }
        },
        "d34e06f7265149a1b7368b695f554fba": {
          "model_module": "@jupyter-widgets/base",
          "model_name": "LayoutModel",
          "model_module_version": "1.2.0",
          "state": {
            "_model_module": "@jupyter-widgets/base",
            "_model_module_version": "1.2.0",
            "_model_name": "LayoutModel",
            "_view_count": null,
            "_view_module": "@jupyter-widgets/base",
            "_view_module_version": "1.2.0",
            "_view_name": "LayoutView",
            "align_content": null,
            "align_items": null,
            "align_self": null,
            "border": null,
            "bottom": null,
            "display": null,
            "flex": null,
            "flex_flow": null,
            "grid_area": null,
            "grid_auto_columns": null,
            "grid_auto_flow": null,
            "grid_auto_rows": null,
            "grid_column": null,
            "grid_gap": null,
            "grid_row": null,
            "grid_template_areas": null,
            "grid_template_columns": null,
            "grid_template_rows": null,
            "height": null,
            "justify_content": null,
            "justify_items": null,
            "left": null,
            "margin": null,
            "max_height": null,
            "max_width": null,
            "min_height": null,
            "min_width": null,
            "object_fit": null,
            "object_position": null,
            "order": null,
            "overflow": null,
            "overflow_x": null,
            "overflow_y": null,
            "padding": null,
            "right": null,
            "top": null,
            "visibility": null,
            "width": null
          }
        },
        "aa16ea2d9f1c4cdcafee30eedc13c7d5": {
          "model_module": "@jupyter-widgets/controls",
          "model_name": "DescriptionStyleModel",
          "model_module_version": "1.5.0",
          "state": {
            "_model_module": "@jupyter-widgets/controls",
            "_model_module_version": "1.5.0",
            "_model_name": "DescriptionStyleModel",
            "_view_count": null,
            "_view_module": "@jupyter-widgets/base",
            "_view_module_version": "1.2.0",
            "_view_name": "StyleView",
            "description_width": ""
          }
        }
      }
    }
  },
  "nbformat_minor": 0,
  "nbformat": 4,
  "cells": [
    {
      "cell_type": "code",
      "source": [
        "\"\"\"\n",
        "import numpy as np\n",
        "import pandas as pd\n",
        "\n",
        "import os\n",
        "for dirname, _, filenames in os.walk('/kaggle/input'):\n",
        "    for filename in filenames:\n",
        "        print(os.path.join(dirname, filename))\n",
        "\"\"\""
      ],
      "metadata": {
        "_uuid": "8f2839f25d086af736a60e9eeb907d3b93b6e0e5",
        "_cell_guid": "b1076dfc-b9ad-4769-8c92-a6c4dae69d19",
        "execution": {
          "iopub.status.busy": "2024-05-12T09:18:53.586396Z",
          "iopub.execute_input": "2024-05-12T09:18:53.586769Z",
          "iopub.status.idle": "2024-05-12T09:18:54.417319Z",
          "shell.execute_reply.started": "2024-05-12T09:18:53.586740Z",
          "shell.execute_reply": "2024-05-12T09:18:54.416403Z"
        },
        "trusted": true,
        "id": "_6o2gnMQvWgZ",
        "outputId": "24913022-83a3-4f51-eef1-bf96ba290b50"
      },
      "execution_count": null,
      "outputs": [
        {
          "name": "stdout",
          "text": "/kaggle/input/humando/HumanDO.json\n",
          "output_type": "stream"
        }
      ]
    },
    {
      "cell_type": "markdown",
      "source": [
        "# Install Requirements"
      ],
      "metadata": {
        "id": "XHeb_pE3vWgb"
      }
    },
    {
      "cell_type": "code",
      "source": [
        "!pip install datasets"
      ],
      "metadata": {
        "execution": {
          "iopub.status.busy": "2024-05-12T09:18:54.418974Z",
          "iopub.execute_input": "2024-05-12T09:18:54.419326Z",
          "iopub.status.idle": "2024-05-12T09:19:07.460787Z",
          "shell.execute_reply.started": "2024-05-12T09:18:54.419301Z",
          "shell.execute_reply": "2024-05-12T09:19:07.459605Z"
        },
        "trusted": true,
        "colab": {
          "base_uri": "https://localhost:8080/"
        },
        "id": "YZN0T6-RvWgc",
        "outputId": "c5c04ac1-20d7-4d43-d170-0d0f058c72a5"
      },
      "execution_count": null,
      "outputs": [
        {
          "output_type": "stream",
          "name": "stdout",
          "text": [
            "Collecting datasets\n",
            "  Downloading datasets-2.19.1-py3-none-any.whl (542 kB)\n",
            "\u001b[2K     \u001b[90m━━━━━━━━━━━━━━━━━━━━━━━━━━━━━━━━━━━━━━━━\u001b[0m \u001b[32m542.0/542.0 kB\u001b[0m \u001b[31m8.7 MB/s\u001b[0m eta \u001b[36m0:00:00\u001b[0m\n",
            "\u001b[?25hRequirement already satisfied: filelock in /usr/local/lib/python3.10/dist-packages (from datasets) (3.14.0)\n",
            "Requirement already satisfied: numpy>=1.17 in /usr/local/lib/python3.10/dist-packages (from datasets) (1.25.2)\n",
            "Requirement already satisfied: pyarrow>=12.0.0 in /usr/local/lib/python3.10/dist-packages (from datasets) (14.0.2)\n",
            "Requirement already satisfied: pyarrow-hotfix in /usr/local/lib/python3.10/dist-packages (from datasets) (0.6)\n",
            "Collecting dill<0.3.9,>=0.3.0 (from datasets)\n",
            "  Downloading dill-0.3.8-py3-none-any.whl (116 kB)\n",
            "\u001b[2K     \u001b[90m━━━━━━━━━━━━━━━━━━━━━━━━━━━━━━━━━━━━━━━━\u001b[0m \u001b[32m116.3/116.3 kB\u001b[0m \u001b[31m13.0 MB/s\u001b[0m eta \u001b[36m0:00:00\u001b[0m\n",
            "\u001b[?25hRequirement already satisfied: pandas in /usr/local/lib/python3.10/dist-packages (from datasets) (2.0.3)\n",
            "Requirement already satisfied: requests>=2.19.0 in /usr/local/lib/python3.10/dist-packages (from datasets) (2.31.0)\n",
            "Requirement already satisfied: tqdm>=4.62.1 in /usr/local/lib/python3.10/dist-packages (from datasets) (4.66.4)\n",
            "Collecting xxhash (from datasets)\n",
            "  Downloading xxhash-3.4.1-cp310-cp310-manylinux_2_17_x86_64.manylinux2014_x86_64.whl (194 kB)\n",
            "\u001b[2K     \u001b[90m━━━━━━━━━━━━━━━━━━━━━━━━━━━━━━━━━━━━━━━━\u001b[0m \u001b[32m194.1/194.1 kB\u001b[0m \u001b[31m26.7 MB/s\u001b[0m eta \u001b[36m0:00:00\u001b[0m\n",
            "\u001b[?25hCollecting multiprocess (from datasets)\n",
            "  Downloading multiprocess-0.70.16-py310-none-any.whl (134 kB)\n",
            "\u001b[2K     \u001b[90m━━━━━━━━━━━━━━━━━━━━━━━━━━━━━━━━━━━━━━━━\u001b[0m \u001b[32m134.8/134.8 kB\u001b[0m \u001b[31m19.5 MB/s\u001b[0m eta \u001b[36m0:00:00\u001b[0m\n",
            "\u001b[?25hRequirement already satisfied: fsspec[http]<=2024.3.1,>=2023.1.0 in /usr/local/lib/python3.10/dist-packages (from datasets) (2023.6.0)\n",
            "Requirement already satisfied: aiohttp in /usr/local/lib/python3.10/dist-packages (from datasets) (3.9.5)\n",
            "Collecting huggingface-hub>=0.21.2 (from datasets)\n",
            "  Downloading huggingface_hub-0.23.0-py3-none-any.whl (401 kB)\n",
            "\u001b[2K     \u001b[90m━━━━━━━━━━━━━━━━━━━━━━━━━━━━━━━━━━━━━━━━\u001b[0m \u001b[32m401.2/401.2 kB\u001b[0m \u001b[31m47.2 MB/s\u001b[0m eta \u001b[36m0:00:00\u001b[0m\n",
            "\u001b[?25hRequirement already satisfied: packaging in /usr/local/lib/python3.10/dist-packages (from datasets) (24.0)\n",
            "Requirement already satisfied: pyyaml>=5.1 in /usr/local/lib/python3.10/dist-packages (from datasets) (6.0.1)\n",
            "Requirement already satisfied: aiosignal>=1.1.2 in /usr/local/lib/python3.10/dist-packages (from aiohttp->datasets) (1.3.1)\n",
            "Requirement already satisfied: attrs>=17.3.0 in /usr/local/lib/python3.10/dist-packages (from aiohttp->datasets) (23.2.0)\n",
            "Requirement already satisfied: frozenlist>=1.1.1 in /usr/local/lib/python3.10/dist-packages (from aiohttp->datasets) (1.4.1)\n",
            "Requirement already satisfied: multidict<7.0,>=4.5 in /usr/local/lib/python3.10/dist-packages (from aiohttp->datasets) (6.0.5)\n",
            "Requirement already satisfied: yarl<2.0,>=1.0 in /usr/local/lib/python3.10/dist-packages (from aiohttp->datasets) (1.9.4)\n",
            "Requirement already satisfied: async-timeout<5.0,>=4.0 in /usr/local/lib/python3.10/dist-packages (from aiohttp->datasets) (4.0.3)\n",
            "Requirement already satisfied: typing-extensions>=3.7.4.3 in /usr/local/lib/python3.10/dist-packages (from huggingface-hub>=0.21.2->datasets) (4.11.0)\n",
            "Requirement already satisfied: charset-normalizer<4,>=2 in /usr/local/lib/python3.10/dist-packages (from requests>=2.19.0->datasets) (3.3.2)\n",
            "Requirement already satisfied: idna<4,>=2.5 in /usr/local/lib/python3.10/dist-packages (from requests>=2.19.0->datasets) (3.7)\n",
            "Requirement already satisfied: urllib3<3,>=1.21.1 in /usr/local/lib/python3.10/dist-packages (from requests>=2.19.0->datasets) (2.0.7)\n",
            "Requirement already satisfied: certifi>=2017.4.17 in /usr/local/lib/python3.10/dist-packages (from requests>=2.19.0->datasets) (2024.2.2)\n",
            "Requirement already satisfied: python-dateutil>=2.8.2 in /usr/local/lib/python3.10/dist-packages (from pandas->datasets) (2.8.2)\n",
            "Requirement already satisfied: pytz>=2020.1 in /usr/local/lib/python3.10/dist-packages (from pandas->datasets) (2023.4)\n",
            "Requirement already satisfied: tzdata>=2022.1 in /usr/local/lib/python3.10/dist-packages (from pandas->datasets) (2024.1)\n",
            "Requirement already satisfied: six>=1.5 in /usr/local/lib/python3.10/dist-packages (from python-dateutil>=2.8.2->pandas->datasets) (1.16.0)\n",
            "Installing collected packages: xxhash, dill, multiprocess, huggingface-hub, datasets\n",
            "  Attempting uninstall: huggingface-hub\n",
            "    Found existing installation: huggingface-hub 0.20.3\n",
            "    Uninstalling huggingface-hub-0.20.3:\n",
            "      Successfully uninstalled huggingface-hub-0.20.3\n",
            "Successfully installed datasets-2.19.1 dill-0.3.8 huggingface-hub-0.23.0 multiprocess-0.70.16 xxhash-3.4.1\n"
          ]
        }
      ]
    },
    {
      "cell_type": "markdown",
      "source": [
        "# Import Libraries"
      ],
      "metadata": {
        "id": "oYad6mfAvWgc"
      }
    },
    {
      "cell_type": "code",
      "source": [
        "from datasets import load_dataset\n",
        "import torch\n",
        "from transformers import BertForMaskedLM, BertTokenizer, Trainer, TrainingArguments\n",
        "from transformers import BertConfig\n",
        "import pandas as pd\n",
        "from torch.utils.data import TensorDataset, DataLoader, RandomSampler, SequentialSampler\n",
        "import json\n",
        "from sklearn.preprocessing import LabelEncoder\n",
        "from sklearn.model_selection import train_test_split\n",
        "from transformers import BertForSequenceClassification, AdamW, get_linear_schedule_with_warmup\n",
        "from tqdm import tqdm\n",
        "import random\n",
        "import time\n",
        "import datetime\n",
        "from sklearn.model_selection import GridSearchCV\n",
        "from sklearn.base import BaseEstimator\n",
        "from sklearn.metrics import classification_report\n",
        "from sklearn.model_selection import RandomizedSearchCV\n",
        "import random\n",
        "import copy\n",
        "import nltk\n",
        "from nltk.corpus import stopwords\n",
        "from nltk.tokenize import word_tokenize\n",
        "from nltk.stem import PorterStemmer\n",
        "from nltk.stem import WordNetLemmatizer\n",
        "import string\n",
        "from sklearn.metrics import classification_report"
      ],
      "metadata": {
        "execution": {
          "iopub.status.busy": "2024-05-12T09:19:07.462472Z",
          "iopub.execute_input": "2024-05-12T09:19:07.463309Z",
          "iopub.status.idle": "2024-05-12T09:19:24.804109Z",
          "shell.execute_reply.started": "2024-05-12T09:19:07.463273Z",
          "shell.execute_reply": "2024-05-12T09:19:24.803301Z"
        },
        "trusted": true,
        "id": "xjgK3PBSvWgc"
      },
      "execution_count": null,
      "outputs": []
    },
    {
      "cell_type": "code",
      "source": [
        "nltk.download('punkt')\n",
        "nltk.download('stopwords')\n",
        "nltk.download('wordnet')"
      ],
      "metadata": {
        "execution": {
          "iopub.status.busy": "2024-05-12T09:19:24.806785Z",
          "iopub.execute_input": "2024-05-12T09:19:24.807842Z",
          "iopub.status.idle": "2024-05-12T09:19:25.007164Z",
          "shell.execute_reply.started": "2024-05-12T09:19:24.807803Z",
          "shell.execute_reply": "2024-05-12T09:19:25.006217Z"
        },
        "trusted": true,
        "colab": {
          "base_uri": "https://localhost:8080/"
        },
        "id": "BjrWVXMOvWgd",
        "outputId": "68f09bd9-0f69-4706-8d0e-225cb1a23385"
      },
      "execution_count": null,
      "outputs": [
        {
          "output_type": "stream",
          "name": "stderr",
          "text": [
            "[nltk_data] Downloading package punkt to /root/nltk_data...\n",
            "[nltk_data]   Unzipping tokenizers/punkt.zip.\n",
            "[nltk_data] Downloading package stopwords to /root/nltk_data...\n",
            "[nltk_data]   Unzipping corpora/stopwords.zip.\n",
            "[nltk_data] Downloading package wordnet to /root/nltk_data...\n"
          ]
        },
        {
          "output_type": "execute_result",
          "data": {
            "text/plain": [
              "True"
            ]
          },
          "metadata": {},
          "execution_count": 3
        }
      ]
    },
    {
      "cell_type": "markdown",
      "source": [
        "# Load the Knowledge Graph"
      ],
      "metadata": {
        "id": "TW7pbIc2vWgd"
      }
    },
    {
      "cell_type": "code",
      "source": [
        "json_file_path = '/content/HumanDO.json'\n",
        "\n",
        "with open(json_file_path, \"r\") as file:\n",
        "  hdo_data = json.load(file)"
      ],
      "metadata": {
        "execution": {
          "iopub.status.busy": "2024-05-12T09:19:25.008212Z",
          "iopub.execute_input": "2024-05-12T09:19:25.008484Z",
          "iopub.status.idle": "2024-05-12T09:19:25.647676Z",
          "shell.execute_reply.started": "2024-05-12T09:19:25.008452Z",
          "shell.execute_reply": "2024-05-12T09:19:25.646802Z"
        },
        "trusted": true,
        "id": "wl2d5DucvWgd"
      },
      "execution_count": null,
      "outputs": []
    },
    {
      "cell_type": "markdown",
      "source": [
        "# Preprocess the Knowledge Graph"
      ],
      "metadata": {
        "id": "v4-0PSeSvWgd"
      }
    },
    {
      "cell_type": "code",
      "source": [
        "disease_labels = []\n",
        "text_sequences = []\n",
        "\n",
        "#adding information such as definition, synonyms and xref into a text sequence\n",
        "for graph in hdo_data[\"graphs\"]:\n",
        "    for node in graph.get(\"nodes\", []):\n",
        "        label = node.get(\"lbl\", \"No label available\")\n",
        "        meta_info = node.get(\"meta\", {})\n",
        "        definition = meta_info.get(\"definition\", {}).get(\"val\", \"No definition available\")\n",
        "        synonyms = [syn[\"val\"] for syn in meta_info.get(\"synonyms\", [])]\n",
        "        xrefs = [xref[\"val\"] for xref in meta_info.get(\"xrefs\", [])]\n",
        "\n",
        "        #adding additional information from the knowledge graph\n",
        "        relationships = []\n",
        "        entities = []\n",
        "\n",
        "        #combine all the information into a single text sequence\n",
        "        text = f\"{label}: {definition}. Synonyms: {', '.join(synonyms)}. Cross-references: {', '.join(xrefs)}. Relationships: {', '.join(relationships)}. Entities: {', '.join(entities)}\"\n",
        "\n",
        "        disease_labels.append(label)\n",
        "        text_sequences.append(text)"
      ],
      "metadata": {
        "execution": {
          "iopub.status.busy": "2024-05-12T09:19:25.648830Z",
          "iopub.execute_input": "2024-05-12T09:19:25.649114Z",
          "iopub.status.idle": "2024-05-12T09:19:25.712041Z",
          "shell.execute_reply.started": "2024-05-12T09:19:25.649091Z",
          "shell.execute_reply": "2024-05-12T09:19:25.711323Z"
        },
        "trusted": true,
        "id": "CmJFEOlQvWgd"
      },
      "execution_count": null,
      "outputs": []
    },
    {
      "cell_type": "markdown",
      "source": [
        "# Convert into Dataframe"
      ],
      "metadata": {
        "id": "tPvf8IUGvWgd"
      }
    },
    {
      "cell_type": "code",
      "source": [
        "hdo_data = pd.DataFrame({\"text_sequence\": text_sequences, \"label\": disease_labels})"
      ],
      "metadata": {
        "execution": {
          "iopub.status.busy": "2024-05-12T09:19:25.713071Z",
          "iopub.execute_input": "2024-05-12T09:19:25.713345Z",
          "iopub.status.idle": "2024-05-12T09:19:25.722396Z",
          "shell.execute_reply.started": "2024-05-12T09:19:25.713322Z",
          "shell.execute_reply": "2024-05-12T09:19:25.721571Z"
        },
        "trusted": true,
        "id": "tuDg4MJKvWge"
      },
      "execution_count": null,
      "outputs": []
    },
    {
      "cell_type": "code",
      "source": [
        "hdo_data.head()"
      ],
      "metadata": {
        "execution": {
          "iopub.status.busy": "2024-05-12T09:19:25.723470Z",
          "iopub.execute_input": "2024-05-12T09:19:25.723756Z",
          "iopub.status.idle": "2024-05-12T09:19:25.738958Z",
          "shell.execute_reply.started": "2024-05-12T09:19:25.723732Z",
          "shell.execute_reply": "2024-05-12T09:19:25.738188Z"
        },
        "trusted": true,
        "colab": {
          "base_uri": "https://localhost:8080/",
          "height": 206
        },
        "id": "KEmYA1pkvWge",
        "outputId": "b2b3e49f-1b42-48a0-c895-f9f55d18c759"
      },
      "execution_count": null,
      "outputs": [
        {
          "output_type": "execute_result",
          "data": {
            "text/plain": [
              "                                       text_sequence                  label\n",
              "0  angiosarcoma: A vascular cancer that derives_f...           angiosarcoma\n",
              "1  pterygium: A corneal disease that is character...              pterygium\n",
              "2  disease of metabolism: A disease that involvin...  disease of metabolism\n",
              "3  shrimp allergy: A crustacean allergy that has_...         shrimp allergy\n",
              "4  aspirin allergy: A drug allergy that has_aller...        aspirin allergy"
            ],
            "text/html": [
              "\n",
              "  <div id=\"df-11b2e41f-89a2-4aaf-b98a-7efeedfa5ba6\" class=\"colab-df-container\">\n",
              "    <div>\n",
              "<style scoped>\n",
              "    .dataframe tbody tr th:only-of-type {\n",
              "        vertical-align: middle;\n",
              "    }\n",
              "\n",
              "    .dataframe tbody tr th {\n",
              "        vertical-align: top;\n",
              "    }\n",
              "\n",
              "    .dataframe thead th {\n",
              "        text-align: right;\n",
              "    }\n",
              "</style>\n",
              "<table border=\"1\" class=\"dataframe\">\n",
              "  <thead>\n",
              "    <tr style=\"text-align: right;\">\n",
              "      <th></th>\n",
              "      <th>text_sequence</th>\n",
              "      <th>label</th>\n",
              "    </tr>\n",
              "  </thead>\n",
              "  <tbody>\n",
              "    <tr>\n",
              "      <th>0</th>\n",
              "      <td>angiosarcoma: A vascular cancer that derives_f...</td>\n",
              "      <td>angiosarcoma</td>\n",
              "    </tr>\n",
              "    <tr>\n",
              "      <th>1</th>\n",
              "      <td>pterygium: A corneal disease that is character...</td>\n",
              "      <td>pterygium</td>\n",
              "    </tr>\n",
              "    <tr>\n",
              "      <th>2</th>\n",
              "      <td>disease of metabolism: A disease that involvin...</td>\n",
              "      <td>disease of metabolism</td>\n",
              "    </tr>\n",
              "    <tr>\n",
              "      <th>3</th>\n",
              "      <td>shrimp allergy: A crustacean allergy that has_...</td>\n",
              "      <td>shrimp allergy</td>\n",
              "    </tr>\n",
              "    <tr>\n",
              "      <th>4</th>\n",
              "      <td>aspirin allergy: A drug allergy that has_aller...</td>\n",
              "      <td>aspirin allergy</td>\n",
              "    </tr>\n",
              "  </tbody>\n",
              "</table>\n",
              "</div>\n",
              "    <div class=\"colab-df-buttons\">\n",
              "\n",
              "  <div class=\"colab-df-container\">\n",
              "    <button class=\"colab-df-convert\" onclick=\"convertToInteractive('df-11b2e41f-89a2-4aaf-b98a-7efeedfa5ba6')\"\n",
              "            title=\"Convert this dataframe to an interactive table.\"\n",
              "            style=\"display:none;\">\n",
              "\n",
              "  <svg xmlns=\"http://www.w3.org/2000/svg\" height=\"24px\" viewBox=\"0 -960 960 960\">\n",
              "    <path d=\"M120-120v-720h720v720H120Zm60-500h600v-160H180v160Zm220 220h160v-160H400v160Zm0 220h160v-160H400v160ZM180-400h160v-160H180v160Zm440 0h160v-160H620v160ZM180-180h160v-160H180v160Zm440 0h160v-160H620v160Z\"/>\n",
              "  </svg>\n",
              "    </button>\n",
              "\n",
              "  <style>\n",
              "    .colab-df-container {\n",
              "      display:flex;\n",
              "      gap: 12px;\n",
              "    }\n",
              "\n",
              "    .colab-df-convert {\n",
              "      background-color: #E8F0FE;\n",
              "      border: none;\n",
              "      border-radius: 50%;\n",
              "      cursor: pointer;\n",
              "      display: none;\n",
              "      fill: #1967D2;\n",
              "      height: 32px;\n",
              "      padding: 0 0 0 0;\n",
              "      width: 32px;\n",
              "    }\n",
              "\n",
              "    .colab-df-convert:hover {\n",
              "      background-color: #E2EBFA;\n",
              "      box-shadow: 0px 1px 2px rgba(60, 64, 67, 0.3), 0px 1px 3px 1px rgba(60, 64, 67, 0.15);\n",
              "      fill: #174EA6;\n",
              "    }\n",
              "\n",
              "    .colab-df-buttons div {\n",
              "      margin-bottom: 4px;\n",
              "    }\n",
              "\n",
              "    [theme=dark] .colab-df-convert {\n",
              "      background-color: #3B4455;\n",
              "      fill: #D2E3FC;\n",
              "    }\n",
              "\n",
              "    [theme=dark] .colab-df-convert:hover {\n",
              "      background-color: #434B5C;\n",
              "      box-shadow: 0px 1px 3px 1px rgba(0, 0, 0, 0.15);\n",
              "      filter: drop-shadow(0px 1px 2px rgba(0, 0, 0, 0.3));\n",
              "      fill: #FFFFFF;\n",
              "    }\n",
              "  </style>\n",
              "\n",
              "    <script>\n",
              "      const buttonEl =\n",
              "        document.querySelector('#df-11b2e41f-89a2-4aaf-b98a-7efeedfa5ba6 button.colab-df-convert');\n",
              "      buttonEl.style.display =\n",
              "        google.colab.kernel.accessAllowed ? 'block' : 'none';\n",
              "\n",
              "      async function convertToInteractive(key) {\n",
              "        const element = document.querySelector('#df-11b2e41f-89a2-4aaf-b98a-7efeedfa5ba6');\n",
              "        const dataTable =\n",
              "          await google.colab.kernel.invokeFunction('convertToInteractive',\n",
              "                                                    [key], {});\n",
              "        if (!dataTable) return;\n",
              "\n",
              "        const docLinkHtml = 'Like what you see? Visit the ' +\n",
              "          '<a target=\"_blank\" href=https://colab.research.google.com/notebooks/data_table.ipynb>data table notebook</a>'\n",
              "          + ' to learn more about interactive tables.';\n",
              "        element.innerHTML = '';\n",
              "        dataTable['output_type'] = 'display_data';\n",
              "        await google.colab.output.renderOutput(dataTable, element);\n",
              "        const docLink = document.createElement('div');\n",
              "        docLink.innerHTML = docLinkHtml;\n",
              "        element.appendChild(docLink);\n",
              "      }\n",
              "    </script>\n",
              "  </div>\n",
              "\n",
              "\n",
              "<div id=\"df-3f49c984-99ae-44da-9fea-688918201485\">\n",
              "  <button class=\"colab-df-quickchart\" onclick=\"quickchart('df-3f49c984-99ae-44da-9fea-688918201485')\"\n",
              "            title=\"Suggest charts\"\n",
              "            style=\"display:none;\">\n",
              "\n",
              "<svg xmlns=\"http://www.w3.org/2000/svg\" height=\"24px\"viewBox=\"0 0 24 24\"\n",
              "     width=\"24px\">\n",
              "    <g>\n",
              "        <path d=\"M19 3H5c-1.1 0-2 .9-2 2v14c0 1.1.9 2 2 2h14c1.1 0 2-.9 2-2V5c0-1.1-.9-2-2-2zM9 17H7v-7h2v7zm4 0h-2V7h2v10zm4 0h-2v-4h2v4z\"/>\n",
              "    </g>\n",
              "</svg>\n",
              "  </button>\n",
              "\n",
              "<style>\n",
              "  .colab-df-quickchart {\n",
              "      --bg-color: #E8F0FE;\n",
              "      --fill-color: #1967D2;\n",
              "      --hover-bg-color: #E2EBFA;\n",
              "      --hover-fill-color: #174EA6;\n",
              "      --disabled-fill-color: #AAA;\n",
              "      --disabled-bg-color: #DDD;\n",
              "  }\n",
              "\n",
              "  [theme=dark] .colab-df-quickchart {\n",
              "      --bg-color: #3B4455;\n",
              "      --fill-color: #D2E3FC;\n",
              "      --hover-bg-color: #434B5C;\n",
              "      --hover-fill-color: #FFFFFF;\n",
              "      --disabled-bg-color: #3B4455;\n",
              "      --disabled-fill-color: #666;\n",
              "  }\n",
              "\n",
              "  .colab-df-quickchart {\n",
              "    background-color: var(--bg-color);\n",
              "    border: none;\n",
              "    border-radius: 50%;\n",
              "    cursor: pointer;\n",
              "    display: none;\n",
              "    fill: var(--fill-color);\n",
              "    height: 32px;\n",
              "    padding: 0;\n",
              "    width: 32px;\n",
              "  }\n",
              "\n",
              "  .colab-df-quickchart:hover {\n",
              "    background-color: var(--hover-bg-color);\n",
              "    box-shadow: 0 1px 2px rgba(60, 64, 67, 0.3), 0 1px 3px 1px rgba(60, 64, 67, 0.15);\n",
              "    fill: var(--button-hover-fill-color);\n",
              "  }\n",
              "\n",
              "  .colab-df-quickchart-complete:disabled,\n",
              "  .colab-df-quickchart-complete:disabled:hover {\n",
              "    background-color: var(--disabled-bg-color);\n",
              "    fill: var(--disabled-fill-color);\n",
              "    box-shadow: none;\n",
              "  }\n",
              "\n",
              "  .colab-df-spinner {\n",
              "    border: 2px solid var(--fill-color);\n",
              "    border-color: transparent;\n",
              "    border-bottom-color: var(--fill-color);\n",
              "    animation:\n",
              "      spin 1s steps(1) infinite;\n",
              "  }\n",
              "\n",
              "  @keyframes spin {\n",
              "    0% {\n",
              "      border-color: transparent;\n",
              "      border-bottom-color: var(--fill-color);\n",
              "      border-left-color: var(--fill-color);\n",
              "    }\n",
              "    20% {\n",
              "      border-color: transparent;\n",
              "      border-left-color: var(--fill-color);\n",
              "      border-top-color: var(--fill-color);\n",
              "    }\n",
              "    30% {\n",
              "      border-color: transparent;\n",
              "      border-left-color: var(--fill-color);\n",
              "      border-top-color: var(--fill-color);\n",
              "      border-right-color: var(--fill-color);\n",
              "    }\n",
              "    40% {\n",
              "      border-color: transparent;\n",
              "      border-right-color: var(--fill-color);\n",
              "      border-top-color: var(--fill-color);\n",
              "    }\n",
              "    60% {\n",
              "      border-color: transparent;\n",
              "      border-right-color: var(--fill-color);\n",
              "    }\n",
              "    80% {\n",
              "      border-color: transparent;\n",
              "      border-right-color: var(--fill-color);\n",
              "      border-bottom-color: var(--fill-color);\n",
              "    }\n",
              "    90% {\n",
              "      border-color: transparent;\n",
              "      border-bottom-color: var(--fill-color);\n",
              "    }\n",
              "  }\n",
              "</style>\n",
              "\n",
              "  <script>\n",
              "    async function quickchart(key) {\n",
              "      const quickchartButtonEl =\n",
              "        document.querySelector('#' + key + ' button');\n",
              "      quickchartButtonEl.disabled = true;  // To prevent multiple clicks.\n",
              "      quickchartButtonEl.classList.add('colab-df-spinner');\n",
              "      try {\n",
              "        const charts = await google.colab.kernel.invokeFunction(\n",
              "            'suggestCharts', [key], {});\n",
              "      } catch (error) {\n",
              "        console.error('Error during call to suggestCharts:', error);\n",
              "      }\n",
              "      quickchartButtonEl.classList.remove('colab-df-spinner');\n",
              "      quickchartButtonEl.classList.add('colab-df-quickchart-complete');\n",
              "    }\n",
              "    (() => {\n",
              "      let quickchartButtonEl =\n",
              "        document.querySelector('#df-3f49c984-99ae-44da-9fea-688918201485 button');\n",
              "      quickchartButtonEl.style.display =\n",
              "        google.colab.kernel.accessAllowed ? 'block' : 'none';\n",
              "    })();\n",
              "  </script>\n",
              "</div>\n",
              "    </div>\n",
              "  </div>\n"
            ],
            "application/vnd.google.colaboratory.intrinsic+json": {
              "type": "dataframe",
              "variable_name": "hdo_data",
              "summary": "{\n  \"name\": \"hdo_data\",\n  \"rows\": 14081,\n  \"fields\": [\n    {\n      \"column\": \"text_sequence\",\n      \"properties\": {\n        \"dtype\": \"string\",\n        \"num_unique_values\": 14081,\n        \"samples\": [\n          \"gastric fundus cancer: A stomach cancer that is located_in the gastric fundus.. Synonyms: Ca fundus - stomach, malignant neoplasm of fundus of stomach, malignant tumor of fundus of stomach. Cross-references: ICD10CM:C16.1, ICD9CM:151.3, SNOMEDCT_US_2023_03_01:93809003, UMLS_CUI:C0153420. Relationships: . Entities: \",\n          \"idiopathic generalized epilepsy 7: An idiopathic generalized epilepsy that has_material_basis_in variation in a region on chromosome 15q14.. Synonyms: EIG7. Cross-references: OMIM:604827. Relationships: . Entities: \",\n          \"obsolete obstructed labor: No definition available. Synonyms: . Cross-references: . Relationships: . Entities: \"\n        ],\n        \"semantic_type\": \"\",\n        \"description\": \"\"\n      }\n    },\n    {\n      \"column\": \"label\",\n      \"properties\": {\n        \"dtype\": \"string\",\n        \"num_unique_values\": 14081,\n        \"samples\": [\n          \"gastric fundus cancer\",\n          \"idiopathic generalized epilepsy 7\",\n          \"obsolete obstructed labor\"\n        ],\n        \"semantic_type\": \"\",\n        \"description\": \"\"\n      }\n    }\n  ]\n}"
            }
          },
          "metadata": {},
          "execution_count": 7
        }
      ]
    },
    {
      "cell_type": "code",
      "source": [
        "len(hdo_data['label'].unique())"
      ],
      "metadata": {
        "execution": {
          "iopub.status.busy": "2024-05-12T09:19:25.739923Z",
          "iopub.execute_input": "2024-05-12T09:19:25.740165Z",
          "iopub.status.idle": "2024-05-12T09:19:25.752088Z",
          "shell.execute_reply.started": "2024-05-12T09:19:25.740143Z",
          "shell.execute_reply": "2024-05-12T09:19:25.751285Z"
        },
        "trusted": true,
        "colab": {
          "base_uri": "https://localhost:8080/"
        },
        "id": "aoO1_FMevWge",
        "outputId": "71c378ed-1c35-4083-9d11-227440f28fa7"
      },
      "execution_count": null,
      "outputs": [
        {
          "output_type": "execute_result",
          "data": {
            "text/plain": [
              "14081"
            ]
          },
          "metadata": {},
          "execution_count": 8
        }
      ]
    },
    {
      "cell_type": "code",
      "source": [
        "hdo_data"
      ],
      "metadata": {
        "execution": {
          "iopub.status.busy": "2024-05-12T09:19:25.756672Z",
          "iopub.execute_input": "2024-05-12T09:19:25.756978Z",
          "iopub.status.idle": "2024-05-12T09:19:25.768466Z",
          "shell.execute_reply.started": "2024-05-12T09:19:25.756956Z",
          "shell.execute_reply": "2024-05-12T09:19:25.767479Z"
        },
        "trusted": true,
        "colab": {
          "base_uri": "https://localhost:8080/",
          "height": 423
        },
        "id": "feyHO1z8vWge",
        "outputId": "e2da3a8a-a102-4fcb-fe84-ed3e05c48e36"
      },
      "execution_count": null,
      "outputs": [
        {
          "output_type": "execute_result",
          "data": {
            "text/plain": [
              "                                           text_sequence  \\\n",
              "0      angiosarcoma: A vascular cancer that derives_f...   \n",
              "1      pterygium: A corneal disease that is character...   \n",
              "2      disease of metabolism: A disease that involvin...   \n",
              "3      shrimp allergy: A crustacean allergy that has_...   \n",
              "4      aspirin allergy: A drug allergy that has_aller...   \n",
              "...                                                  ...   \n",
              "14076  has broader match: A skos concept mapping used...   \n",
              "14077  has close match: A skos concept mapping used t...   \n",
              "14078  has exact match: A skos concept mapping used t...   \n",
              "14079  has narrower match: A skos concept mapping use...   \n",
              "14080  has related match: A skos concept mapping used...   \n",
              "\n",
              "                       label  \n",
              "0               angiosarcoma  \n",
              "1                  pterygium  \n",
              "2      disease of metabolism  \n",
              "3             shrimp allergy  \n",
              "4            aspirin allergy  \n",
              "...                      ...  \n",
              "14076      has broader match  \n",
              "14077        has close match  \n",
              "14078        has exact match  \n",
              "14079     has narrower match  \n",
              "14080      has related match  \n",
              "\n",
              "[14081 rows x 2 columns]"
            ],
            "text/html": [
              "\n",
              "  <div id=\"df-bceed00b-00a9-4487-ab8d-70b0b662175f\" class=\"colab-df-container\">\n",
              "    <div>\n",
              "<style scoped>\n",
              "    .dataframe tbody tr th:only-of-type {\n",
              "        vertical-align: middle;\n",
              "    }\n",
              "\n",
              "    .dataframe tbody tr th {\n",
              "        vertical-align: top;\n",
              "    }\n",
              "\n",
              "    .dataframe thead th {\n",
              "        text-align: right;\n",
              "    }\n",
              "</style>\n",
              "<table border=\"1\" class=\"dataframe\">\n",
              "  <thead>\n",
              "    <tr style=\"text-align: right;\">\n",
              "      <th></th>\n",
              "      <th>text_sequence</th>\n",
              "      <th>label</th>\n",
              "    </tr>\n",
              "  </thead>\n",
              "  <tbody>\n",
              "    <tr>\n",
              "      <th>0</th>\n",
              "      <td>angiosarcoma: A vascular cancer that derives_f...</td>\n",
              "      <td>angiosarcoma</td>\n",
              "    </tr>\n",
              "    <tr>\n",
              "      <th>1</th>\n",
              "      <td>pterygium: A corneal disease that is character...</td>\n",
              "      <td>pterygium</td>\n",
              "    </tr>\n",
              "    <tr>\n",
              "      <th>2</th>\n",
              "      <td>disease of metabolism: A disease that involvin...</td>\n",
              "      <td>disease of metabolism</td>\n",
              "    </tr>\n",
              "    <tr>\n",
              "      <th>3</th>\n",
              "      <td>shrimp allergy: A crustacean allergy that has_...</td>\n",
              "      <td>shrimp allergy</td>\n",
              "    </tr>\n",
              "    <tr>\n",
              "      <th>4</th>\n",
              "      <td>aspirin allergy: A drug allergy that has_aller...</td>\n",
              "      <td>aspirin allergy</td>\n",
              "    </tr>\n",
              "    <tr>\n",
              "      <th>...</th>\n",
              "      <td>...</td>\n",
              "      <td>...</td>\n",
              "    </tr>\n",
              "    <tr>\n",
              "      <th>14076</th>\n",
              "      <td>has broader match: A skos concept mapping used...</td>\n",
              "      <td>has broader match</td>\n",
              "    </tr>\n",
              "    <tr>\n",
              "      <th>14077</th>\n",
              "      <td>has close match: A skos concept mapping used t...</td>\n",
              "      <td>has close match</td>\n",
              "    </tr>\n",
              "    <tr>\n",
              "      <th>14078</th>\n",
              "      <td>has exact match: A skos concept mapping used t...</td>\n",
              "      <td>has exact match</td>\n",
              "    </tr>\n",
              "    <tr>\n",
              "      <th>14079</th>\n",
              "      <td>has narrower match: A skos concept mapping use...</td>\n",
              "      <td>has narrower match</td>\n",
              "    </tr>\n",
              "    <tr>\n",
              "      <th>14080</th>\n",
              "      <td>has related match: A skos concept mapping used...</td>\n",
              "      <td>has related match</td>\n",
              "    </tr>\n",
              "  </tbody>\n",
              "</table>\n",
              "<p>14081 rows × 2 columns</p>\n",
              "</div>\n",
              "    <div class=\"colab-df-buttons\">\n",
              "\n",
              "  <div class=\"colab-df-container\">\n",
              "    <button class=\"colab-df-convert\" onclick=\"convertToInteractive('df-bceed00b-00a9-4487-ab8d-70b0b662175f')\"\n",
              "            title=\"Convert this dataframe to an interactive table.\"\n",
              "            style=\"display:none;\">\n",
              "\n",
              "  <svg xmlns=\"http://www.w3.org/2000/svg\" height=\"24px\" viewBox=\"0 -960 960 960\">\n",
              "    <path d=\"M120-120v-720h720v720H120Zm60-500h600v-160H180v160Zm220 220h160v-160H400v160Zm0 220h160v-160H400v160ZM180-400h160v-160H180v160Zm440 0h160v-160H620v160ZM180-180h160v-160H180v160Zm440 0h160v-160H620v160Z\"/>\n",
              "  </svg>\n",
              "    </button>\n",
              "\n",
              "  <style>\n",
              "    .colab-df-container {\n",
              "      display:flex;\n",
              "      gap: 12px;\n",
              "    }\n",
              "\n",
              "    .colab-df-convert {\n",
              "      background-color: #E8F0FE;\n",
              "      border: none;\n",
              "      border-radius: 50%;\n",
              "      cursor: pointer;\n",
              "      display: none;\n",
              "      fill: #1967D2;\n",
              "      height: 32px;\n",
              "      padding: 0 0 0 0;\n",
              "      width: 32px;\n",
              "    }\n",
              "\n",
              "    .colab-df-convert:hover {\n",
              "      background-color: #E2EBFA;\n",
              "      box-shadow: 0px 1px 2px rgba(60, 64, 67, 0.3), 0px 1px 3px 1px rgba(60, 64, 67, 0.15);\n",
              "      fill: #174EA6;\n",
              "    }\n",
              "\n",
              "    .colab-df-buttons div {\n",
              "      margin-bottom: 4px;\n",
              "    }\n",
              "\n",
              "    [theme=dark] .colab-df-convert {\n",
              "      background-color: #3B4455;\n",
              "      fill: #D2E3FC;\n",
              "    }\n",
              "\n",
              "    [theme=dark] .colab-df-convert:hover {\n",
              "      background-color: #434B5C;\n",
              "      box-shadow: 0px 1px 3px 1px rgba(0, 0, 0, 0.15);\n",
              "      filter: drop-shadow(0px 1px 2px rgba(0, 0, 0, 0.3));\n",
              "      fill: #FFFFFF;\n",
              "    }\n",
              "  </style>\n",
              "\n",
              "    <script>\n",
              "      const buttonEl =\n",
              "        document.querySelector('#df-bceed00b-00a9-4487-ab8d-70b0b662175f button.colab-df-convert');\n",
              "      buttonEl.style.display =\n",
              "        google.colab.kernel.accessAllowed ? 'block' : 'none';\n",
              "\n",
              "      async function convertToInteractive(key) {\n",
              "        const element = document.querySelector('#df-bceed00b-00a9-4487-ab8d-70b0b662175f');\n",
              "        const dataTable =\n",
              "          await google.colab.kernel.invokeFunction('convertToInteractive',\n",
              "                                                    [key], {});\n",
              "        if (!dataTable) return;\n",
              "\n",
              "        const docLinkHtml = 'Like what you see? Visit the ' +\n",
              "          '<a target=\"_blank\" href=https://colab.research.google.com/notebooks/data_table.ipynb>data table notebook</a>'\n",
              "          + ' to learn more about interactive tables.';\n",
              "        element.innerHTML = '';\n",
              "        dataTable['output_type'] = 'display_data';\n",
              "        await google.colab.output.renderOutput(dataTable, element);\n",
              "        const docLink = document.createElement('div');\n",
              "        docLink.innerHTML = docLinkHtml;\n",
              "        element.appendChild(docLink);\n",
              "      }\n",
              "    </script>\n",
              "  </div>\n",
              "\n",
              "\n",
              "<div id=\"df-2b6a778f-47ae-4089-ac75-22facdab41fa\">\n",
              "  <button class=\"colab-df-quickchart\" onclick=\"quickchart('df-2b6a778f-47ae-4089-ac75-22facdab41fa')\"\n",
              "            title=\"Suggest charts\"\n",
              "            style=\"display:none;\">\n",
              "\n",
              "<svg xmlns=\"http://www.w3.org/2000/svg\" height=\"24px\"viewBox=\"0 0 24 24\"\n",
              "     width=\"24px\">\n",
              "    <g>\n",
              "        <path d=\"M19 3H5c-1.1 0-2 .9-2 2v14c0 1.1.9 2 2 2h14c1.1 0 2-.9 2-2V5c0-1.1-.9-2-2-2zM9 17H7v-7h2v7zm4 0h-2V7h2v10zm4 0h-2v-4h2v4z\"/>\n",
              "    </g>\n",
              "</svg>\n",
              "  </button>\n",
              "\n",
              "<style>\n",
              "  .colab-df-quickchart {\n",
              "      --bg-color: #E8F0FE;\n",
              "      --fill-color: #1967D2;\n",
              "      --hover-bg-color: #E2EBFA;\n",
              "      --hover-fill-color: #174EA6;\n",
              "      --disabled-fill-color: #AAA;\n",
              "      --disabled-bg-color: #DDD;\n",
              "  }\n",
              "\n",
              "  [theme=dark] .colab-df-quickchart {\n",
              "      --bg-color: #3B4455;\n",
              "      --fill-color: #D2E3FC;\n",
              "      --hover-bg-color: #434B5C;\n",
              "      --hover-fill-color: #FFFFFF;\n",
              "      --disabled-bg-color: #3B4455;\n",
              "      --disabled-fill-color: #666;\n",
              "  }\n",
              "\n",
              "  .colab-df-quickchart {\n",
              "    background-color: var(--bg-color);\n",
              "    border: none;\n",
              "    border-radius: 50%;\n",
              "    cursor: pointer;\n",
              "    display: none;\n",
              "    fill: var(--fill-color);\n",
              "    height: 32px;\n",
              "    padding: 0;\n",
              "    width: 32px;\n",
              "  }\n",
              "\n",
              "  .colab-df-quickchart:hover {\n",
              "    background-color: var(--hover-bg-color);\n",
              "    box-shadow: 0 1px 2px rgba(60, 64, 67, 0.3), 0 1px 3px 1px rgba(60, 64, 67, 0.15);\n",
              "    fill: var(--button-hover-fill-color);\n",
              "  }\n",
              "\n",
              "  .colab-df-quickchart-complete:disabled,\n",
              "  .colab-df-quickchart-complete:disabled:hover {\n",
              "    background-color: var(--disabled-bg-color);\n",
              "    fill: var(--disabled-fill-color);\n",
              "    box-shadow: none;\n",
              "  }\n",
              "\n",
              "  .colab-df-spinner {\n",
              "    border: 2px solid var(--fill-color);\n",
              "    border-color: transparent;\n",
              "    border-bottom-color: var(--fill-color);\n",
              "    animation:\n",
              "      spin 1s steps(1) infinite;\n",
              "  }\n",
              "\n",
              "  @keyframes spin {\n",
              "    0% {\n",
              "      border-color: transparent;\n",
              "      border-bottom-color: var(--fill-color);\n",
              "      border-left-color: var(--fill-color);\n",
              "    }\n",
              "    20% {\n",
              "      border-color: transparent;\n",
              "      border-left-color: var(--fill-color);\n",
              "      border-top-color: var(--fill-color);\n",
              "    }\n",
              "    30% {\n",
              "      border-color: transparent;\n",
              "      border-left-color: var(--fill-color);\n",
              "      border-top-color: var(--fill-color);\n",
              "      border-right-color: var(--fill-color);\n",
              "    }\n",
              "    40% {\n",
              "      border-color: transparent;\n",
              "      border-right-color: var(--fill-color);\n",
              "      border-top-color: var(--fill-color);\n",
              "    }\n",
              "    60% {\n",
              "      border-color: transparent;\n",
              "      border-right-color: var(--fill-color);\n",
              "    }\n",
              "    80% {\n",
              "      border-color: transparent;\n",
              "      border-right-color: var(--fill-color);\n",
              "      border-bottom-color: var(--fill-color);\n",
              "    }\n",
              "    90% {\n",
              "      border-color: transparent;\n",
              "      border-bottom-color: var(--fill-color);\n",
              "    }\n",
              "  }\n",
              "</style>\n",
              "\n",
              "  <script>\n",
              "    async function quickchart(key) {\n",
              "      const quickchartButtonEl =\n",
              "        document.querySelector('#' + key + ' button');\n",
              "      quickchartButtonEl.disabled = true;  // To prevent multiple clicks.\n",
              "      quickchartButtonEl.classList.add('colab-df-spinner');\n",
              "      try {\n",
              "        const charts = await google.colab.kernel.invokeFunction(\n",
              "            'suggestCharts', [key], {});\n",
              "      } catch (error) {\n",
              "        console.error('Error during call to suggestCharts:', error);\n",
              "      }\n",
              "      quickchartButtonEl.classList.remove('colab-df-spinner');\n",
              "      quickchartButtonEl.classList.add('colab-df-quickchart-complete');\n",
              "    }\n",
              "    (() => {\n",
              "      let quickchartButtonEl =\n",
              "        document.querySelector('#df-2b6a778f-47ae-4089-ac75-22facdab41fa button');\n",
              "      quickchartButtonEl.style.display =\n",
              "        google.colab.kernel.accessAllowed ? 'block' : 'none';\n",
              "    })();\n",
              "  </script>\n",
              "</div>\n",
              "    </div>\n",
              "  </div>\n"
            ],
            "application/vnd.google.colaboratory.intrinsic+json": {
              "type": "dataframe",
              "variable_name": "hdo_data",
              "summary": "{\n  \"name\": \"hdo_data\",\n  \"rows\": 14081,\n  \"fields\": [\n    {\n      \"column\": \"text_sequence\",\n      \"properties\": {\n        \"dtype\": \"string\",\n        \"num_unique_values\": 14081,\n        \"samples\": [\n          \"gastric fundus cancer: A stomach cancer that is located_in the gastric fundus.. Synonyms: Ca fundus - stomach, malignant neoplasm of fundus of stomach, malignant tumor of fundus of stomach. Cross-references: ICD10CM:C16.1, ICD9CM:151.3, SNOMEDCT_US_2023_03_01:93809003, UMLS_CUI:C0153420. Relationships: . Entities: \",\n          \"idiopathic generalized epilepsy 7: An idiopathic generalized epilepsy that has_material_basis_in variation in a region on chromosome 15q14.. Synonyms: EIG7. Cross-references: OMIM:604827. Relationships: . Entities: \",\n          \"obsolete obstructed labor: No definition available. Synonyms: . Cross-references: . Relationships: . Entities: \"\n        ],\n        \"semantic_type\": \"\",\n        \"description\": \"\"\n      }\n    },\n    {\n      \"column\": \"label\",\n      \"properties\": {\n        \"dtype\": \"string\",\n        \"num_unique_values\": 14081,\n        \"samples\": [\n          \"gastric fundus cancer\",\n          \"idiopathic generalized epilepsy 7\",\n          \"obsolete obstructed labor\"\n        ],\n        \"semantic_type\": \"\",\n        \"description\": \"\"\n      }\n    }\n  ]\n}"
            }
          },
          "metadata": {},
          "execution_count": 9
        }
      ]
    },
    {
      "cell_type": "markdown",
      "source": [
        "# Grouping Classes"
      ],
      "metadata": {
        "id": "UAjPzP0-vWge"
      }
    },
    {
      "cell_type": "code",
      "source": [
        "class_list = [\n",
        "    \"dermatitis\", \"asthma\", \"metabolism\", \"fever\", \"aspergillosis\",\n",
        "    \"tuberculosis\", \"deficiency\", \"infectious\", \"mucormycosis\",\n",
        "    \"paracoccidioidomycosis\", \"tinea capitis\", \"mucormycosis\",\n",
        "    \"diarrhea\", \"mycosis\", \"syndrome\", \"encephalitis\", \"hepatitis\",\n",
        "    \"gastroenteritis\", \"capillariasis\", \"typhus\", \"exanthem\",\n",
        "    \"neurosyphilis\", \"Charcot-Marie-Tooth\", \"deafness\", \"aciduria\",\n",
        "    \"carcinoma in situ\", \"cancer\", \"amyloidosis\", \"tumor\", \"allergy\", \"fasciitis\", \"meningitis\",\n",
        "    \"cough\", \"pneumonia\", \"keratitis\", \"urethritis\", \"lymphangitis\", \"impetigo\", \"hypoplasia\",\n",
        "    \"epilepsy\", \"dysplasia\", \"ptosis\", \"failure\", \"hypothyroidism\", \"laxa\", \"glycosylation\",\n",
        "    \"dystrophy\", \"abnormalities\", \"anomalies\", \"dystonia\", \"leukemia\", \"rickets\",\n",
        "    \"ependymoma\", \"lymphoma\", \"myopathy\", \"granulomatosis\", \"neuronopathy\", \"seizures\", \"pigmentosa\",\n",
        "    \"cardiomyopathy\", \"dyskinesia\", \"deafness\", \"lipofuscinosis\", \"paraplegia\", \"blindness\",\n",
        "    \"holoprosencephaly\", \"anemia\", \"migraine\", \"ataxia\", \"hyperplasia\", \"chondrodysplasia\", \"yaws\",\n",
        "    \"disorder\", \"endometriosis\", \"keratitis\", \"obsolete\", \"carcinoma\", \"pyrexia\", \"glomerulonephritis\",\n",
        "    \"glioma\", \"astrocytoma\", \"adenocarcinoma\", \"leiomyoma\", \"ophthalmoplegia\", \"liposarcoma\",\n",
        "    \"teratoma\", \"papilloma\", \"arcinoma\", \"arcoma\", \"melanoma\", \"lymphoma\", \"conjunctivitis\"\n",
        "]"
      ],
      "metadata": {
        "execution": {
          "iopub.status.busy": "2024-05-12T09:19:25.769795Z",
          "iopub.execute_input": "2024-05-12T09:19:25.770175Z",
          "iopub.status.idle": "2024-05-12T09:19:25.778784Z",
          "shell.execute_reply.started": "2024-05-12T09:19:25.770117Z",
          "shell.execute_reply": "2024-05-12T09:19:25.778028Z"
        },
        "trusted": true,
        "id": "PQSpYXCfvWgf"
      },
      "execution_count": null,
      "outputs": []
    },
    {
      "cell_type": "code",
      "source": [
        "def find_word_in_label(label, words_list):\n",
        "    for word in words_list:\n",
        "        if word in label:\n",
        "            return word\n",
        "    return 'other'  #If none of the words from the list are found, replace with 'other'\n",
        "\n",
        "#Replace labels with corresponding words or 'other'\n",
        "for i, label in enumerate(hdo_data['label']):\n",
        "    #Check if the word from the word list exists within the label\n",
        "    word_found = find_word_in_label(label, class_list)\n",
        "    hdo_data.at[i, 'label'] = word_found"
      ],
      "metadata": {
        "execution": {
          "iopub.status.busy": "2024-05-12T09:19:25.779900Z",
          "iopub.execute_input": "2024-05-12T09:19:25.780306Z",
          "iopub.status.idle": "2024-05-12T09:19:26.164778Z",
          "shell.execute_reply.started": "2024-05-12T09:19:25.780276Z",
          "shell.execute_reply": "2024-05-12T09:19:26.163617Z"
        },
        "trusted": true,
        "id": "6SCSIap9vWgf"
      },
      "execution_count": null,
      "outputs": []
    },
    {
      "cell_type": "code",
      "source": [
        "#Unique Labels\n",
        "len(hdo_data['label'].unique())"
      ],
      "metadata": {
        "execution": {
          "iopub.status.busy": "2024-05-12T09:19:26.166059Z",
          "iopub.execute_input": "2024-05-12T09:19:26.166447Z",
          "iopub.status.idle": "2024-05-12T09:19:26.173904Z",
          "shell.execute_reply.started": "2024-05-12T09:19:26.166415Z",
          "shell.execute_reply": "2024-05-12T09:19:26.172983Z"
        },
        "trusted": true,
        "colab": {
          "base_uri": "https://localhost:8080/"
        },
        "id": "zlwBkXVJvWgf",
        "outputId": "f4e4b9dc-3a9c-46cc-dbe8-d67dd3b81aed"
      },
      "execution_count": null,
      "outputs": [
        {
          "output_type": "execute_result",
          "data": {
            "text/plain": [
              "84"
            ]
          },
          "metadata": {},
          "execution_count": 12
        }
      ]
    },
    {
      "cell_type": "code",
      "source": [
        "hdo_data = hdo_data.iloc[:14046]"
      ],
      "metadata": {
        "execution": {
          "iopub.status.busy": "2024-05-12T09:19:26.175282Z",
          "iopub.execute_input": "2024-05-12T09:19:26.175652Z",
          "iopub.status.idle": "2024-05-12T09:19:26.181586Z",
          "shell.execute_reply.started": "2024-05-12T09:19:26.175619Z",
          "shell.execute_reply": "2024-05-12T09:19:26.180673Z"
        },
        "trusted": true,
        "id": "J53Gbve8vWgf"
      },
      "execution_count": null,
      "outputs": []
    },
    {
      "cell_type": "markdown",
      "source": [
        "# Shuffle the Data"
      ],
      "metadata": {
        "id": "bJ3BAvhivWgf"
      }
    },
    {
      "cell_type": "code",
      "source": [
        "hdo_data = hdo_data.sample(frac=1, random_state=42)"
      ],
      "metadata": {
        "execution": {
          "iopub.status.busy": "2024-05-12T09:19:26.182779Z",
          "iopub.execute_input": "2024-05-12T09:19:26.183348Z",
          "iopub.status.idle": "2024-05-12T09:19:26.193474Z",
          "shell.execute_reply.started": "2024-05-12T09:19:26.183316Z",
          "shell.execute_reply": "2024-05-12T09:19:26.192556Z"
        },
        "trusted": true,
        "id": "PdnAWKrjvWgf"
      },
      "execution_count": null,
      "outputs": []
    },
    {
      "cell_type": "code",
      "source": [
        "hdo_data.reset_index(inplace=True)"
      ],
      "metadata": {
        "execution": {
          "iopub.status.busy": "2024-05-12T09:19:26.194548Z",
          "iopub.execute_input": "2024-05-12T09:19:26.194868Z",
          "iopub.status.idle": "2024-05-12T09:19:26.201705Z",
          "shell.execute_reply.started": "2024-05-12T09:19:26.194843Z",
          "shell.execute_reply": "2024-05-12T09:19:26.200800Z"
        },
        "trusted": true,
        "id": "H7c6FuTnvWgf"
      },
      "execution_count": null,
      "outputs": []
    },
    {
      "cell_type": "code",
      "source": [
        "hdo_data.drop(columns='index', inplace=True)"
      ],
      "metadata": {
        "execution": {
          "iopub.status.busy": "2024-05-12T09:19:26.202963Z",
          "iopub.execute_input": "2024-05-12T09:19:26.203236Z",
          "iopub.status.idle": "2024-05-12T09:19:26.212221Z",
          "shell.execute_reply.started": "2024-05-12T09:19:26.203212Z",
          "shell.execute_reply": "2024-05-12T09:19:26.211397Z"
        },
        "trusted": true,
        "id": "MZTRkjgavWgf"
      },
      "execution_count": null,
      "outputs": []
    },
    {
      "cell_type": "code",
      "source": [
        "hdo_data"
      ],
      "metadata": {
        "execution": {
          "iopub.status.busy": "2024-05-12T09:19:26.213143Z",
          "iopub.execute_input": "2024-05-12T09:19:26.213770Z",
          "iopub.status.idle": "2024-05-12T09:19:26.227381Z",
          "shell.execute_reply.started": "2024-05-12T09:19:26.213745Z",
          "shell.execute_reply": "2024-05-12T09:19:26.226465Z"
        },
        "trusted": true,
        "colab": {
          "base_uri": "https://localhost:8080/",
          "height": 423
        },
        "id": "cgghfruwvWgf",
        "outputId": "f5886209-7b89-4125-af93-b5379488824c"
      },
      "execution_count": null,
      "outputs": [
        {
          "output_type": "execute_result",
          "data": {
            "text/plain": [
              "                                           text_sequence      label\n",
              "0      primary ovarian insufficiency 14: A primary ov...      other\n",
              "1      choreatic disease: A movement disease characte...      other\n",
              "2      gallbladder leiomyosarcoma: A gallbladder sarc...     arcoma\n",
              "3      autosomal recessive nonsyndromic deafness 1B: ...   deafness\n",
              "4      obsolete mucinous bronchioloalveolar lung carc...   obsolete\n",
              "...                                                  ...        ...\n",
              "14041  congenital muscular dystrophy-dystroglycanopat...  dystrophy\n",
              "14042  pityriasis rosea: A dermatitis that is charact...      other\n",
              "14043  optic atrophy 8: An optic atrophy characterize...      other\n",
              "14044  endocardium disease: A heart disease that is l...      other\n",
              "14045  obsolete calculus of bile duct with acute chol...   obsolete\n",
              "\n",
              "[14046 rows x 2 columns]"
            ],
            "text/html": [
              "\n",
              "  <div id=\"df-34a2e989-f318-4fd3-bec4-197ce86a6a3b\" class=\"colab-df-container\">\n",
              "    <div>\n",
              "<style scoped>\n",
              "    .dataframe tbody tr th:only-of-type {\n",
              "        vertical-align: middle;\n",
              "    }\n",
              "\n",
              "    .dataframe tbody tr th {\n",
              "        vertical-align: top;\n",
              "    }\n",
              "\n",
              "    .dataframe thead th {\n",
              "        text-align: right;\n",
              "    }\n",
              "</style>\n",
              "<table border=\"1\" class=\"dataframe\">\n",
              "  <thead>\n",
              "    <tr style=\"text-align: right;\">\n",
              "      <th></th>\n",
              "      <th>text_sequence</th>\n",
              "      <th>label</th>\n",
              "    </tr>\n",
              "  </thead>\n",
              "  <tbody>\n",
              "    <tr>\n",
              "      <th>0</th>\n",
              "      <td>primary ovarian insufficiency 14: A primary ov...</td>\n",
              "      <td>other</td>\n",
              "    </tr>\n",
              "    <tr>\n",
              "      <th>1</th>\n",
              "      <td>choreatic disease: A movement disease characte...</td>\n",
              "      <td>other</td>\n",
              "    </tr>\n",
              "    <tr>\n",
              "      <th>2</th>\n",
              "      <td>gallbladder leiomyosarcoma: A gallbladder sarc...</td>\n",
              "      <td>arcoma</td>\n",
              "    </tr>\n",
              "    <tr>\n",
              "      <th>3</th>\n",
              "      <td>autosomal recessive nonsyndromic deafness 1B: ...</td>\n",
              "      <td>deafness</td>\n",
              "    </tr>\n",
              "    <tr>\n",
              "      <th>4</th>\n",
              "      <td>obsolete mucinous bronchioloalveolar lung carc...</td>\n",
              "      <td>obsolete</td>\n",
              "    </tr>\n",
              "    <tr>\n",
              "      <th>...</th>\n",
              "      <td>...</td>\n",
              "      <td>...</td>\n",
              "    </tr>\n",
              "    <tr>\n",
              "      <th>14041</th>\n",
              "      <td>congenital muscular dystrophy-dystroglycanopat...</td>\n",
              "      <td>dystrophy</td>\n",
              "    </tr>\n",
              "    <tr>\n",
              "      <th>14042</th>\n",
              "      <td>pityriasis rosea: A dermatitis that is charact...</td>\n",
              "      <td>other</td>\n",
              "    </tr>\n",
              "    <tr>\n",
              "      <th>14043</th>\n",
              "      <td>optic atrophy 8: An optic atrophy characterize...</td>\n",
              "      <td>other</td>\n",
              "    </tr>\n",
              "    <tr>\n",
              "      <th>14044</th>\n",
              "      <td>endocardium disease: A heart disease that is l...</td>\n",
              "      <td>other</td>\n",
              "    </tr>\n",
              "    <tr>\n",
              "      <th>14045</th>\n",
              "      <td>obsolete calculus of bile duct with acute chol...</td>\n",
              "      <td>obsolete</td>\n",
              "    </tr>\n",
              "  </tbody>\n",
              "</table>\n",
              "<p>14046 rows × 2 columns</p>\n",
              "</div>\n",
              "    <div class=\"colab-df-buttons\">\n",
              "\n",
              "  <div class=\"colab-df-container\">\n",
              "    <button class=\"colab-df-convert\" onclick=\"convertToInteractive('df-34a2e989-f318-4fd3-bec4-197ce86a6a3b')\"\n",
              "            title=\"Convert this dataframe to an interactive table.\"\n",
              "            style=\"display:none;\">\n",
              "\n",
              "  <svg xmlns=\"http://www.w3.org/2000/svg\" height=\"24px\" viewBox=\"0 -960 960 960\">\n",
              "    <path d=\"M120-120v-720h720v720H120Zm60-500h600v-160H180v160Zm220 220h160v-160H400v160Zm0 220h160v-160H400v160ZM180-400h160v-160H180v160Zm440 0h160v-160H620v160ZM180-180h160v-160H180v160Zm440 0h160v-160H620v160Z\"/>\n",
              "  </svg>\n",
              "    </button>\n",
              "\n",
              "  <style>\n",
              "    .colab-df-container {\n",
              "      display:flex;\n",
              "      gap: 12px;\n",
              "    }\n",
              "\n",
              "    .colab-df-convert {\n",
              "      background-color: #E8F0FE;\n",
              "      border: none;\n",
              "      border-radius: 50%;\n",
              "      cursor: pointer;\n",
              "      display: none;\n",
              "      fill: #1967D2;\n",
              "      height: 32px;\n",
              "      padding: 0 0 0 0;\n",
              "      width: 32px;\n",
              "    }\n",
              "\n",
              "    .colab-df-convert:hover {\n",
              "      background-color: #E2EBFA;\n",
              "      box-shadow: 0px 1px 2px rgba(60, 64, 67, 0.3), 0px 1px 3px 1px rgba(60, 64, 67, 0.15);\n",
              "      fill: #174EA6;\n",
              "    }\n",
              "\n",
              "    .colab-df-buttons div {\n",
              "      margin-bottom: 4px;\n",
              "    }\n",
              "\n",
              "    [theme=dark] .colab-df-convert {\n",
              "      background-color: #3B4455;\n",
              "      fill: #D2E3FC;\n",
              "    }\n",
              "\n",
              "    [theme=dark] .colab-df-convert:hover {\n",
              "      background-color: #434B5C;\n",
              "      box-shadow: 0px 1px 3px 1px rgba(0, 0, 0, 0.15);\n",
              "      filter: drop-shadow(0px 1px 2px rgba(0, 0, 0, 0.3));\n",
              "      fill: #FFFFFF;\n",
              "    }\n",
              "  </style>\n",
              "\n",
              "    <script>\n",
              "      const buttonEl =\n",
              "        document.querySelector('#df-34a2e989-f318-4fd3-bec4-197ce86a6a3b button.colab-df-convert');\n",
              "      buttonEl.style.display =\n",
              "        google.colab.kernel.accessAllowed ? 'block' : 'none';\n",
              "\n",
              "      async function convertToInteractive(key) {\n",
              "        const element = document.querySelector('#df-34a2e989-f318-4fd3-bec4-197ce86a6a3b');\n",
              "        const dataTable =\n",
              "          await google.colab.kernel.invokeFunction('convertToInteractive',\n",
              "                                                    [key], {});\n",
              "        if (!dataTable) return;\n",
              "\n",
              "        const docLinkHtml = 'Like what you see? Visit the ' +\n",
              "          '<a target=\"_blank\" href=https://colab.research.google.com/notebooks/data_table.ipynb>data table notebook</a>'\n",
              "          + ' to learn more about interactive tables.';\n",
              "        element.innerHTML = '';\n",
              "        dataTable['output_type'] = 'display_data';\n",
              "        await google.colab.output.renderOutput(dataTable, element);\n",
              "        const docLink = document.createElement('div');\n",
              "        docLink.innerHTML = docLinkHtml;\n",
              "        element.appendChild(docLink);\n",
              "      }\n",
              "    </script>\n",
              "  </div>\n",
              "\n",
              "\n",
              "<div id=\"df-ab4707d6-6df9-4974-84d5-51350f2ec77f\">\n",
              "  <button class=\"colab-df-quickchart\" onclick=\"quickchart('df-ab4707d6-6df9-4974-84d5-51350f2ec77f')\"\n",
              "            title=\"Suggest charts\"\n",
              "            style=\"display:none;\">\n",
              "\n",
              "<svg xmlns=\"http://www.w3.org/2000/svg\" height=\"24px\"viewBox=\"0 0 24 24\"\n",
              "     width=\"24px\">\n",
              "    <g>\n",
              "        <path d=\"M19 3H5c-1.1 0-2 .9-2 2v14c0 1.1.9 2 2 2h14c1.1 0 2-.9 2-2V5c0-1.1-.9-2-2-2zM9 17H7v-7h2v7zm4 0h-2V7h2v10zm4 0h-2v-4h2v4z\"/>\n",
              "    </g>\n",
              "</svg>\n",
              "  </button>\n",
              "\n",
              "<style>\n",
              "  .colab-df-quickchart {\n",
              "      --bg-color: #E8F0FE;\n",
              "      --fill-color: #1967D2;\n",
              "      --hover-bg-color: #E2EBFA;\n",
              "      --hover-fill-color: #174EA6;\n",
              "      --disabled-fill-color: #AAA;\n",
              "      --disabled-bg-color: #DDD;\n",
              "  }\n",
              "\n",
              "  [theme=dark] .colab-df-quickchart {\n",
              "      --bg-color: #3B4455;\n",
              "      --fill-color: #D2E3FC;\n",
              "      --hover-bg-color: #434B5C;\n",
              "      --hover-fill-color: #FFFFFF;\n",
              "      --disabled-bg-color: #3B4455;\n",
              "      --disabled-fill-color: #666;\n",
              "  }\n",
              "\n",
              "  .colab-df-quickchart {\n",
              "    background-color: var(--bg-color);\n",
              "    border: none;\n",
              "    border-radius: 50%;\n",
              "    cursor: pointer;\n",
              "    display: none;\n",
              "    fill: var(--fill-color);\n",
              "    height: 32px;\n",
              "    padding: 0;\n",
              "    width: 32px;\n",
              "  }\n",
              "\n",
              "  .colab-df-quickchart:hover {\n",
              "    background-color: var(--hover-bg-color);\n",
              "    box-shadow: 0 1px 2px rgba(60, 64, 67, 0.3), 0 1px 3px 1px rgba(60, 64, 67, 0.15);\n",
              "    fill: var(--button-hover-fill-color);\n",
              "  }\n",
              "\n",
              "  .colab-df-quickchart-complete:disabled,\n",
              "  .colab-df-quickchart-complete:disabled:hover {\n",
              "    background-color: var(--disabled-bg-color);\n",
              "    fill: var(--disabled-fill-color);\n",
              "    box-shadow: none;\n",
              "  }\n",
              "\n",
              "  .colab-df-spinner {\n",
              "    border: 2px solid var(--fill-color);\n",
              "    border-color: transparent;\n",
              "    border-bottom-color: var(--fill-color);\n",
              "    animation:\n",
              "      spin 1s steps(1) infinite;\n",
              "  }\n",
              "\n",
              "  @keyframes spin {\n",
              "    0% {\n",
              "      border-color: transparent;\n",
              "      border-bottom-color: var(--fill-color);\n",
              "      border-left-color: var(--fill-color);\n",
              "    }\n",
              "    20% {\n",
              "      border-color: transparent;\n",
              "      border-left-color: var(--fill-color);\n",
              "      border-top-color: var(--fill-color);\n",
              "    }\n",
              "    30% {\n",
              "      border-color: transparent;\n",
              "      border-left-color: var(--fill-color);\n",
              "      border-top-color: var(--fill-color);\n",
              "      border-right-color: var(--fill-color);\n",
              "    }\n",
              "    40% {\n",
              "      border-color: transparent;\n",
              "      border-right-color: var(--fill-color);\n",
              "      border-top-color: var(--fill-color);\n",
              "    }\n",
              "    60% {\n",
              "      border-color: transparent;\n",
              "      border-right-color: var(--fill-color);\n",
              "    }\n",
              "    80% {\n",
              "      border-color: transparent;\n",
              "      border-right-color: var(--fill-color);\n",
              "      border-bottom-color: var(--fill-color);\n",
              "    }\n",
              "    90% {\n",
              "      border-color: transparent;\n",
              "      border-bottom-color: var(--fill-color);\n",
              "    }\n",
              "  }\n",
              "</style>\n",
              "\n",
              "  <script>\n",
              "    async function quickchart(key) {\n",
              "      const quickchartButtonEl =\n",
              "        document.querySelector('#' + key + ' button');\n",
              "      quickchartButtonEl.disabled = true;  // To prevent multiple clicks.\n",
              "      quickchartButtonEl.classList.add('colab-df-spinner');\n",
              "      try {\n",
              "        const charts = await google.colab.kernel.invokeFunction(\n",
              "            'suggestCharts', [key], {});\n",
              "      } catch (error) {\n",
              "        console.error('Error during call to suggestCharts:', error);\n",
              "      }\n",
              "      quickchartButtonEl.classList.remove('colab-df-spinner');\n",
              "      quickchartButtonEl.classList.add('colab-df-quickchart-complete');\n",
              "    }\n",
              "    (() => {\n",
              "      let quickchartButtonEl =\n",
              "        document.querySelector('#df-ab4707d6-6df9-4974-84d5-51350f2ec77f button');\n",
              "      quickchartButtonEl.style.display =\n",
              "        google.colab.kernel.accessAllowed ? 'block' : 'none';\n",
              "    })();\n",
              "  </script>\n",
              "</div>\n",
              "    </div>\n",
              "  </div>\n"
            ],
            "application/vnd.google.colaboratory.intrinsic+json": {
              "type": "dataframe",
              "variable_name": "hdo_data",
              "summary": "{\n  \"name\": \"hdo_data\",\n  \"rows\": 14046,\n  \"fields\": [\n    {\n      \"column\": \"text_sequence\",\n      \"properties\": {\n        \"dtype\": \"string\",\n        \"num_unique_values\": 14046,\n        \"samples\": [\n          \"blepharospasm: A focal dystonia that is characterized by the involuntary, forcible contraction of the muscles controlling eye blinks.. Synonyms: . Cross-references: GARD:5909, ICD10CM:G24.5, ICD9CM:333.81, MESH:D001764, NCI:C118723, SNOMEDCT_US_2023_03_01:155009007, UMLS_CUI:C0005747. Relationships: . Entities: \",\n          \"obsessive-compulsive personality disorder: A personality disorder that is characterized by a pervasive pattern of preoccupation with orderliness, perfectionism, and mental and interpersonal control at the expense of flexibility, openness, and efficiency.. Synonyms: OCPD, Anankastic personality disorder. Cross-references: ICD10CM:F60.5, ICD9CM:301.4, MESH:D003193, NCI:C92638, SNOMEDCT_US_2023_03_01:191761001, UMLS_CUI:C0009595. Relationships: . Entities: \",\n          \"obsolete iodine deficiency: No definition available. Synonyms: . Cross-references: . Relationships: . Entities: \"\n        ],\n        \"semantic_type\": \"\",\n        \"description\": \"\"\n      }\n    },\n    {\n      \"column\": \"label\",\n      \"properties\": {\n        \"dtype\": \"category\",\n        \"num_unique_values\": 84,\n        \"samples\": [\n          \"metabolism\",\n          \"other\",\n          \"typhus\"\n        ],\n        \"semantic_type\": \"\",\n        \"description\": \"\"\n      }\n    }\n  ]\n}"
            }
          },
          "metadata": {},
          "execution_count": 17
        }
      ]
    },
    {
      "cell_type": "markdown",
      "source": [
        "# Reduce the number of Rows for the label as \"Other\""
      ],
      "metadata": {
        "id": "4ajieTjKvWgg"
      }
    },
    {
      "cell_type": "markdown",
      "source": [
        "Maintain consistency in data"
      ],
      "metadata": {
        "id": "bfg3SXoFvWgg"
      }
    },
    {
      "cell_type": "code",
      "source": [
        "count = hdo_data.groupby('label').size().get('other', 0)\n",
        "print(count)"
      ],
      "metadata": {
        "execution": {
          "iopub.status.busy": "2024-05-12T09:19:26.228613Z",
          "iopub.execute_input": "2024-05-12T09:19:26.228927Z",
          "iopub.status.idle": "2024-05-12T09:19:26.238964Z",
          "shell.execute_reply.started": "2024-05-12T09:19:26.228903Z",
          "shell.execute_reply": "2024-05-12T09:19:26.238137Z"
        },
        "trusted": true,
        "colab": {
          "base_uri": "https://localhost:8080/"
        },
        "id": "vX0LiALgvWgg",
        "outputId": "377fa360-1f6b-4210-fc03-67ede19bd6b6"
      },
      "execution_count": null,
      "outputs": [
        {
          "output_type": "stream",
          "name": "stdout",
          "text": [
            "5169\n"
          ]
        }
      ]
    },
    {
      "cell_type": "code",
      "source": [
        "# Assuming hdo_data is your original DataFrame and 'label' is the name of the column you want to filter\n",
        "word = 'other'\n",
        "desired_rows = 1000  # Specify the number of rows you want to keep\n",
        "\n",
        "# Filter the DataFrame to include only the rows where the word is present\n",
        "word_rows = hdo_data[hdo_data['label'].str.contains(word)]\n",
        "\n",
        "# Check if the number of rows containing the word is greater than the desired_rows\n",
        "if len(word_rows) > desired_rows:\n",
        "    # Randomly select desired_rows from word_rows\n",
        "    random_sample = word_rows.sample(n=desired_rows, random_state=42)  # You can choose any random_state\n",
        "else:\n",
        "    # If the number of rows containing the word is less than or equal to desired_rows, use all of them\n",
        "    random_sample = word_rows\n",
        "\n",
        "# Filter the DataFrame to exclude the rows where the word is present beyond the desired count\n",
        "non_word_rows = hdo_data[~(hdo_data['label'].str.contains(word)) | hdo_data.index.isin(random_sample.index)]\n",
        "\n",
        "# Reset index if necessary\n",
        "non_word_rows.reset_index(drop=True, inplace=True)\n",
        "\n",
        "# Overwrite the original DataFrame with the modified DataFrame\n",
        "hdo_data = non_word_rows"
      ],
      "metadata": {
        "execution": {
          "iopub.status.busy": "2024-05-12T09:19:26.240340Z",
          "iopub.execute_input": "2024-05-12T09:19:26.240757Z",
          "iopub.status.idle": "2024-05-12T09:19:26.266567Z",
          "shell.execute_reply.started": "2024-05-12T09:19:26.240727Z",
          "shell.execute_reply": "2024-05-12T09:19:26.265849Z"
        },
        "trusted": true,
        "id": "IbxKvPFqvWgg"
      },
      "execution_count": null,
      "outputs": []
    },
    {
      "cell_type": "code",
      "source": [
        "word_count = (hdo_data['label'] == 'other').sum()\n",
        "print(\"Number of rows with 'other':\", word_count)"
      ],
      "metadata": {
        "execution": {
          "iopub.status.busy": "2024-05-12T09:19:26.267621Z",
          "iopub.execute_input": "2024-05-12T09:19:26.267891Z",
          "iopub.status.idle": "2024-05-12T09:19:26.274668Z",
          "shell.execute_reply.started": "2024-05-12T09:19:26.267867Z",
          "shell.execute_reply": "2024-05-12T09:19:26.273683Z"
        },
        "trusted": true,
        "colab": {
          "base_uri": "https://localhost:8080/"
        },
        "id": "n7TouGcQvWgg",
        "outputId": "e33d8ba6-b871-42bc-e9d7-7c770e516319"
      },
      "execution_count": null,
      "outputs": [
        {
          "output_type": "stream",
          "name": "stdout",
          "text": [
            "Number of rows with 'other': 1000\n"
          ]
        }
      ]
    },
    {
      "cell_type": "code",
      "source": [
        "len(hdo_data)"
      ],
      "metadata": {
        "execution": {
          "iopub.status.busy": "2024-05-12T09:19:26.275854Z",
          "iopub.execute_input": "2024-05-12T09:19:26.276602Z",
          "iopub.status.idle": "2024-05-12T09:19:26.282296Z",
          "shell.execute_reply.started": "2024-05-12T09:19:26.276558Z",
          "shell.execute_reply": "2024-05-12T09:19:26.281476Z"
        },
        "trusted": true,
        "colab": {
          "base_uri": "https://localhost:8080/"
        },
        "id": "lvKRIJvrvWgg",
        "outputId": "dc78c6ef-35e6-4f98-dd1c-b8d2de7fc252"
      },
      "execution_count": null,
      "outputs": [
        {
          "output_type": "execute_result",
          "data": {
            "text/plain": [
              "9877"
            ]
          },
          "metadata": {},
          "execution_count": 21
        }
      ]
    },
    {
      "cell_type": "markdown",
      "source": [
        "# Additional Preprocessing on Text Sequence"
      ],
      "metadata": {
        "id": "NOmppg4pvWgg"
      }
    },
    {
      "cell_type": "code",
      "source": [
        "stemmer = PorterStemmer()\n",
        "lemmatizer = WordNetLemmatizer()\n",
        "\n",
        "def preprocess_text(text):\n",
        "\n",
        "    #lowercasing\n",
        "    text = text.lower()\n",
        "\n",
        "    #tokenization\n",
        "    tokens = word_tokenize(text)\n",
        "\n",
        "    #removing punctuations\n",
        "    tokens = [token for token in tokens if token not in string.punctuation]\n",
        "\n",
        "    #removing stopwords\n",
        "    stop_words = set(stopwords.words('english'))\n",
        "    tokens = [token for token in tokens if token not in stop_words]\n",
        "\n",
        "    preprocessed_text = ' '.join(tokens)\n",
        "\n",
        "    return preprocessed_text"
      ],
      "metadata": {
        "execution": {
          "iopub.status.busy": "2024-05-12T09:19:26.283466Z",
          "iopub.execute_input": "2024-05-12T09:19:26.283797Z",
          "iopub.status.idle": "2024-05-12T09:19:26.290240Z",
          "shell.execute_reply.started": "2024-05-12T09:19:26.283766Z",
          "shell.execute_reply": "2024-05-12T09:19:26.289494Z"
        },
        "trusted": true,
        "id": "mIYbrQB7vWgh"
      },
      "execution_count": null,
      "outputs": []
    },
    {
      "cell_type": "code",
      "source": [
        "hdo_data['text_sequence'] = hdo_data['text_sequence'].apply(preprocess_text)"
      ],
      "metadata": {
        "execution": {
          "iopub.status.busy": "2024-05-12T09:19:26.291472Z",
          "iopub.execute_input": "2024-05-12T09:19:26.291771Z",
          "iopub.status.idle": "2024-05-12T09:19:37.094766Z",
          "shell.execute_reply.started": "2024-05-12T09:19:26.291748Z",
          "shell.execute_reply": "2024-05-12T09:19:37.093797Z"
        },
        "trusted": true,
        "colab": {
          "base_uri": "https://localhost:8080/"
        },
        "id": "zF1WvZ1HvWgh",
        "outputId": "3b9ad502-d368-403b-9f82-033986dbfd39"
      },
      "execution_count": null,
      "outputs": [
        {
          "output_type": "stream",
          "name": "stderr",
          "text": [
            "<ipython-input-23-92d907bf94c8>:1: SettingWithCopyWarning: \n",
            "A value is trying to be set on a copy of a slice from a DataFrame.\n",
            "Try using .loc[row_indexer,col_indexer] = value instead\n",
            "\n",
            "See the caveats in the documentation: https://pandas.pydata.org/pandas-docs/stable/user_guide/indexing.html#returning-a-view-versus-a-copy\n",
            "  hdo_data['text_sequence'] = hdo_data['text_sequence'].apply(preprocess_text)\n"
          ]
        }
      ]
    },
    {
      "cell_type": "code",
      "source": [
        "hdo_data"
      ],
      "metadata": {
        "execution": {
          "iopub.status.busy": "2024-05-12T09:19:37.096088Z",
          "iopub.execute_input": "2024-05-12T09:19:37.096474Z",
          "iopub.status.idle": "2024-05-12T09:19:37.107498Z",
          "shell.execute_reply.started": "2024-05-12T09:19:37.096419Z",
          "shell.execute_reply": "2024-05-12T09:19:37.106494Z"
        },
        "trusted": true,
        "colab": {
          "base_uri": "https://localhost:8080/",
          "height": 423
        },
        "id": "CAaduCTuvWgh",
        "outputId": "eeb76ee4-2a15-4f99-8e33-4d30fcfe849d"
      },
      "execution_count": null,
      "outputs": [
        {
          "output_type": "execute_result",
          "data": {
            "text/plain": [
              "                                          text_sequence      label\n",
              "0     gallbladder leiomyosarcoma gallbladder sarcoma...     arcoma\n",
              "1     autosomal recessive nonsyndromic deafness 1b a...   deafness\n",
              "2     obsolete mucinous bronchioloalveolar lung carc...   obsolete\n",
              "3     spinocerebellar ataxia type 8 autosomal domina...     ataxia\n",
              "4     gallbladder small cell carcinoma definition av...  carcinoma\n",
              "...                                                 ...        ...\n",
              "9872  otopalatodigital syndrome type 1 otopalatodigi...   syndrome\n",
              "9873  fallopian tube germ cell cancer fallopian tube...     cancer\n",
              "9874  obsolete recurrent pediatric cerebellar astroc...   obsolete\n",
              "9875  congenital muscular dystrophy-dystroglycanopat...  dystrophy\n",
              "9876  obsolete calculus bile duct acute cholecystiti...   obsolete\n",
              "\n",
              "[9877 rows x 2 columns]"
            ],
            "text/html": [
              "\n",
              "  <div id=\"df-287695b9-7ac6-49da-852e-91288cb29ccb\" class=\"colab-df-container\">\n",
              "    <div>\n",
              "<style scoped>\n",
              "    .dataframe tbody tr th:only-of-type {\n",
              "        vertical-align: middle;\n",
              "    }\n",
              "\n",
              "    .dataframe tbody tr th {\n",
              "        vertical-align: top;\n",
              "    }\n",
              "\n",
              "    .dataframe thead th {\n",
              "        text-align: right;\n",
              "    }\n",
              "</style>\n",
              "<table border=\"1\" class=\"dataframe\">\n",
              "  <thead>\n",
              "    <tr style=\"text-align: right;\">\n",
              "      <th></th>\n",
              "      <th>text_sequence</th>\n",
              "      <th>label</th>\n",
              "    </tr>\n",
              "  </thead>\n",
              "  <tbody>\n",
              "    <tr>\n",
              "      <th>0</th>\n",
              "      <td>gallbladder leiomyosarcoma gallbladder sarcoma...</td>\n",
              "      <td>arcoma</td>\n",
              "    </tr>\n",
              "    <tr>\n",
              "      <th>1</th>\n",
              "      <td>autosomal recessive nonsyndromic deafness 1b a...</td>\n",
              "      <td>deafness</td>\n",
              "    </tr>\n",
              "    <tr>\n",
              "      <th>2</th>\n",
              "      <td>obsolete mucinous bronchioloalveolar lung carc...</td>\n",
              "      <td>obsolete</td>\n",
              "    </tr>\n",
              "    <tr>\n",
              "      <th>3</th>\n",
              "      <td>spinocerebellar ataxia type 8 autosomal domina...</td>\n",
              "      <td>ataxia</td>\n",
              "    </tr>\n",
              "    <tr>\n",
              "      <th>4</th>\n",
              "      <td>gallbladder small cell carcinoma definition av...</td>\n",
              "      <td>carcinoma</td>\n",
              "    </tr>\n",
              "    <tr>\n",
              "      <th>...</th>\n",
              "      <td>...</td>\n",
              "      <td>...</td>\n",
              "    </tr>\n",
              "    <tr>\n",
              "      <th>9872</th>\n",
              "      <td>otopalatodigital syndrome type 1 otopalatodigi...</td>\n",
              "      <td>syndrome</td>\n",
              "    </tr>\n",
              "    <tr>\n",
              "      <th>9873</th>\n",
              "      <td>fallopian tube germ cell cancer fallopian tube...</td>\n",
              "      <td>cancer</td>\n",
              "    </tr>\n",
              "    <tr>\n",
              "      <th>9874</th>\n",
              "      <td>obsolete recurrent pediatric cerebellar astroc...</td>\n",
              "      <td>obsolete</td>\n",
              "    </tr>\n",
              "    <tr>\n",
              "      <th>9875</th>\n",
              "      <td>congenital muscular dystrophy-dystroglycanopat...</td>\n",
              "      <td>dystrophy</td>\n",
              "    </tr>\n",
              "    <tr>\n",
              "      <th>9876</th>\n",
              "      <td>obsolete calculus bile duct acute cholecystiti...</td>\n",
              "      <td>obsolete</td>\n",
              "    </tr>\n",
              "  </tbody>\n",
              "</table>\n",
              "<p>9877 rows × 2 columns</p>\n",
              "</div>\n",
              "    <div class=\"colab-df-buttons\">\n",
              "\n",
              "  <div class=\"colab-df-container\">\n",
              "    <button class=\"colab-df-convert\" onclick=\"convertToInteractive('df-287695b9-7ac6-49da-852e-91288cb29ccb')\"\n",
              "            title=\"Convert this dataframe to an interactive table.\"\n",
              "            style=\"display:none;\">\n",
              "\n",
              "  <svg xmlns=\"http://www.w3.org/2000/svg\" height=\"24px\" viewBox=\"0 -960 960 960\">\n",
              "    <path d=\"M120-120v-720h720v720H120Zm60-500h600v-160H180v160Zm220 220h160v-160H400v160Zm0 220h160v-160H400v160ZM180-400h160v-160H180v160Zm440 0h160v-160H620v160ZM180-180h160v-160H180v160Zm440 0h160v-160H620v160Z\"/>\n",
              "  </svg>\n",
              "    </button>\n",
              "\n",
              "  <style>\n",
              "    .colab-df-container {\n",
              "      display:flex;\n",
              "      gap: 12px;\n",
              "    }\n",
              "\n",
              "    .colab-df-convert {\n",
              "      background-color: #E8F0FE;\n",
              "      border: none;\n",
              "      border-radius: 50%;\n",
              "      cursor: pointer;\n",
              "      display: none;\n",
              "      fill: #1967D2;\n",
              "      height: 32px;\n",
              "      padding: 0 0 0 0;\n",
              "      width: 32px;\n",
              "    }\n",
              "\n",
              "    .colab-df-convert:hover {\n",
              "      background-color: #E2EBFA;\n",
              "      box-shadow: 0px 1px 2px rgba(60, 64, 67, 0.3), 0px 1px 3px 1px rgba(60, 64, 67, 0.15);\n",
              "      fill: #174EA6;\n",
              "    }\n",
              "\n",
              "    .colab-df-buttons div {\n",
              "      margin-bottom: 4px;\n",
              "    }\n",
              "\n",
              "    [theme=dark] .colab-df-convert {\n",
              "      background-color: #3B4455;\n",
              "      fill: #D2E3FC;\n",
              "    }\n",
              "\n",
              "    [theme=dark] .colab-df-convert:hover {\n",
              "      background-color: #434B5C;\n",
              "      box-shadow: 0px 1px 3px 1px rgba(0, 0, 0, 0.15);\n",
              "      filter: drop-shadow(0px 1px 2px rgba(0, 0, 0, 0.3));\n",
              "      fill: #FFFFFF;\n",
              "    }\n",
              "  </style>\n",
              "\n",
              "    <script>\n",
              "      const buttonEl =\n",
              "        document.querySelector('#df-287695b9-7ac6-49da-852e-91288cb29ccb button.colab-df-convert');\n",
              "      buttonEl.style.display =\n",
              "        google.colab.kernel.accessAllowed ? 'block' : 'none';\n",
              "\n",
              "      async function convertToInteractive(key) {\n",
              "        const element = document.querySelector('#df-287695b9-7ac6-49da-852e-91288cb29ccb');\n",
              "        const dataTable =\n",
              "          await google.colab.kernel.invokeFunction('convertToInteractive',\n",
              "                                                    [key], {});\n",
              "        if (!dataTable) return;\n",
              "\n",
              "        const docLinkHtml = 'Like what you see? Visit the ' +\n",
              "          '<a target=\"_blank\" href=https://colab.research.google.com/notebooks/data_table.ipynb>data table notebook</a>'\n",
              "          + ' to learn more about interactive tables.';\n",
              "        element.innerHTML = '';\n",
              "        dataTable['output_type'] = 'display_data';\n",
              "        await google.colab.output.renderOutput(dataTable, element);\n",
              "        const docLink = document.createElement('div');\n",
              "        docLink.innerHTML = docLinkHtml;\n",
              "        element.appendChild(docLink);\n",
              "      }\n",
              "    </script>\n",
              "  </div>\n",
              "\n",
              "\n",
              "<div id=\"df-3c056885-8176-4cc8-a556-bfa7ec1891c6\">\n",
              "  <button class=\"colab-df-quickchart\" onclick=\"quickchart('df-3c056885-8176-4cc8-a556-bfa7ec1891c6')\"\n",
              "            title=\"Suggest charts\"\n",
              "            style=\"display:none;\">\n",
              "\n",
              "<svg xmlns=\"http://www.w3.org/2000/svg\" height=\"24px\"viewBox=\"0 0 24 24\"\n",
              "     width=\"24px\">\n",
              "    <g>\n",
              "        <path d=\"M19 3H5c-1.1 0-2 .9-2 2v14c0 1.1.9 2 2 2h14c1.1 0 2-.9 2-2V5c0-1.1-.9-2-2-2zM9 17H7v-7h2v7zm4 0h-2V7h2v10zm4 0h-2v-4h2v4z\"/>\n",
              "    </g>\n",
              "</svg>\n",
              "  </button>\n",
              "\n",
              "<style>\n",
              "  .colab-df-quickchart {\n",
              "      --bg-color: #E8F0FE;\n",
              "      --fill-color: #1967D2;\n",
              "      --hover-bg-color: #E2EBFA;\n",
              "      --hover-fill-color: #174EA6;\n",
              "      --disabled-fill-color: #AAA;\n",
              "      --disabled-bg-color: #DDD;\n",
              "  }\n",
              "\n",
              "  [theme=dark] .colab-df-quickchart {\n",
              "      --bg-color: #3B4455;\n",
              "      --fill-color: #D2E3FC;\n",
              "      --hover-bg-color: #434B5C;\n",
              "      --hover-fill-color: #FFFFFF;\n",
              "      --disabled-bg-color: #3B4455;\n",
              "      --disabled-fill-color: #666;\n",
              "  }\n",
              "\n",
              "  .colab-df-quickchart {\n",
              "    background-color: var(--bg-color);\n",
              "    border: none;\n",
              "    border-radius: 50%;\n",
              "    cursor: pointer;\n",
              "    display: none;\n",
              "    fill: var(--fill-color);\n",
              "    height: 32px;\n",
              "    padding: 0;\n",
              "    width: 32px;\n",
              "  }\n",
              "\n",
              "  .colab-df-quickchart:hover {\n",
              "    background-color: var(--hover-bg-color);\n",
              "    box-shadow: 0 1px 2px rgba(60, 64, 67, 0.3), 0 1px 3px 1px rgba(60, 64, 67, 0.15);\n",
              "    fill: var(--button-hover-fill-color);\n",
              "  }\n",
              "\n",
              "  .colab-df-quickchart-complete:disabled,\n",
              "  .colab-df-quickchart-complete:disabled:hover {\n",
              "    background-color: var(--disabled-bg-color);\n",
              "    fill: var(--disabled-fill-color);\n",
              "    box-shadow: none;\n",
              "  }\n",
              "\n",
              "  .colab-df-spinner {\n",
              "    border: 2px solid var(--fill-color);\n",
              "    border-color: transparent;\n",
              "    border-bottom-color: var(--fill-color);\n",
              "    animation:\n",
              "      spin 1s steps(1) infinite;\n",
              "  }\n",
              "\n",
              "  @keyframes spin {\n",
              "    0% {\n",
              "      border-color: transparent;\n",
              "      border-bottom-color: var(--fill-color);\n",
              "      border-left-color: var(--fill-color);\n",
              "    }\n",
              "    20% {\n",
              "      border-color: transparent;\n",
              "      border-left-color: var(--fill-color);\n",
              "      border-top-color: var(--fill-color);\n",
              "    }\n",
              "    30% {\n",
              "      border-color: transparent;\n",
              "      border-left-color: var(--fill-color);\n",
              "      border-top-color: var(--fill-color);\n",
              "      border-right-color: var(--fill-color);\n",
              "    }\n",
              "    40% {\n",
              "      border-color: transparent;\n",
              "      border-right-color: var(--fill-color);\n",
              "      border-top-color: var(--fill-color);\n",
              "    }\n",
              "    60% {\n",
              "      border-color: transparent;\n",
              "      border-right-color: var(--fill-color);\n",
              "    }\n",
              "    80% {\n",
              "      border-color: transparent;\n",
              "      border-right-color: var(--fill-color);\n",
              "      border-bottom-color: var(--fill-color);\n",
              "    }\n",
              "    90% {\n",
              "      border-color: transparent;\n",
              "      border-bottom-color: var(--fill-color);\n",
              "    }\n",
              "  }\n",
              "</style>\n",
              "\n",
              "  <script>\n",
              "    async function quickchart(key) {\n",
              "      const quickchartButtonEl =\n",
              "        document.querySelector('#' + key + ' button');\n",
              "      quickchartButtonEl.disabled = true;  // To prevent multiple clicks.\n",
              "      quickchartButtonEl.classList.add('colab-df-spinner');\n",
              "      try {\n",
              "        const charts = await google.colab.kernel.invokeFunction(\n",
              "            'suggestCharts', [key], {});\n",
              "      } catch (error) {\n",
              "        console.error('Error during call to suggestCharts:', error);\n",
              "      }\n",
              "      quickchartButtonEl.classList.remove('colab-df-spinner');\n",
              "      quickchartButtonEl.classList.add('colab-df-quickchart-complete');\n",
              "    }\n",
              "    (() => {\n",
              "      let quickchartButtonEl =\n",
              "        document.querySelector('#df-3c056885-8176-4cc8-a556-bfa7ec1891c6 button');\n",
              "      quickchartButtonEl.style.display =\n",
              "        google.colab.kernel.accessAllowed ? 'block' : 'none';\n",
              "    })();\n",
              "  </script>\n",
              "</div>\n",
              "    </div>\n",
              "  </div>\n"
            ],
            "application/vnd.google.colaboratory.intrinsic+json": {
              "type": "dataframe",
              "variable_name": "hdo_data",
              "summary": "{\n  \"name\": \"hdo_data\",\n  \"rows\": 9877,\n  \"fields\": [\n    {\n      \"column\": \"text_sequence\",\n      \"properties\": {\n        \"dtype\": \"string\",\n        \"num_unique_values\": 9876,\n        \"samples\": [\n          \"chromosome 15q11.2 deletion syndrome chromosomal deletion syndrome characterized intellectual disbaility dysmorphic facies psychiatric illness autism spectrum disorder has_material_basis_in autosomal dominant inheritance partial deletion long arm chromosome 15 .. synonyms 15q11.2 microdeletion syndrome cross-references omim:615656 ordo:261183 umls_cui c3180937 relationships entities\",\n          \"combined oxidative phosphorylation deficiency 2 combined oxidative phosphorylation deficiency has_material_basis_in homozygous compound heterozygous mutation mrps16 gene chromosome 10q22.2 .. synonyms coxpd2 agenesis corpus callosum dysmorphism fatal lactic acidosis cross-references mesh c566468 omim:610498 ordo:254920. relationships entities\",\n          \"obsolete lymphocutaneous sporotrichosis primary systemic mycosis results_in fungal infection located_in skin located_in subcutaneous tissue located_in lymphatic vessel direct inoculation wood splinters hay has_material_basis_in sporothrix schenckii dimorphic fungus results_in_formation_of erythematous papulonodular lesions site implantation along lymphangitic channels soon become palpable ulcerate .. synonyms cross-references relationships entities\"\n        ],\n        \"semantic_type\": \"\",\n        \"description\": \"\"\n      }\n    },\n    {\n      \"column\": \"label\",\n      \"properties\": {\n        \"dtype\": \"category\",\n        \"num_unique_values\": 84,\n        \"samples\": [\n          \"metabolism\",\n          \"arcoma\",\n          \"typhus\"\n        ],\n        \"semantic_type\": \"\",\n        \"description\": \"\"\n      }\n    }\n  ]\n}"
            }
          },
          "metadata": {},
          "execution_count": 24
        }
      ]
    },
    {
      "cell_type": "markdown",
      "source": [
        "# Tokenize the Sequences"
      ],
      "metadata": {
        "id": "ADDokIbXvWgh"
      }
    },
    {
      "cell_type": "code",
      "source": [
        "#load the BioBERT tokenizer and apply tokeinzation on text_sequences\n",
        "tokenizer = BertTokenizer.from_pretrained(\"monologg/biobert_v1.1_pubmed\", do_lower_case=False)\n",
        "\n",
        "tokenized_texts = [tokenizer.tokenize(text) for text in hdo_data[\"text_sequence\"]]\n",
        "\n",
        "max_seq_length = 512\n",
        "tokenized_texts = [text[:max_seq_length] for text in tokenized_texts]"
      ],
      "metadata": {
        "execution": {
          "iopub.status.busy": "2024-05-12T09:19:37.108856Z",
          "iopub.execute_input": "2024-05-12T09:19:37.109810Z",
          "iopub.status.idle": "2024-05-12T09:19:52.718492Z",
          "shell.execute_reply.started": "2024-05-12T09:19:37.109782Z",
          "shell.execute_reply": "2024-05-12T09:19:52.717665Z"
        },
        "trusted": true,
        "colab": {
          "base_uri": "https://localhost:8080/",
          "height": 304,
          "referenced_widgets": [
            "5ed63cc868084a24b98e59376fd5dfed",
            "628f949f076e49c6be7d5939c53cea6c",
            "80a5b0220e914a568e0ca74e72bde742",
            "09f904847eda4a97ab2e4a5fcb2f4bfc",
            "e9910fd6c8894ba28c994c7ddf998f59",
            "46df318e589941d2b1a3aa18cd3b68cc",
            "2e8d18ba9f094354abecb9dd3c1bccab",
            "95e21e99dd604deba7e467de729a08b1",
            "eb7e5e366c7b4b0bb6162950025ae76f",
            "8b4bb2246be6462ba22bc96829d6325b",
            "022f5d74e0da465baf45da3bd0c01db4",
            "77996b36b5c041799e76d45399c1f149",
            "2233664fbfc0402abc9ace5353580fd3",
            "6a858fd3193b4bb3bb78b652596f21df",
            "42a69aef98784256a2d74c94257e8362",
            "1e816dfa452c411e8e6c80d0b66a03e3",
            "9b820f0600e6476dbab4d73efa986cf4",
            "e415d97961464380b409659e07ae7f40",
            "f5caa626758d41a394896ba2e3282c60",
            "8ffc23ef54b847b98077fd303c527ac5",
            "e7ae0c52dd5c4f26ba0ab4dca94880e6",
            "1a62892c7c074f30bbc64ae0ab3806d7",
            "c7fbff6cb3764b0291ded11f43826f96",
            "9b234a4f289544b4a941534f1925147b",
            "f193774377b944e8ad6851a77e71ada6",
            "85910d231b3a42c1bdcbd831d2b1b4b4",
            "9bddb84cdc7147529d22485cabab1c80",
            "17c66ca2192f450388e49882c7605ee0",
            "7d5546958b074609ab4bbe28c2c6c7df",
            "651842c49d714459a90017ba54096a91",
            "b84686a009f14d9b9a07f6804ad1d804",
            "a22e85d8b5eb4cd2b8c8eab04a0171f1",
            "ac72df2e9fbd488ebf63fab42c7f8fca",
            "87ee69243d8b409997c092b4a377f552",
            "d3467ddc2daa4eedbcd60a6c59c67c42",
            "007ad3c48eff496d805040d1a0a10704",
            "d7fda786b7e34293b4980b936ed3430f",
            "bca5ed0e945e45f7aa387da48f32fb75",
            "cb434a6f2b794272ac4f3aef76fc6aa4",
            "4d18251aea7a4b7eb580ad3dbd62d242",
            "1302613fbfcb4803b1862bb07a183af4",
            "1b5795668ec04cc9a64f7efaad9c6f42",
            "8a8008dc4ff74115af98057f80610739",
            "bb9855afffc141b4b9d3c5eeb916d92c"
          ]
        },
        "id": "4DfLaQKhvWgh",
        "outputId": "52eadb7e-1c41-4311-cfa9-9ea8e037099c"
      },
      "execution_count": null,
      "outputs": [
        {
          "output_type": "stream",
          "name": "stderr",
          "text": [
            "/usr/local/lib/python3.10/dist-packages/huggingface_hub/file_download.py:1132: FutureWarning: `resume_download` is deprecated and will be removed in version 1.0.0. Downloads always resume when possible. If you want to force a new download, use `force_download=True`.\n",
            "  warnings.warn(\n",
            "/usr/local/lib/python3.10/dist-packages/huggingface_hub/utils/_token.py:89: UserWarning: \n",
            "The secret `HF_TOKEN` does not exist in your Colab secrets.\n",
            "To authenticate with the Hugging Face Hub, create a token in your settings tab (https://huggingface.co/settings/tokens), set it as secret in your Google Colab and restart your session.\n",
            "You will be able to reuse this secret in all of your notebooks.\n",
            "Please note that authentication is recommended but still optional to access public models or datasets.\n",
            "  warnings.warn(\n"
          ]
        },
        {
          "output_type": "display_data",
          "data": {
            "text/plain": [
              "tokenizer_config.json:   0%|          | 0.00/51.0 [00:00<?, ?B/s]"
            ],
            "application/vnd.jupyter.widget-view+json": {
              "version_major": 2,
              "version_minor": 0,
              "model_id": "5ed63cc868084a24b98e59376fd5dfed"
            }
          },
          "metadata": {}
        },
        {
          "output_type": "display_data",
          "data": {
            "text/plain": [
              "vocab.txt:   0%|          | 0.00/213k [00:00<?, ?B/s]"
            ],
            "application/vnd.jupyter.widget-view+json": {
              "version_major": 2,
              "version_minor": 0,
              "model_id": "77996b36b5c041799e76d45399c1f149"
            }
          },
          "metadata": {}
        },
        {
          "output_type": "display_data",
          "data": {
            "text/plain": [
              "special_tokens_map.json:   0%|          | 0.00/112 [00:00<?, ?B/s]"
            ],
            "application/vnd.jupyter.widget-view+json": {
              "version_major": 2,
              "version_minor": 0,
              "model_id": "c7fbff6cb3764b0291ded11f43826f96"
            }
          },
          "metadata": {}
        },
        {
          "output_type": "display_data",
          "data": {
            "text/plain": [
              "config.json:   0%|          | 0.00/433 [00:00<?, ?B/s]"
            ],
            "application/vnd.jupyter.widget-view+json": {
              "version_major": 2,
              "version_minor": 0,
              "model_id": "87ee69243d8b409997c092b4a377f552"
            }
          },
          "metadata": {}
        }
      ]
    },
    {
      "cell_type": "markdown",
      "source": [
        "# Apply Padding and Attention masks"
      ],
      "metadata": {
        "id": "qpMKNOsKvWgh"
      }
    },
    {
      "cell_type": "code",
      "source": [
        "padded_sequences = [text + ['[PAD]'] * (max_seq_length - len(text)) for text in tokenized_texts]\n",
        "\n",
        "#converting tokenized sequences to input IDs\n",
        "input_ids = [tokenizer.convert_tokens_to_ids(text) for text in padded_sequences]\n",
        "\n",
        "#creating attention masks\n",
        "attention_masks = [[1 if token != '[PAD]' else 0 for token in text] for text in padded_sequences]"
      ],
      "metadata": {
        "execution": {
          "iopub.status.busy": "2024-05-12T09:19:52.719896Z",
          "iopub.execute_input": "2024-05-12T09:19:52.720339Z",
          "iopub.status.idle": "2024-05-12T09:19:56.191782Z",
          "shell.execute_reply.started": "2024-05-12T09:19:52.720308Z",
          "shell.execute_reply": "2024-05-12T09:19:56.190896Z"
        },
        "trusted": true,
        "id": "UooHU-hmvWgh"
      },
      "execution_count": null,
      "outputs": []
    },
    {
      "cell_type": "code",
      "source": [
        "input_ids = torch.tensor(input_ids)\n",
        "attention_masks = torch.tensor(attention_masks)\n",
        "\n",
        "#encode labels\n",
        "label_encoder = LabelEncoder()\n",
        "hdo_data[\"label_encoded\"] = label_encoder.fit_transform(hdo_data[\"label\"])\n",
        "labels = torch.tensor(hdo_data[\"label_encoded\"])"
      ],
      "metadata": {
        "execution": {
          "iopub.status.busy": "2024-05-12T09:19:56.197530Z",
          "iopub.execute_input": "2024-05-12T09:19:56.197874Z",
          "iopub.status.idle": "2024-05-12T09:19:59.356183Z",
          "shell.execute_reply.started": "2024-05-12T09:19:56.197848Z",
          "shell.execute_reply": "2024-05-12T09:19:59.355223Z"
        },
        "trusted": true,
        "colab": {
          "base_uri": "https://localhost:8080/"
        },
        "id": "VS05_W9_vWgl",
        "outputId": "8a12b64f-fd72-4e7c-f616-b7097e8f0140"
      },
      "execution_count": null,
      "outputs": [
        {
          "output_type": "stream",
          "name": "stderr",
          "text": [
            "<ipython-input-27-83e33de1ea83>:6: SettingWithCopyWarning: \n",
            "A value is trying to be set on a copy of a slice from a DataFrame.\n",
            "Try using .loc[row_indexer,col_indexer] = value instead\n",
            "\n",
            "See the caveats in the documentation: https://pandas.pydata.org/pandas-docs/stable/user_guide/indexing.html#returning-a-view-versus-a-copy\n",
            "  hdo_data[\"label_encoded\"] = label_encoder.fit_transform(hdo_data[\"label\"])\n"
          ]
        }
      ]
    },
    {
      "cell_type": "markdown",
      "source": [
        "# Truncate the Text"
      ],
      "metadata": {
        "id": "eWwduq_DvWgl"
      }
    },
    {
      "cell_type": "code",
      "source": [
        "#truncating tokenized text sequences which exceed the maximum length\n",
        "exceeding_indices = [i for i, text in enumerate(tokenized_texts) if len(text) > max_seq_length]\n",
        "for i in exceeding_indices:\n",
        "    input_ids[i] = input_ids[i][:max_seq_length]\n",
        "    attention_masks[i] = attention_masks[i][:max_seq_length]"
      ],
      "metadata": {
        "execution": {
          "iopub.status.busy": "2024-05-12T09:19:59.357288Z",
          "iopub.execute_input": "2024-05-12T09:19:59.357582Z",
          "iopub.status.idle": "2024-05-12T09:19:59.364496Z",
          "shell.execute_reply.started": "2024-05-12T09:19:59.357558Z",
          "shell.execute_reply": "2024-05-12T09:19:59.363477Z"
        },
        "trusted": true,
        "id": "Ybhg37gUvWgl"
      },
      "execution_count": null,
      "outputs": []
    },
    {
      "cell_type": "markdown",
      "source": [
        "# Initialize the BioBERT Model"
      ],
      "metadata": {
        "id": "pzsxknuMvWgl"
      }
    },
    {
      "cell_type": "code",
      "source": [
        "config = BertConfig.from_pretrained(\"monologg/biobert_v1.1_pubmed\", num_labels=len(set(hdo_data[\"label_encoded\"])))\n",
        "\n",
        "model = BertForSequenceClassification.from_pretrained(\"monologg/biobert_v1.1_pubmed\", config=config)"
      ],
      "metadata": {
        "execution": {
          "iopub.status.busy": "2024-05-12T09:19:59.365683Z",
          "iopub.execute_input": "2024-05-12T09:19:59.366700Z",
          "iopub.status.idle": "2024-05-12T09:20:02.280613Z",
          "shell.execute_reply.started": "2024-05-12T09:19:59.366662Z",
          "shell.execute_reply": "2024-05-12T09:20:02.279698Z"
        },
        "trusted": true,
        "colab": {
          "referenced_widgets": [
            "96e0bb4d74014411ad1ee331a0d4f4d5"
          ]
        },
        "id": "UclXKx3xvWgl",
        "outputId": "bbb5c7b5-1c58-42e8-e62f-a1a072d82b95"
      },
      "execution_count": null,
      "outputs": [
        {
          "output_type": "display_data",
          "data": {
            "text/plain": "model.safetensors:   0%|          | 0.00/436M [00:00<?, ?B/s]",
            "application/vnd.jupyter.widget-view+json": {
              "version_major": 2,
              "version_minor": 0,
              "model_id": "96e0bb4d74014411ad1ee331a0d4f4d5"
            }
          },
          "metadata": {}
        },
        {
          "name": "stderr",
          "text": "Some weights of BertForSequenceClassification were not initialized from the model checkpoint at monologg/biobert_v1.1_pubmed and are newly initialized: ['classifier.bias', 'classifier.weight']\nYou should probably TRAIN this model on a down-stream task to be able to use it for predictions and inference.\n",
          "output_type": "stream"
        }
      ]
    },
    {
      "cell_type": "markdown",
      "source": [
        "# Split the data into Train-Test (85:15)"
      ],
      "metadata": {
        "id": "a5hBLG1_vWgl"
      }
    },
    {
      "cell_type": "code",
      "source": [
        "len(labels)"
      ],
      "metadata": {
        "execution": {
          "iopub.status.busy": "2024-05-12T09:20:02.282008Z",
          "iopub.execute_input": "2024-05-12T09:20:02.282733Z",
          "iopub.status.idle": "2024-05-12T09:20:02.288891Z",
          "shell.execute_reply.started": "2024-05-12T09:20:02.282694Z",
          "shell.execute_reply": "2024-05-12T09:20:02.287824Z"
        },
        "trusted": true,
        "id": "NXu0QlYAvWgm",
        "outputId": "e6ee4487-a59a-4b69-c8f1-18b8f6b015a9"
      },
      "execution_count": null,
      "outputs": [
        {
          "execution_count": 31,
          "output_type": "execute_result",
          "data": {
            "text/plain": "9877"
          },
          "metadata": {}
        }
      ]
    },
    {
      "cell_type": "code",
      "source": [
        "batch_size = 16\n",
        "\n",
        "train_inputs, val_inputs, train_labels, val_labels = train_test_split(input_ids, labels, random_state=42, test_size=0.15)\n",
        "train_masks, val_masks, _, _ = train_test_split(attention_masks, input_ids, random_state=42, test_size=0.15)"
      ],
      "metadata": {
        "execution": {
          "iopub.status.busy": "2024-05-12T09:20:02.290096Z",
          "iopub.execute_input": "2024-05-12T09:20:02.290351Z",
          "iopub.status.idle": "2024-05-12T09:20:02.374461Z",
          "shell.execute_reply.started": "2024-05-12T09:20:02.290330Z",
          "shell.execute_reply": "2024-05-12T09:20:02.373194Z"
        },
        "trusted": true,
        "id": "qbJOCL8svWgm"
      },
      "execution_count": null,
      "outputs": []
    },
    {
      "cell_type": "markdown",
      "source": [
        "# Create Dataloaders"
      ],
      "metadata": {
        "id": "ALKOz8CevWgm"
      }
    },
    {
      "cell_type": "code",
      "source": [
        "train_data = TensorDataset(train_inputs, train_masks, train_labels)\n",
        "train_sampler = RandomSampler(train_data)\n",
        "train_dataloader = DataLoader(train_data, sampler=train_sampler, batch_size=batch_size)\n",
        "\n",
        "val_data = TensorDataset(val_inputs, val_masks, val_labels)\n",
        "val_dataloader = DataLoader(val_data, batch_size=batch_size)"
      ],
      "metadata": {
        "execution": {
          "iopub.status.busy": "2024-05-12T09:20:02.376081Z",
          "iopub.execute_input": "2024-05-12T09:20:02.376691Z",
          "iopub.status.idle": "2024-05-12T09:20:02.384101Z",
          "shell.execute_reply.started": "2024-05-12T09:20:02.376647Z",
          "shell.execute_reply": "2024-05-12T09:20:02.383035Z"
        },
        "trusted": true,
        "id": "_PNMgKK8vWgm"
      },
      "execution_count": null,
      "outputs": []
    },
    {
      "cell_type": "markdown",
      "source": [
        "**Set Parameters**"
      ],
      "metadata": {
        "id": "2fAJBDS_vWgm"
      }
    },
    {
      "cell_type": "code",
      "source": [
        "device = torch.device(\"cuda\" if torch.cuda.is_available() else \"cpu\")\n",
        "model.to(device)\n",
        "model.train()\n",
        "optimizer = torch.optim.AdamW(model.parameters(), lr=2e-5)"
      ],
      "metadata": {
        "execution": {
          "iopub.status.busy": "2024-05-12T09:20:02.386534Z",
          "iopub.execute_input": "2024-05-12T09:20:02.386905Z",
          "iopub.status.idle": "2024-05-12T09:20:02.814663Z",
          "shell.execute_reply.started": "2024-05-12T09:20:02.386873Z",
          "shell.execute_reply": "2024-05-12T09:20:02.813600Z"
        },
        "trusted": true,
        "id": "72ulgouvvWgm"
      },
      "execution_count": null,
      "outputs": []
    },
    {
      "cell_type": "markdown",
      "source": [
        "# Train BioBERT"
      ],
      "metadata": {
        "id": "fQc8ZCyVvWgm"
      }
    },
    {
      "cell_type": "code",
      "source": [
        "num_epochs = 10\n",
        "for epoch in range(num_epochs):\n",
        "    print(f\"Epoch {epoch+1}/{num_epochs}\")\n",
        "    print(\"-\" * 10)\n",
        "\n",
        "    #training loop\n",
        "    model.train()\n",
        "    train_loss = 0\n",
        "\n",
        "    for batch in tqdm(train_dataloader, desc=\"Training\"):\n",
        "        batch = tuple(t.to(device) for t in batch)\n",
        "        inputs = {\"input_ids\": batch[0], \"attention_mask\": batch[1], \"labels\": batch[2]}\n",
        "        optimizer.zero_grad()\n",
        "        outputs = model(**inputs)\n",
        "        loss = outputs.loss\n",
        "        train_loss += loss.item()\n",
        "        loss.backward()\n",
        "        optimizer.step()\n",
        "    avg_train_loss = train_loss / len(train_dataloader)\n",
        "    print(f\"Average training loss: {avg_train_loss:.4f}\")"
      ],
      "metadata": {
        "execution": {
          "iopub.status.busy": "2024-05-12T09:20:02.816017Z",
          "iopub.execute_input": "2024-05-12T09:20:02.816301Z",
          "iopub.status.idle": "2024-05-12T11:25:14.861104Z",
          "shell.execute_reply.started": "2024-05-12T09:20:02.816278Z",
          "shell.execute_reply": "2024-05-12T11:25:14.860131Z"
        },
        "trusted": true,
        "id": "O_QxWwI_vWgm",
        "outputId": "97600a4f-13c2-430d-d319-182600d8b108"
      },
      "execution_count": null,
      "outputs": [
        {
          "name": "stdout",
          "text": "Epoch 1/10\n----------\n",
          "output_type": "stream"
        },
        {
          "name": "stderr",
          "text": "Training: 100%|██████████| 525/525 [12:26<00:00,  1.42s/it]\n",
          "output_type": "stream"
        },
        {
          "name": "stdout",
          "text": "Average training loss: 1.9956\nEpoch 2/10\n----------\n",
          "output_type": "stream"
        },
        {
          "name": "stderr",
          "text": "Training: 100%|██████████| 525/525 [12:32<00:00,  1.43s/it]\n",
          "output_type": "stream"
        },
        {
          "name": "stdout",
          "text": "Average training loss: 0.5722\nEpoch 3/10\n----------\n",
          "output_type": "stream"
        },
        {
          "name": "stderr",
          "text": "Training: 100%|██████████| 525/525 [12:32<00:00,  1.43s/it]\n",
          "output_type": "stream"
        },
        {
          "name": "stdout",
          "text": "Average training loss: 0.3003\nEpoch 4/10\n----------\n",
          "output_type": "stream"
        },
        {
          "name": "stderr",
          "text": "Training: 100%|██████████| 525/525 [12:32<00:00,  1.43s/it]\n",
          "output_type": "stream"
        },
        {
          "name": "stdout",
          "text": "Average training loss: 0.1874\nEpoch 5/10\n----------\n",
          "output_type": "stream"
        },
        {
          "name": "stderr",
          "text": "Training: 100%|██████████| 525/525 [12:31<00:00,  1.43s/it]\n",
          "output_type": "stream"
        },
        {
          "name": "stdout",
          "text": "Average training loss: 0.1109\nEpoch 6/10\n----------\n",
          "output_type": "stream"
        },
        {
          "name": "stderr",
          "text": "Training: 100%|██████████| 525/525 [12:31<00:00,  1.43s/it]\n",
          "output_type": "stream"
        },
        {
          "name": "stdout",
          "text": "Average training loss: 0.0861\nEpoch 7/10\n----------\n",
          "output_type": "stream"
        },
        {
          "name": "stderr",
          "text": "Training: 100%|██████████| 525/525 [12:31<00:00,  1.43s/it]\n",
          "output_type": "stream"
        },
        {
          "name": "stdout",
          "text": "Average training loss: 0.0638\nEpoch 8/10\n----------\n",
          "output_type": "stream"
        },
        {
          "name": "stderr",
          "text": "Training: 100%|██████████| 525/525 [12:30<00:00,  1.43s/it]\n",
          "output_type": "stream"
        },
        {
          "name": "stdout",
          "text": "Average training loss: 0.0536\nEpoch 9/10\n----------\n",
          "output_type": "stream"
        },
        {
          "name": "stderr",
          "text": "Training: 100%|██████████| 525/525 [12:31<00:00,  1.43s/it]\n",
          "output_type": "stream"
        },
        {
          "name": "stdout",
          "text": "Average training loss: 0.0539\nEpoch 10/10\n----------\n",
          "output_type": "stream"
        },
        {
          "name": "stderr",
          "text": "Training: 100%|██████████| 525/525 [12:31<00:00,  1.43s/it]",
          "output_type": "stream"
        },
        {
          "name": "stdout",
          "text": "Average training loss: 0.0390\n",
          "output_type": "stream"
        },
        {
          "name": "stderr",
          "text": "\n",
          "output_type": "stream"
        }
      ]
    },
    {
      "cell_type": "markdown",
      "source": [
        "# Testing of BioBERT"
      ],
      "metadata": {
        "id": "fzoyQQDcvWgn"
      }
    },
    {
      "cell_type": "code",
      "source": [
        "model.eval()\n",
        "predictions = []\n",
        "true_labels = []\n",
        "\n",
        "with torch.no_grad():\n",
        "    for batch in tqdm(val_dataloader, desc=\"Evaluation\"):\n",
        "        batch = tuple(t.to(device) for t in batch)\n",
        "        inputs = {\"input_ids\": batch[0], \"attention_mask\": batch[1]}\n",
        "        labels = batch[2].cpu().numpy()\n",
        "        outputs = model(**inputs)\n",
        "        logits = outputs.logits\n",
        "        predicted_labels = torch.argmax(logits, dim=1).cpu().numpy()\n",
        "        predictions.extend(predicted_labels)\n",
        "        true_labels.extend(labels)\n",
        "\n",
        "print(\"Classification Report:\")\n",
        "print(classification_report(true_labels, predictions, zero_division=\"warn\"))"
      ],
      "metadata": {
        "execution": {
          "iopub.status.busy": "2024-05-12T11:25:14.862335Z",
          "iopub.execute_input": "2024-05-12T11:25:14.862722Z",
          "iopub.status.idle": "2024-05-12T11:26:05.584775Z",
          "shell.execute_reply.started": "2024-05-12T11:25:14.862695Z",
          "shell.execute_reply": "2024-05-12T11:26:05.583794Z"
        },
        "trusted": true,
        "id": "hGPsAox2vWgn",
        "outputId": "c73fb9ec-9da5-4456-ec5e-c95be16a9cb3"
      },
      "execution_count": null,
      "outputs": [
        {
          "name": "stderr",
          "text": "Evaluation: 100%|██████████| 93/93 [00:50<00:00,  1.83it/s]",
          "output_type": "stream"
        },
        {
          "name": "stdout",
          "text": "Classification Report:\n              precision    recall  f1-score   support\n\n           0       1.00      0.93      0.97        15\n           1       1.00      1.00      1.00         2\n           2       1.00      1.00      1.00         2\n           3       1.00      1.00      1.00        14\n           4       0.67      1.00      0.80         2\n           5       1.00      1.00      1.00         8\n           6       0.50      1.00      0.67         1\n           7       0.98      1.00      0.99        40\n           9       1.00      1.00      1.00         9\n          10       1.00      1.00      1.00         4\n          11       0.95      1.00      0.98        20\n          12       1.00      1.00      1.00         3\n          13       1.00      0.98      0.99        61\n          14       0.00      0.00      0.00         1\n          15       1.00      1.00      1.00        93\n          16       1.00      1.00      1.00         6\n          17       1.00      1.00      1.00         5\n          19       1.00      1.00      1.00        26\n          20       0.98      1.00      0.99        84\n          21       0.91      1.00      0.95        10\n          22       1.00      1.00      1.00         2\n          23       0.96      1.00      0.98        53\n          24       1.00      1.00      1.00         8\n          25       1.00      1.00      1.00        30\n          26       1.00      0.91      0.95        11\n          27       1.00      1.00      1.00        37\n          28       1.00      1.00      1.00        12\n          29       1.00      1.00      1.00         2\n          30       1.00      1.00      1.00         6\n          31       1.00      1.00      1.00        16\n          32       1.00      1.00      1.00         2\n          33       0.93      1.00      0.97        14\n          34       1.00      1.00      1.00         1\n          35       1.00      1.00      1.00         6\n          36       1.00      1.00      1.00         8\n          37       1.00      1.00      1.00        11\n          39       1.00      1.00      1.00         7\n          42       1.00      1.00      1.00         1\n          43       1.00      1.00      1.00         3\n          44       1.00      1.00      1.00         7\n          45       1.00      1.00      1.00         1\n          46       0.00      0.00      0.00         1\n          47       1.00      0.97      0.99        37\n          48       1.00      1.00      1.00         3\n          49       1.00      1.00      1.00         5\n          50       0.92      1.00      0.96        11\n          51       1.00      1.00      1.00        14\n          52       1.00      1.00      1.00         2\n          53       1.00      1.00      1.00         4\n          55       1.00      1.00      1.00        22\n          56       1.00      1.00      1.00         4\n          57       1.00      1.00      1.00         6\n          58       1.00      1.00      1.00         1\n          60       1.00      0.50      0.67         2\n          61       0.71      1.00      0.83         5\n          62       1.00      1.00      1.00        25\n          63       1.00      1.00      1.00         3\n          64       1.00      1.00      1.00         1\n          65       0.99      0.99      0.99       210\n          66       1.00      1.00      1.00         1\n          67       0.97      0.92      0.94       151\n          68       1.00      0.86      0.92         7\n          70       1.00      1.00      1.00        13\n          71       1.00      1.00      1.00        10\n          72       1.00      1.00      1.00        13\n          74       1.00      1.00      1.00         1\n          75       1.00      1.00      1.00         3\n          76       0.99      1.00      0.99       219\n          77       1.00      0.80      0.89         5\n          78       1.00      0.67      0.80         3\n          79       1.00      1.00      1.00         5\n          80       1.00      1.00      1.00        49\n          82       1.00      1.00      1.00         2\n\n    accuracy                           0.98      1482\n   macro avg       0.95      0.95      0.95      1482\nweighted avg       0.98      0.98      0.98      1482\n\n",
          "output_type": "stream"
        },
        {
          "name": "stderr",
          "text": "\n/opt/conda/lib/python3.10/site-packages/sklearn/metrics/_classification.py:1344: UndefinedMetricWarning: Precision and F-score are ill-defined and being set to 0.0 in labels with no predicted samples. Use `zero_division` parameter to control this behavior.\n  _warn_prf(average, modifier, msg_start, len(result))\n/opt/conda/lib/python3.10/site-packages/sklearn/metrics/_classification.py:1344: UndefinedMetricWarning: Precision and F-score are ill-defined and being set to 0.0 in labels with no predicted samples. Use `zero_division` parameter to control this behavior.\n  _warn_prf(average, modifier, msg_start, len(result))\n/opt/conda/lib/python3.10/site-packages/sklearn/metrics/_classification.py:1344: UndefinedMetricWarning: Precision and F-score are ill-defined and being set to 0.0 in labels with no predicted samples. Use `zero_division` parameter to control this behavior.\n  _warn_prf(average, modifier, msg_start, len(result))\n",
          "output_type": "stream"
        }
      ]
    },
    {
      "cell_type": "markdown",
      "source": [
        "# Initialize the BERT model and tokenizer"
      ],
      "metadata": {
        "id": "jLdq1vlIvWgn"
      }
    },
    {
      "cell_type": "code",
      "source": [
        "# Load BERT tokenizer\n",
        "tokenizer = BertTokenizer.from_pretrained('bert-base-uncased', do_lower_case=True)\n",
        "tokenized_texts = [tokenizer.tokenize(text) for text in hdo_data[\"text_sequence\"]]\n",
        "\n",
        "max_seq_length = 512\n",
        "tokenized_texts = [text[:max_seq_length] for text in tokenized_texts]"
      ],
      "metadata": {
        "execution": {
          "iopub.status.busy": "2024-05-12T11:28:22.094280Z",
          "iopub.execute_input": "2024-05-12T11:28:22.094975Z",
          "iopub.status.idle": "2024-05-12T11:28:41.025793Z",
          "shell.execute_reply.started": "2024-05-12T11:28:22.094942Z",
          "shell.execute_reply": "2024-05-12T11:28:41.024964Z"
        },
        "trusted": true,
        "colab": {
          "base_uri": "https://localhost:8080/",
          "height": 200,
          "referenced_widgets": [
            "24925188b5d04c63bfce790683b2bc4e",
            "1de47a51ae7146efb3c624d27955511e",
            "e73031cb9ec244c68cfa7ba222f724ab",
            "218d21712f5e48b98895f8f3121f90bc",
            "928cc07e8d7640aba29053c71fea5167",
            "90d15ac225b2433fa60f8f8fe667bbc2",
            "b647ea587f024ca59539bba63c8df28f",
            "b2a193e9277f4bfb965896c20b9a8833",
            "924c264f86344bc6b3a479eda83479bb",
            "f08fb27067644a4bb9b806bf6373f1bc",
            "915940c6cb05457a88e8df66b0c53c3e",
            "4eb8e51bc2664e8c944bd64df5a42081",
            "a8c02ac3ff2b4f6582bb2d9581472e88",
            "ab4e41d262d14e2389fdee8b9e60a66d",
            "64414ac5597a4e4b8a1430afcc9ddd3b",
            "4aaddfa3f6634d95a378d9e931cd7754",
            "8d4880ac19384b839910ade4a033e3b5",
            "422ed6ee6a5c4dcdbc79aa742d2bb203",
            "b5e10fa869824c179850e7302e5edcd5",
            "ef1702012fe5432eb5dd2e387809e329",
            "09012f9b2c3e4d9990c78ee6585581b1",
            "4450c90cc77e45ec8029fa783c29b500",
            "df12925d747d4adbb67244ed569a6d8e",
            "b9e794e30d0947b88368042bf480bc0f",
            "8f81faaa26cc43ab8e9883444676bde7",
            "ec6d277456a141c0a5c7271000ded349",
            "a7eb9609bc9a4c05a890ee8843d6e6b3",
            "fbe9aca87c0f4c79a672645d12a01fde",
            "aa8734db9f664e9b97b95abe01296db4",
            "a1820777f8574c96a48cea6ca57ecdce",
            "9d01eafde5d84068a89e17ae6b406f70",
            "bdaad1fc82f748a79d89c2d1b9a65c09",
            "82127bd42b154066948376df2bd75bcd",
            "c3aa64a269da4157aaf9aacad34cb77d",
            "dd31d5ec4c8749f3862a60697c5505dd",
            "7e09f9b4fdec4c9aa8fe46cc4a37de79",
            "dc90cbfcbd614fe8a04979c74ec46521",
            "f95a3e4b2ffe4b478d3e2d1865f08b1c",
            "fe42b585ce574ac3841d7e2ceccb1e85",
            "67f1d37e65ff4da281e6e548209270f6",
            "52cbb2ff72454acea1eabd0a67927c48",
            "9ba3bf2d3c0e462aa470796d0021304d",
            "3098417647c6471e951e1683696b2e5d",
            "7f169b3a00df4ddd9e8cfc783bc41065"
          ]
        },
        "id": "RohWmR2SvWgn",
        "outputId": "07c3c8ae-3f6e-4952-f262-9e8aa4581ff2"
      },
      "execution_count": null,
      "outputs": [
        {
          "output_type": "stream",
          "name": "stderr",
          "text": [
            "/usr/local/lib/python3.10/dist-packages/huggingface_hub/file_download.py:1132: FutureWarning: `resume_download` is deprecated and will be removed in version 1.0.0. Downloads always resume when possible. If you want to force a new download, use `force_download=True`.\n",
            "  warnings.warn(\n"
          ]
        },
        {
          "output_type": "display_data",
          "data": {
            "text/plain": [
              "tokenizer_config.json:   0%|          | 0.00/48.0 [00:00<?, ?B/s]"
            ],
            "application/vnd.jupyter.widget-view+json": {
              "version_major": 2,
              "version_minor": 0,
              "model_id": "24925188b5d04c63bfce790683b2bc4e"
            }
          },
          "metadata": {}
        },
        {
          "output_type": "display_data",
          "data": {
            "text/plain": [
              "vocab.txt:   0%|          | 0.00/232k [00:00<?, ?B/s]"
            ],
            "application/vnd.jupyter.widget-view+json": {
              "version_major": 2,
              "version_minor": 0,
              "model_id": "4eb8e51bc2664e8c944bd64df5a42081"
            }
          },
          "metadata": {}
        },
        {
          "output_type": "display_data",
          "data": {
            "text/plain": [
              "tokenizer.json:   0%|          | 0.00/466k [00:00<?, ?B/s]"
            ],
            "application/vnd.jupyter.widget-view+json": {
              "version_major": 2,
              "version_minor": 0,
              "model_id": "df12925d747d4adbb67244ed569a6d8e"
            }
          },
          "metadata": {}
        },
        {
          "output_type": "display_data",
          "data": {
            "text/plain": [
              "config.json:   0%|          | 0.00/570 [00:00<?, ?B/s]"
            ],
            "application/vnd.jupyter.widget-view+json": {
              "version_major": 2,
              "version_minor": 0,
              "model_id": "c3aa64a269da4157aaf9aacad34cb77d"
            }
          },
          "metadata": {}
        }
      ]
    },
    {
      "cell_type": "code",
      "source": [
        "padded_sequences = [text + ['[PAD]'] * (max_seq_length - len(text)) for text in tokenized_texts]\n",
        "\n",
        "# Convert tokenized sequences to input IDs\n",
        "input_ids = [tokenizer.convert_tokens_to_ids(text) for text in padded_sequences]\n",
        "\n",
        "# Create attention masks\n",
        "attention_masks = [[1 if token != '[PAD]' else 0 for token in text] for text in padded_sequences]"
      ],
      "metadata": {
        "execution": {
          "iopub.status.busy": "2024-05-12T11:28:41.027292Z",
          "iopub.execute_input": "2024-05-12T11:28:41.027601Z",
          "iopub.status.idle": "2024-05-12T11:28:44.431053Z",
          "shell.execute_reply.started": "2024-05-12T11:28:41.027576Z",
          "shell.execute_reply": "2024-05-12T11:28:44.430259Z"
        },
        "trusted": true,
        "id": "3uUqJjpsvWgn"
      },
      "execution_count": null,
      "outputs": []
    },
    {
      "cell_type": "code",
      "source": [
        "input_ids = torch.tensor(input_ids)\n",
        "attention_masks = torch.tensor(attention_masks)\n",
        "\n",
        "# Encode labels\n",
        "label_encoder = LabelEncoder()\n",
        "hdo_data[\"label_encoded\"] = label_encoder.fit_transform(hdo_data[\"label\"])\n",
        "labels = torch.tensor(hdo_data[\"label_encoded\"])"
      ],
      "metadata": {
        "execution": {
          "iopub.status.busy": "2024-05-12T11:28:49.446850Z",
          "iopub.execute_input": "2024-05-12T11:28:49.447214Z",
          "iopub.status.idle": "2024-05-12T11:28:52.674894Z",
          "shell.execute_reply.started": "2024-05-12T11:28:49.447179Z",
          "shell.execute_reply": "2024-05-12T11:28:52.673940Z"
        },
        "trusted": true,
        "colab": {
          "base_uri": "https://localhost:8080/"
        },
        "id": "Y4dRk-wzvWgo",
        "outputId": "8222cf06-b464-43d2-f9fe-e67b73329db7"
      },
      "execution_count": null,
      "outputs": [
        {
          "output_type": "stream",
          "name": "stderr",
          "text": [
            "<ipython-input-33-9557e5c3cc3c>:6: SettingWithCopyWarning: \n",
            "A value is trying to be set on a copy of a slice from a DataFrame.\n",
            "Try using .loc[row_indexer,col_indexer] = value instead\n",
            "\n",
            "See the caveats in the documentation: https://pandas.pydata.org/pandas-docs/stable/user_guide/indexing.html#returning-a-view-versus-a-copy\n",
            "  hdo_data[\"label_encoded\"] = label_encoder.fit_transform(hdo_data[\"label\"])\n"
          ]
        }
      ]
    },
    {
      "cell_type": "code",
      "source": [
        "# Handle sequence length error\n",
        "# If any tokenized sequence exceeds the maximum length, truncate it\n",
        "exceeding_indices = [i for i, text in enumerate(tokenized_texts) if len(text) > max_seq_length]\n",
        "for i in exceeding_indices:\n",
        "    input_ids[i] = input_ids[i][:max_seq_length]\n",
        "    attention_masks[i] = attention_masks[i][:max_seq_length]"
      ],
      "metadata": {
        "execution": {
          "iopub.status.busy": "2024-05-12T11:28:57.846807Z",
          "iopub.execute_input": "2024-05-12T11:28:57.847670Z",
          "iopub.status.idle": "2024-05-12T11:28:57.854283Z",
          "shell.execute_reply.started": "2024-05-12T11:28:57.847634Z",
          "shell.execute_reply": "2024-05-12T11:28:57.853319Z"
        },
        "trusted": true,
        "id": "AqU8Q24gvWgo"
      },
      "execution_count": null,
      "outputs": []
    },
    {
      "cell_type": "code",
      "source": [
        "model = BertForSequenceClassification.from_pretrained('bert-base-uncased', num_labels=len(set(hdo_data[\"label_encoded\"])))\n",
        "len(set(hdo_data[\"label_encoded\"]))"
      ],
      "metadata": {
        "execution": {
          "iopub.status.busy": "2024-05-12T11:29:01.511288Z",
          "iopub.execute_input": "2024-05-12T11:29:01.512023Z",
          "iopub.status.idle": "2024-05-12T11:29:03.560376Z",
          "shell.execute_reply.started": "2024-05-12T11:29:01.511992Z",
          "shell.execute_reply": "2024-05-12T11:29:03.559191Z"
        },
        "trusted": true,
        "colab": {
          "base_uri": "https://localhost:8080/",
          "height": 156,
          "referenced_widgets": [
            "55196a055f7e46a0b693c01d8c442475",
            "04f1d690e8034ce09ecfb867bec8526e",
            "9e42a506209642dc97df8a056319e830",
            "a8af83bf5f68483c9ea0100ecad80d62",
            "edddd90810264913a942c189a6f7c863",
            "6d88e571259045eb88efa91120828ae3",
            "c6f6a7ddc1bf4b4c86022d90ad4a82ca",
            "40983135eb7049d4be53d3c331f3ef67",
            "e2e4c001ca3947089f600bfe4f31c406",
            "d34e06f7265149a1b7368b695f554fba",
            "aa16ea2d9f1c4cdcafee30eedc13c7d5"
          ]
        },
        "id": "fmzM6IccvWgo",
        "outputId": "180b8aac-ad4b-4180-bcbe-c8e423924754"
      },
      "execution_count": null,
      "outputs": [
        {
          "output_type": "stream",
          "name": "stderr",
          "text": [
            "/usr/local/lib/python3.10/dist-packages/huggingface_hub/file_download.py:1132: FutureWarning: `resume_download` is deprecated and will be removed in version 1.0.0. Downloads always resume when possible. If you want to force a new download, use `force_download=True`.\n",
            "  warnings.warn(\n"
          ]
        },
        {
          "output_type": "display_data",
          "data": {
            "text/plain": [
              "model.safetensors:   0%|          | 0.00/440M [00:00<?, ?B/s]"
            ],
            "application/vnd.jupyter.widget-view+json": {
              "version_major": 2,
              "version_minor": 0,
              "model_id": "55196a055f7e46a0b693c01d8c442475"
            }
          },
          "metadata": {}
        },
        {
          "output_type": "stream",
          "name": "stderr",
          "text": [
            "Some weights of BertForSequenceClassification were not initialized from the model checkpoint at bert-base-uncased and are newly initialized: ['classifier.bias', 'classifier.weight']\n",
            "You should probably TRAIN this model on a down-stream task to be able to use it for predictions and inference.\n"
          ]
        },
        {
          "output_type": "execute_result",
          "data": {
            "text/plain": [
              "84"
            ]
          },
          "metadata": {},
          "execution_count": 35
        }
      ]
    },
    {
      "cell_type": "code",
      "source": [
        "device = torch.device(\"cuda\" if torch.cuda.is_available() else \"cpu\")\n",
        "model.to(device)\n",
        "model.train()\n",
        "optimizer = torch.optim.AdamW(model.parameters(), lr=2e-5)"
      ],
      "metadata": {
        "execution": {
          "iopub.status.busy": "2024-05-12T11:29:07.410482Z",
          "iopub.execute_input": "2024-05-12T11:29:07.411368Z",
          "iopub.status.idle": "2024-05-12T11:29:07.532641Z",
          "shell.execute_reply.started": "2024-05-12T11:29:07.411332Z",
          "shell.execute_reply": "2024-05-12T11:29:07.531905Z"
        },
        "trusted": true,
        "id": "neHJOkSTvWgo"
      },
      "execution_count": null,
      "outputs": []
    },
    {
      "cell_type": "code",
      "source": [
        "num_epochs = 10\n",
        "for epoch in range(num_epochs):\n",
        "    print(f\"Epoch {epoch+1}/{num_epochs}\")\n",
        "    print(\"-\" * 10)\n",
        "\n",
        "    # Training loop\n",
        "    model.train()\n",
        "    train_loss = 0\n",
        "    for batch in tqdm(train_dataloader, desc=\"Training\"):\n",
        "        batch = tuple(t.to(device) for t in batch)\n",
        "        inputs = {\"input_ids\": batch[0], \"attention_mask\": batch[1], \"labels\": batch[2]}\n",
        "        optimizer.zero_grad()\n",
        "        outputs = model(**inputs)\n",
        "        loss = outputs.loss\n",
        "        train_loss += loss.item()\n",
        "        loss.backward()\n",
        "        optimizer.step()\n",
        "    avg_train_loss = train_loss / len(train_dataloader)\n",
        "    print(f\"Average training loss: {avg_train_loss:.4f}\")"
      ],
      "metadata": {
        "execution": {
          "iopub.status.busy": "2024-05-12T11:29:10.830974Z",
          "iopub.execute_input": "2024-05-12T11:29:10.831355Z"
        },
        "trusted": true,
        "colab": {
          "base_uri": "https://localhost:8080/"
        },
        "id": "q8qqz5cAvWgo",
        "outputId": "45b0ac16-9fa7-4118-bdc2-192173670454"
      },
      "execution_count": null,
      "outputs": [
        {
          "output_type": "stream",
          "name": "stdout",
          "text": [
            "Epoch 1/10\n",
            "----------\n"
          ]
        },
        {
          "output_type": "stream",
          "name": "stderr",
          "text": [
            "Training: 100%|██████████| 525/525 [12:29<00:00,  1.43s/it]\n"
          ]
        },
        {
          "output_type": "stream",
          "name": "stdout",
          "text": [
            "Average training loss: 2.3916\n",
            "Epoch 2/10\n",
            "----------\n"
          ]
        },
        {
          "output_type": "stream",
          "name": "stderr",
          "text": [
            "Training: 100%|██████████| 525/525 [12:37<00:00,  1.44s/it]\n"
          ]
        },
        {
          "output_type": "stream",
          "name": "stdout",
          "text": [
            "Average training loss: 0.9231\n",
            "Epoch 3/10\n",
            "----------\n"
          ]
        },
        {
          "output_type": "stream",
          "name": "stderr",
          "text": [
            "Training: 100%|██████████| 525/525 [12:37<00:00,  1.44s/it]\n"
          ]
        },
        {
          "output_type": "stream",
          "name": "stdout",
          "text": [
            "Average training loss: 0.4953\n",
            "Epoch 4/10\n",
            "----------\n"
          ]
        },
        {
          "output_type": "stream",
          "name": "stderr",
          "text": [
            "Training: 100%|██████████| 525/525 [12:37<00:00,  1.44s/it]\n"
          ]
        },
        {
          "output_type": "stream",
          "name": "stdout",
          "text": [
            "Average training loss: 0.3069\n",
            "Epoch 5/10\n",
            "----------\n"
          ]
        },
        {
          "output_type": "stream",
          "name": "stderr",
          "text": [
            "Training: 100%|██████████| 525/525 [12:36<00:00,  1.44s/it]\n"
          ]
        },
        {
          "output_type": "stream",
          "name": "stdout",
          "text": [
            "Average training loss: 0.2109\n",
            "Epoch 6/10\n",
            "----------\n"
          ]
        },
        {
          "output_type": "stream",
          "name": "stderr",
          "text": [
            "Training: 100%|██████████| 525/525 [12:37<00:00,  1.44s/it]\n"
          ]
        },
        {
          "output_type": "stream",
          "name": "stdout",
          "text": [
            "Average training loss: 0.1430\n",
            "Epoch 7/10\n",
            "----------\n"
          ]
        },
        {
          "output_type": "stream",
          "name": "stderr",
          "text": [
            "Training: 100%|██████████| 525/525 [12:36<00:00,  1.44s/it]\n"
          ]
        },
        {
          "output_type": "stream",
          "name": "stdout",
          "text": [
            "Average training loss: 0.1169\n",
            "Epoch 8/10\n",
            "----------\n"
          ]
        },
        {
          "output_type": "stream",
          "name": "stderr",
          "text": [
            "Training: 100%|██████████| 525/525 [12:36<00:00,  1.44s/it]\n"
          ]
        },
        {
          "output_type": "stream",
          "name": "stdout",
          "text": [
            "Average training loss: 0.0856\n",
            "Epoch 9/10\n",
            "----------\n"
          ]
        },
        {
          "output_type": "stream",
          "name": "stderr",
          "text": [
            "Training: 100%|██████████| 525/525 [12:36<00:00,  1.44s/it]\n"
          ]
        },
        {
          "output_type": "stream",
          "name": "stdout",
          "text": [
            "Average training loss: 0.0683\n",
            "Epoch 10/10\n",
            "----------\n"
          ]
        },
        {
          "output_type": "stream",
          "name": "stderr",
          "text": [
            "Training: 100%|██████████| 525/525 [12:36<00:00,  1.44s/it]"
          ]
        },
        {
          "output_type": "stream",
          "name": "stdout",
          "text": [
            "Average training loss: 0.0609\n"
          ]
        },
        {
          "output_type": "stream",
          "name": "stderr",
          "text": [
            "\n"
          ]
        }
      ]
    },
    {
      "cell_type": "code",
      "source": [
        "model.eval()\n",
        "predictions = []\n",
        "true_labels = []\n",
        "\n",
        "with torch.no_grad():\n",
        "    for batch in tqdm(val_dataloader, desc=\"Evaluation\"):\n",
        "        batch = tuple(t.to(device) for t in batch)\n",
        "        inputs = {\"input_ids\": batch[0], \"attention_mask\": batch[1]}\n",
        "        labels = batch[2].cpu().numpy()\n",
        "        outputs = model(**inputs)\n",
        "        logits = outputs.logits\n",
        "        predicted_labels = torch.argmax(logits, dim=1).cpu().numpy()\n",
        "        predictions.extend(predicted_labels)\n",
        "        true_labels.extend(labels)\n",
        "\n",
        "print(\"Classification Report:\")\n",
        "print(classification_report(true_labels, predictions, zero_division=\"warn\"))"
      ],
      "metadata": {
        "colab": {
          "base_uri": "https://localhost:8080/"
        },
        "id": "_Bu3TCM7vWgp",
        "outputId": "27970eb9-621c-43fb-a40f-1fd499b1f54f"
      },
      "execution_count": null,
      "outputs": [
        {
          "output_type": "stream",
          "name": "stderr",
          "text": [
            "Evaluation: 100%|██████████| 93/93 [00:52<00:00,  1.78it/s]"
          ]
        },
        {
          "output_type": "stream",
          "name": "stdout",
          "text": [
            "Classification Report:\n",
            "              precision    recall  f1-score   support\n",
            "\n",
            "           0       1.00      0.93      0.97        15\n",
            "           1       1.00      1.00      1.00         2\n",
            "           2       1.00      1.00      1.00         2\n",
            "           3       1.00      1.00      1.00        14\n",
            "           4       1.00      1.00      1.00         2\n",
            "           5       0.88      0.88      0.88         8\n",
            "           6       1.00      1.00      1.00         1\n",
            "           7       0.95      1.00      0.98        40\n",
            "           9       1.00      1.00      1.00         9\n",
            "          10       0.80      1.00      0.89         4\n",
            "          11       0.95      0.95      0.95        20\n",
            "          12       1.00      1.00      1.00         3\n",
            "          13       1.00      0.95      0.97        61\n",
            "          14       0.00      0.00      0.00         1\n",
            "          15       0.98      1.00      0.99        93\n",
            "          16       1.00      1.00      1.00         6\n",
            "          17       1.00      1.00      1.00         5\n",
            "          19       0.96      1.00      0.98        26\n",
            "          20       0.99      1.00      0.99        84\n",
            "          21       0.83      1.00      0.91        10\n",
            "          22       1.00      1.00      1.00         2\n",
            "          23       0.96      0.98      0.97        53\n",
            "          24       1.00      1.00      1.00         8\n",
            "          25       1.00      0.97      0.98        30\n",
            "          26       1.00      0.82      0.90        11\n",
            "          27       1.00      1.00      1.00        37\n",
            "          28       1.00      1.00      1.00        12\n",
            "          29       1.00      1.00      1.00         2\n",
            "          30       1.00      1.00      1.00         6\n",
            "          31       0.94      1.00      0.97        16\n",
            "          32       1.00      0.50      0.67         2\n",
            "          33       1.00      0.93      0.96        14\n",
            "          34       1.00      1.00      1.00         1\n",
            "          35       1.00      1.00      1.00         6\n",
            "          36       1.00      1.00      1.00         8\n",
            "          37       0.91      0.91      0.91        11\n",
            "          39       1.00      1.00      1.00         7\n",
            "          42       1.00      1.00      1.00         1\n",
            "          43       1.00      1.00      1.00         3\n",
            "          44       1.00      1.00      1.00         7\n",
            "          45       1.00      1.00      1.00         1\n",
            "          46       1.00      1.00      1.00         1\n",
            "          47       0.97      1.00      0.99        37\n",
            "          48       1.00      1.00      1.00         3\n",
            "          49       1.00      1.00      1.00         5\n",
            "          50       1.00      1.00      1.00        11\n",
            "          51       0.93      1.00      0.97        14\n",
            "          52       1.00      1.00      1.00         2\n",
            "          53       1.00      1.00      1.00         4\n",
            "          55       1.00      1.00      1.00        22\n",
            "          56       1.00      1.00      1.00         4\n",
            "          57       0.86      1.00      0.92         6\n",
            "          58       0.50      1.00      0.67         1\n",
            "          60       0.00      0.00      0.00         2\n",
            "          61       0.56      1.00      0.71         5\n",
            "          62       0.96      1.00      0.98        25\n",
            "          63       1.00      1.00      1.00         3\n",
            "          64       1.00      1.00      1.00         1\n",
            "          65       0.98      0.98      0.98       210\n",
            "          66       1.00      1.00      1.00         1\n",
            "          67       0.97      0.92      0.95       151\n",
            "          68       1.00      0.86      0.92         7\n",
            "          70       0.93      1.00      0.96        13\n",
            "          71       1.00      1.00      1.00        10\n",
            "          72       1.00      1.00      1.00        13\n",
            "          74       1.00      1.00      1.00         1\n",
            "          75       1.00      0.67      0.80         3\n",
            "          76       0.99      1.00      0.99       219\n",
            "          77       1.00      1.00      1.00         5\n",
            "          78       0.67      0.67      0.67         3\n",
            "          79       0.83      1.00      0.91         5\n",
            "          80       1.00      0.96      0.98        49\n",
            "          82       1.00      1.00      1.00         2\n",
            "\n",
            "    accuracy                           0.97      1482\n",
            "   macro avg       0.94      0.94      0.94      1482\n",
            "weighted avg       0.97      0.97      0.97      1482\n",
            "\n"
          ]
        },
        {
          "output_type": "stream",
          "name": "stderr",
          "text": [
            "\n",
            "/usr/local/lib/python3.10/dist-packages/sklearn/metrics/_classification.py:1344: UndefinedMetricWarning: Precision and F-score are ill-defined and being set to 0.0 in labels with no predicted samples. Use `zero_division` parameter to control this behavior.\n",
            "  _warn_prf(average, modifier, msg_start, len(result))\n",
            "/usr/local/lib/python3.10/dist-packages/sklearn/metrics/_classification.py:1344: UndefinedMetricWarning: Precision and F-score are ill-defined and being set to 0.0 in labels with no predicted samples. Use `zero_division` parameter to control this behavior.\n",
            "  _warn_prf(average, modifier, msg_start, len(result))\n",
            "/usr/local/lib/python3.10/dist-packages/sklearn/metrics/_classification.py:1344: UndefinedMetricWarning: Precision and F-score are ill-defined and being set to 0.0 in labels with no predicted samples. Use `zero_division` parameter to control this behavior.\n",
            "  _warn_prf(average, modifier, msg_start, len(result))\n"
          ]
        }
      ]
    }
  ]
}